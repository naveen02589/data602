{
 "cells": [
  {
   "cell_type": "code",
   "execution_count": 219,
   "id": "da1cdd06",
   "metadata": {},
   "outputs": [
    {
     "name": "stdout",
     "output_type": "stream",
     "text": [
      "<class 'pandas.core.frame.DataFrame'>\n",
      "RangeIndex: 558837 entries, 0 to 558836\n",
      "Data columns (total 16 columns):\n",
      " #   Column        Non-Null Count   Dtype  \n",
      "---  ------        --------------   -----  \n",
      " 0   year          558837 non-null  int64  \n",
      " 1   make          548536 non-null  object \n",
      " 2   model         548438 non-null  object \n",
      " 3   trim          548186 non-null  object \n",
      " 4   body          545642 non-null  object \n",
      " 5   transmission  493484 non-null  object \n",
      " 6   vin           558833 non-null  object \n",
      " 7   state         558837 non-null  object \n",
      " 8   condition     547043 non-null  object \n",
      " 9   odometer      558743 non-null  float64\n",
      " 10  color         558088 non-null  object \n",
      " 11  interior      558088 non-null  object \n",
      " 12  seller        558837 non-null  object \n",
      " 13  mmr           558837 non-null  object \n",
      " 14  sellingprice  558837 non-null  int64  \n",
      " 15  saledate      558837 non-null  object \n",
      "dtypes: float64(1), int64(2), object(13)\n",
      "memory usage: 68.2+ MB\n"
     ]
    }
   ],
   "source": [
    "import pandas as pd\n",
    "import numpy as np\n",
    "import matplotlib.pyplot as plt\n",
    "%matplotlib inline\n",
    "\n",
    "df = pd.read_csv('https://raw.githubusercontent.com/msaricaumbc/DS_data/master/ds602/car_prices/car_prices.csv', low_memory=False)\n",
    "\n",
    "df.info()"
   ]
  },
  {
   "cell_type": "markdown",
   "id": "e8d9eb74",
   "metadata": {},
   "source": [
    "## Question 1. Determine the number of missing values in each column."
   ]
  },
  {
   "cell_type": "code",
   "execution_count": 220,
   "id": "5b19980f",
   "metadata": {},
   "outputs": [
    {
     "data": {
      "text/plain": [
       "year                0\n",
       "make            10301\n",
       "model           10399\n",
       "trim            10651\n",
       "body            13195\n",
       "transmission    65353\n",
       "vin                 4\n",
       "state               0\n",
       "condition       11794\n",
       "odometer           94\n",
       "color             749\n",
       "interior          749\n",
       "seller              0\n",
       "mmr                 0\n",
       "sellingprice        0\n",
       "saledate            0\n",
       "dtype: int64"
      ]
     },
     "execution_count": 220,
     "metadata": {},
     "output_type": "execute_result"
    }
   ],
   "source": [
    "df.isnull().sum()"
   ]
  },
  {
   "cell_type": "code",
   "execution_count": 221,
   "id": "29eed878",
   "metadata": {},
   "outputs": [
    {
     "data": {
      "text/plain": [
       "year             0.000000\n",
       "make             1.843292\n",
       "model            1.860829\n",
       "trim             1.905922\n",
       "body             2.361154\n",
       "transmission    11.694465\n",
       "vin              0.000716\n",
       "state            0.000000\n",
       "condition        2.110454\n",
       "odometer         0.016821\n",
       "color            0.134028\n",
       "interior         0.134028\n",
       "seller           0.000000\n",
       "mmr              0.000000\n",
       "sellingprice     0.000000\n",
       "saledate         0.000000\n",
       "dtype: float64"
      ]
     },
     "execution_count": 221,
     "metadata": {},
     "output_type": "execute_result"
    }
   ],
   "source": [
    "nrows = df.shape[0]\n",
    "(df.isnull().sum()/nrows)*100"
   ]
  },
  {
   "cell_type": "markdown",
   "id": "c8c69aa5-c660-4e0f-a3fa-4c31b2f40f8b",
   "metadata": {},
   "source": [
    "### transmission has 11% missing values of data which is more compared to other columns "
   ]
  },
  {
   "cell_type": "markdown",
   "id": "a8bfc1dc",
   "metadata": {},
   "source": [
    "## Question 2. Check the data types."
   ]
  },
  {
   "cell_type": "code",
   "execution_count": 222,
   "id": "64f9a7c6",
   "metadata": {},
   "outputs": [
    {
     "data": {
      "text/plain": [
       "year              int64\n",
       "make             object\n",
       "model            object\n",
       "trim             object\n",
       "body             object\n",
       "transmission     object\n",
       "vin              object\n",
       "state            object\n",
       "condition        object\n",
       "odometer        float64\n",
       "color            object\n",
       "interior         object\n",
       "seller           object\n",
       "mmr              object\n",
       "sellingprice      int64\n",
       "saledate         object\n",
       "dtype: object"
      ]
     },
     "execution_count": 222,
     "metadata": {},
     "output_type": "execute_result"
    }
   ],
   "source": [
    "df.dtypes"
   ]
  },
  {
   "cell_type": "code",
   "execution_count": 223,
   "id": "77f4449c-2f1c-4675-9b4a-6ed07aa1c09c",
   "metadata": {},
   "outputs": [
    {
     "data": {
      "text/html": [
       "<div>\n",
       "<style scoped>\n",
       "    .dataframe tbody tr th:only-of-type {\n",
       "        vertical-align: middle;\n",
       "    }\n",
       "\n",
       "    .dataframe tbody tr th {\n",
       "        vertical-align: top;\n",
       "    }\n",
       "\n",
       "    .dataframe thead th {\n",
       "        text-align: right;\n",
       "    }\n",
       "</style>\n",
       "<table border=\"1\" class=\"dataframe\">\n",
       "  <thead>\n",
       "    <tr style=\"text-align: right;\">\n",
       "      <th></th>\n",
       "      <th>year</th>\n",
       "      <th>make</th>\n",
       "      <th>model</th>\n",
       "      <th>trim</th>\n",
       "      <th>body</th>\n",
       "      <th>transmission</th>\n",
       "      <th>vin</th>\n",
       "      <th>state</th>\n",
       "      <th>condition</th>\n",
       "      <th>odometer</th>\n",
       "      <th>color</th>\n",
       "      <th>interior</th>\n",
       "      <th>seller</th>\n",
       "      <th>mmr</th>\n",
       "      <th>sellingprice</th>\n",
       "      <th>saledate</th>\n",
       "    </tr>\n",
       "  </thead>\n",
       "  <tbody>\n",
       "    <tr>\n",
       "      <th>0</th>\n",
       "      <td>2015</td>\n",
       "      <td>Kia</td>\n",
       "      <td>Sorento</td>\n",
       "      <td>LX</td>\n",
       "      <td>SUV</td>\n",
       "      <td>automatic</td>\n",
       "      <td>5xyktca69fg566472</td>\n",
       "      <td>ca</td>\n",
       "      <td>5</td>\n",
       "      <td>16639.0</td>\n",
       "      <td>white</td>\n",
       "      <td>black</td>\n",
       "      <td>kia motors america, inc</td>\n",
       "      <td>20500</td>\n",
       "      <td>21500</td>\n",
       "      <td>Tue Dec 16 2014 12:30:00 GMT-0800 (PST)</td>\n",
       "    </tr>\n",
       "    <tr>\n",
       "      <th>1</th>\n",
       "      <td>2015</td>\n",
       "      <td>Kia</td>\n",
       "      <td>Sorento</td>\n",
       "      <td>LX</td>\n",
       "      <td>SUV</td>\n",
       "      <td>automatic</td>\n",
       "      <td>5xyktca69fg561319</td>\n",
       "      <td>ca</td>\n",
       "      <td>5</td>\n",
       "      <td>9393.0</td>\n",
       "      <td>white</td>\n",
       "      <td>beige</td>\n",
       "      <td>kia motors america, inc</td>\n",
       "      <td>20800</td>\n",
       "      <td>21500</td>\n",
       "      <td>Tue Dec 16 2014 12:30:00 GMT-0800 (PST)</td>\n",
       "    </tr>\n",
       "    <tr>\n",
       "      <th>2</th>\n",
       "      <td>2014</td>\n",
       "      <td>BMW</td>\n",
       "      <td>3 Series</td>\n",
       "      <td>328i SULEV</td>\n",
       "      <td>Sedan</td>\n",
       "      <td>automatic</td>\n",
       "      <td>wba3c1c51ek116351</td>\n",
       "      <td>ca</td>\n",
       "      <td>4.5</td>\n",
       "      <td>1331.0</td>\n",
       "      <td>gray</td>\n",
       "      <td>black</td>\n",
       "      <td>financial services remarketing (lease)</td>\n",
       "      <td>31900</td>\n",
       "      <td>30000</td>\n",
       "      <td>Thu Jan 15 2015 04:30:00 GMT-0800 (PST)</td>\n",
       "    </tr>\n",
       "    <tr>\n",
       "      <th>3</th>\n",
       "      <td>2015</td>\n",
       "      <td>Volvo</td>\n",
       "      <td>S60</td>\n",
       "      <td>T5</td>\n",
       "      <td>Sedan</td>\n",
       "      <td>automatic</td>\n",
       "      <td>yv1612tb4f1310987</td>\n",
       "      <td>ca</td>\n",
       "      <td>4.1</td>\n",
       "      <td>14282.0</td>\n",
       "      <td>white</td>\n",
       "      <td>black</td>\n",
       "      <td>volvo na rep/world omni</td>\n",
       "      <td>27500</td>\n",
       "      <td>27750</td>\n",
       "      <td>Thu Jan 29 2015 04:30:00 GMT-0800 (PST)</td>\n",
       "    </tr>\n",
       "    <tr>\n",
       "      <th>4</th>\n",
       "      <td>2014</td>\n",
       "      <td>BMW</td>\n",
       "      <td>6 Series Gran Coupe</td>\n",
       "      <td>650i</td>\n",
       "      <td>Sedan</td>\n",
       "      <td>automatic</td>\n",
       "      <td>wba6b2c57ed129731</td>\n",
       "      <td>ca</td>\n",
       "      <td>4.3</td>\n",
       "      <td>2641.0</td>\n",
       "      <td>gray</td>\n",
       "      <td>black</td>\n",
       "      <td>financial services remarketing (lease)</td>\n",
       "      <td>66000</td>\n",
       "      <td>67000</td>\n",
       "      <td>Thu Dec 18 2014 12:30:00 GMT-0800 (PST)</td>\n",
       "    </tr>\n",
       "  </tbody>\n",
       "</table>\n",
       "</div>"
      ],
      "text/plain": [
       "   year   make                model        trim   body transmission  \\\n",
       "0  2015    Kia              Sorento          LX    SUV    automatic   \n",
       "1  2015    Kia              Sorento          LX    SUV    automatic   \n",
       "2  2014    BMW             3 Series  328i SULEV  Sedan    automatic   \n",
       "3  2015  Volvo                  S60          T5  Sedan    automatic   \n",
       "4  2014    BMW  6 Series Gran Coupe        650i  Sedan    automatic   \n",
       "\n",
       "                 vin state condition  odometer  color interior  \\\n",
       "0  5xyktca69fg566472    ca         5   16639.0  white    black   \n",
       "1  5xyktca69fg561319    ca         5    9393.0  white    beige   \n",
       "2  wba3c1c51ek116351    ca       4.5    1331.0   gray    black   \n",
       "3  yv1612tb4f1310987    ca       4.1   14282.0  white    black   \n",
       "4  wba6b2c57ed129731    ca       4.3    2641.0   gray    black   \n",
       "\n",
       "                                   seller    mmr  sellingprice  \\\n",
       "0                 kia motors america, inc  20500         21500   \n",
       "1                 kia motors america, inc  20800         21500   \n",
       "2  financial services remarketing (lease)  31900         30000   \n",
       "3                 volvo na rep/world omni  27500         27750   \n",
       "4  financial services remarketing (lease)  66000         67000   \n",
       "\n",
       "                                  saledate  \n",
       "0  Tue Dec 16 2014 12:30:00 GMT-0800 (PST)  \n",
       "1  Tue Dec 16 2014 12:30:00 GMT-0800 (PST)  \n",
       "2  Thu Jan 15 2015 04:30:00 GMT-0800 (PST)  \n",
       "3  Thu Jan 29 2015 04:30:00 GMT-0800 (PST)  \n",
       "4  Thu Dec 18 2014 12:30:00 GMT-0800 (PST)  "
      ]
     },
     "execution_count": 223,
     "metadata": {},
     "output_type": "execute_result"
    }
   ],
   "source": [
    "df.head()\n"
   ]
  },
  {
   "cell_type": "code",
   "execution_count": 224,
   "id": "1e9ee612-c2c1-40fe-b32c-2a22cad00c07",
   "metadata": {},
   "outputs": [
    {
     "data": {
      "text/plain": [
       "str"
      ]
     },
     "execution_count": 224,
     "metadata": {},
     "output_type": "execute_result"
    }
   ],
   "source": [
    "type(df['condition'].iloc[0])"
   ]
  },
  {
   "cell_type": "code",
   "execution_count": 225,
   "id": "aac7aa64-4a67-4062-905a-5caa07f5c38f",
   "metadata": {},
   "outputs": [
    {
     "data": {
      "text/plain": [
       "str"
      ]
     },
     "execution_count": 225,
     "metadata": {},
     "output_type": "execute_result"
    }
   ],
   "source": [
    "type(df['mmr'].iloc[0])"
   ]
  },
  {
   "cell_type": "markdown",
   "id": "05c7f6b6-2043-46f0-a553-f1a47009d951",
   "metadata": {},
   "source": [
    "### mmr is coded as string, it should be coded to int\n",
    "### condition is coded as string, it should be coded to float"
   ]
  },
  {
   "cell_type": "code",
   "execution_count": 226,
   "id": "0b414491-0652-4893-ba7b-3e94fc7051c3",
   "metadata": {},
   "outputs": [
    {
     "ename": "ValueError",
     "evalue": "invalid literal for int() with base 10: 'vw credit prequalified'",
     "output_type": "error",
     "traceback": [
      "\u001b[1;31m---------------------------------------------------------------------------\u001b[0m",
      "\u001b[1;31mValueError\u001b[0m                                Traceback (most recent call last)",
      "Cell \u001b[1;32mIn [226], line 1\u001b[0m\n\u001b[1;32m----> 1\u001b[0m df[\u001b[38;5;124m'\u001b[39m\u001b[38;5;124mmmr\u001b[39m\u001b[38;5;124m'\u001b[39m] \u001b[38;5;241m=\u001b[39m \u001b[43mdf\u001b[49m\u001b[43m[\u001b[49m\u001b[38;5;124;43m'\u001b[39;49m\u001b[38;5;124;43mmmr\u001b[39;49m\u001b[38;5;124;43m'\u001b[39;49m\u001b[43m]\u001b[49m\u001b[38;5;241;43m.\u001b[39;49m\u001b[43mastype\u001b[49m\u001b[43m(\u001b[49m\u001b[43mnp\u001b[49m\u001b[38;5;241;43m.\u001b[39;49m\u001b[43mint64\u001b[49m\u001b[43m)\u001b[49m\n",
      "File \u001b[1;32m~\\AppData\\Local\\Programs\\Python\\Python310\\lib\\site-packages\\pandas\\core\\generic.py:5912\u001b[0m, in \u001b[0;36mNDFrame.astype\u001b[1;34m(self, dtype, copy, errors)\u001b[0m\n\u001b[0;32m   5905\u001b[0m     results \u001b[38;5;241m=\u001b[39m [\n\u001b[0;32m   5906\u001b[0m         \u001b[38;5;28mself\u001b[39m\u001b[38;5;241m.\u001b[39miloc[:, i]\u001b[38;5;241m.\u001b[39mastype(dtype, copy\u001b[38;5;241m=\u001b[39mcopy)\n\u001b[0;32m   5907\u001b[0m         \u001b[38;5;28;01mfor\u001b[39;00m i \u001b[38;5;129;01min\u001b[39;00m \u001b[38;5;28mrange\u001b[39m(\u001b[38;5;28mlen\u001b[39m(\u001b[38;5;28mself\u001b[39m\u001b[38;5;241m.\u001b[39mcolumns))\n\u001b[0;32m   5908\u001b[0m     ]\n\u001b[0;32m   5910\u001b[0m \u001b[38;5;28;01melse\u001b[39;00m:\n\u001b[0;32m   5911\u001b[0m     \u001b[38;5;66;03m# else, only a single dtype is given\u001b[39;00m\n\u001b[1;32m-> 5912\u001b[0m     new_data \u001b[38;5;241m=\u001b[39m \u001b[38;5;28;43mself\u001b[39;49m\u001b[38;5;241;43m.\u001b[39;49m\u001b[43m_mgr\u001b[49m\u001b[38;5;241;43m.\u001b[39;49m\u001b[43mastype\u001b[49m\u001b[43m(\u001b[49m\u001b[43mdtype\u001b[49m\u001b[38;5;241;43m=\u001b[39;49m\u001b[43mdtype\u001b[49m\u001b[43m,\u001b[49m\u001b[43m \u001b[49m\u001b[43mcopy\u001b[49m\u001b[38;5;241;43m=\u001b[39;49m\u001b[43mcopy\u001b[49m\u001b[43m,\u001b[49m\u001b[43m \u001b[49m\u001b[43merrors\u001b[49m\u001b[38;5;241;43m=\u001b[39;49m\u001b[43merrors\u001b[49m\u001b[43m)\u001b[49m\n\u001b[0;32m   5913\u001b[0m     \u001b[38;5;28;01mreturn\u001b[39;00m \u001b[38;5;28mself\u001b[39m\u001b[38;5;241m.\u001b[39m_constructor(new_data)\u001b[38;5;241m.\u001b[39m__finalize__(\u001b[38;5;28mself\u001b[39m, method\u001b[38;5;241m=\u001b[39m\u001b[38;5;124m\"\u001b[39m\u001b[38;5;124mastype\u001b[39m\u001b[38;5;124m\"\u001b[39m)\n\u001b[0;32m   5915\u001b[0m \u001b[38;5;66;03m# GH 33113: handle empty frame or series\u001b[39;00m\n",
      "File \u001b[1;32m~\\AppData\\Local\\Programs\\Python\\Python310\\lib\\site-packages\\pandas\\core\\internals\\managers.py:419\u001b[0m, in \u001b[0;36mBaseBlockManager.astype\u001b[1;34m(self, dtype, copy, errors)\u001b[0m\n\u001b[0;32m    418\u001b[0m \u001b[38;5;28;01mdef\u001b[39;00m \u001b[38;5;21mastype\u001b[39m(\u001b[38;5;28mself\u001b[39m: T, dtype, copy: \u001b[38;5;28mbool\u001b[39m \u001b[38;5;241m=\u001b[39m \u001b[38;5;28;01mFalse\u001b[39;00m, errors: \u001b[38;5;28mstr\u001b[39m \u001b[38;5;241m=\u001b[39m \u001b[38;5;124m\"\u001b[39m\u001b[38;5;124mraise\u001b[39m\u001b[38;5;124m\"\u001b[39m) \u001b[38;5;241m-\u001b[39m\u001b[38;5;241m>\u001b[39m T:\n\u001b[1;32m--> 419\u001b[0m     \u001b[38;5;28;01mreturn\u001b[39;00m \u001b[38;5;28;43mself\u001b[39;49m\u001b[38;5;241;43m.\u001b[39;49m\u001b[43mapply\u001b[49m\u001b[43m(\u001b[49m\u001b[38;5;124;43m\"\u001b[39;49m\u001b[38;5;124;43mastype\u001b[39;49m\u001b[38;5;124;43m\"\u001b[39;49m\u001b[43m,\u001b[49m\u001b[43m \u001b[49m\u001b[43mdtype\u001b[49m\u001b[38;5;241;43m=\u001b[39;49m\u001b[43mdtype\u001b[49m\u001b[43m,\u001b[49m\u001b[43m \u001b[49m\u001b[43mcopy\u001b[49m\u001b[38;5;241;43m=\u001b[39;49m\u001b[43mcopy\u001b[49m\u001b[43m,\u001b[49m\u001b[43m \u001b[49m\u001b[43merrors\u001b[49m\u001b[38;5;241;43m=\u001b[39;49m\u001b[43merrors\u001b[49m\u001b[43m)\u001b[49m\n",
      "File \u001b[1;32m~\\AppData\\Local\\Programs\\Python\\Python310\\lib\\site-packages\\pandas\\core\\internals\\managers.py:304\u001b[0m, in \u001b[0;36mBaseBlockManager.apply\u001b[1;34m(self, f, align_keys, ignore_failures, **kwargs)\u001b[0m\n\u001b[0;32m    302\u001b[0m         applied \u001b[38;5;241m=\u001b[39m b\u001b[38;5;241m.\u001b[39mapply(f, \u001b[38;5;241m*\u001b[39m\u001b[38;5;241m*\u001b[39mkwargs)\n\u001b[0;32m    303\u001b[0m     \u001b[38;5;28;01melse\u001b[39;00m:\n\u001b[1;32m--> 304\u001b[0m         applied \u001b[38;5;241m=\u001b[39m \u001b[38;5;28mgetattr\u001b[39m(b, f)(\u001b[38;5;241m*\u001b[39m\u001b[38;5;241m*\u001b[39mkwargs)\n\u001b[0;32m    305\u001b[0m \u001b[38;5;28;01mexcept\u001b[39;00m (\u001b[38;5;167;01mTypeError\u001b[39;00m, \u001b[38;5;167;01mNotImplementedError\u001b[39;00m):\n\u001b[0;32m    306\u001b[0m     \u001b[38;5;28;01mif\u001b[39;00m \u001b[38;5;129;01mnot\u001b[39;00m ignore_failures:\n",
      "File \u001b[1;32m~\\AppData\\Local\\Programs\\Python\\Python310\\lib\\site-packages\\pandas\\core\\internals\\blocks.py:580\u001b[0m, in \u001b[0;36mBlock.astype\u001b[1;34m(self, dtype, copy, errors)\u001b[0m\n\u001b[0;32m    562\u001b[0m \u001b[38;5;124;03m\"\"\"\u001b[39;00m\n\u001b[0;32m    563\u001b[0m \u001b[38;5;124;03mCoerce to the new dtype.\u001b[39;00m\n\u001b[0;32m    564\u001b[0m \n\u001b[1;32m   (...)\u001b[0m\n\u001b[0;32m    576\u001b[0m \u001b[38;5;124;03mBlock\u001b[39;00m\n\u001b[0;32m    577\u001b[0m \u001b[38;5;124;03m\"\"\"\u001b[39;00m\n\u001b[0;32m    578\u001b[0m values \u001b[38;5;241m=\u001b[39m \u001b[38;5;28mself\u001b[39m\u001b[38;5;241m.\u001b[39mvalues\n\u001b[1;32m--> 580\u001b[0m new_values \u001b[38;5;241m=\u001b[39m \u001b[43mastype_array_safe\u001b[49m\u001b[43m(\u001b[49m\u001b[43mvalues\u001b[49m\u001b[43m,\u001b[49m\u001b[43m \u001b[49m\u001b[43mdtype\u001b[49m\u001b[43m,\u001b[49m\u001b[43m \u001b[49m\u001b[43mcopy\u001b[49m\u001b[38;5;241;43m=\u001b[39;49m\u001b[43mcopy\u001b[49m\u001b[43m,\u001b[49m\u001b[43m \u001b[49m\u001b[43merrors\u001b[49m\u001b[38;5;241;43m=\u001b[39;49m\u001b[43merrors\u001b[49m\u001b[43m)\u001b[49m\n\u001b[0;32m    582\u001b[0m new_values \u001b[38;5;241m=\u001b[39m maybe_coerce_values(new_values)\n\u001b[0;32m    583\u001b[0m newb \u001b[38;5;241m=\u001b[39m \u001b[38;5;28mself\u001b[39m\u001b[38;5;241m.\u001b[39mmake_block(new_values)\n",
      "File \u001b[1;32m~\\AppData\\Local\\Programs\\Python\\Python310\\lib\\site-packages\\pandas\\core\\dtypes\\cast.py:1292\u001b[0m, in \u001b[0;36mastype_array_safe\u001b[1;34m(values, dtype, copy, errors)\u001b[0m\n\u001b[0;32m   1289\u001b[0m     dtype \u001b[38;5;241m=\u001b[39m dtype\u001b[38;5;241m.\u001b[39mnumpy_dtype\n\u001b[0;32m   1291\u001b[0m \u001b[38;5;28;01mtry\u001b[39;00m:\n\u001b[1;32m-> 1292\u001b[0m     new_values \u001b[38;5;241m=\u001b[39m \u001b[43mastype_array\u001b[49m\u001b[43m(\u001b[49m\u001b[43mvalues\u001b[49m\u001b[43m,\u001b[49m\u001b[43m \u001b[49m\u001b[43mdtype\u001b[49m\u001b[43m,\u001b[49m\u001b[43m \u001b[49m\u001b[43mcopy\u001b[49m\u001b[38;5;241;43m=\u001b[39;49m\u001b[43mcopy\u001b[49m\u001b[43m)\u001b[49m\n\u001b[0;32m   1293\u001b[0m \u001b[38;5;28;01mexcept\u001b[39;00m (\u001b[38;5;167;01mValueError\u001b[39;00m, \u001b[38;5;167;01mTypeError\u001b[39;00m):\n\u001b[0;32m   1294\u001b[0m     \u001b[38;5;66;03m# e.g. astype_nansafe can fail on object-dtype of strings\u001b[39;00m\n\u001b[0;32m   1295\u001b[0m     \u001b[38;5;66;03m#  trying to convert to float\u001b[39;00m\n\u001b[0;32m   1296\u001b[0m     \u001b[38;5;28;01mif\u001b[39;00m errors \u001b[38;5;241m==\u001b[39m \u001b[38;5;124m\"\u001b[39m\u001b[38;5;124mignore\u001b[39m\u001b[38;5;124m\"\u001b[39m:\n",
      "File \u001b[1;32m~\\AppData\\Local\\Programs\\Python\\Python310\\lib\\site-packages\\pandas\\core\\dtypes\\cast.py:1237\u001b[0m, in \u001b[0;36mastype_array\u001b[1;34m(values, dtype, copy)\u001b[0m\n\u001b[0;32m   1234\u001b[0m     values \u001b[38;5;241m=\u001b[39m values\u001b[38;5;241m.\u001b[39mastype(dtype, copy\u001b[38;5;241m=\u001b[39mcopy)\n\u001b[0;32m   1236\u001b[0m \u001b[38;5;28;01melse\u001b[39;00m:\n\u001b[1;32m-> 1237\u001b[0m     values \u001b[38;5;241m=\u001b[39m \u001b[43mastype_nansafe\u001b[49m\u001b[43m(\u001b[49m\u001b[43mvalues\u001b[49m\u001b[43m,\u001b[49m\u001b[43m \u001b[49m\u001b[43mdtype\u001b[49m\u001b[43m,\u001b[49m\u001b[43m \u001b[49m\u001b[43mcopy\u001b[49m\u001b[38;5;241;43m=\u001b[39;49m\u001b[43mcopy\u001b[49m\u001b[43m)\u001b[49m\n\u001b[0;32m   1239\u001b[0m \u001b[38;5;66;03m# in pandas we don't store numpy str dtypes, so convert to object\u001b[39;00m\n\u001b[0;32m   1240\u001b[0m \u001b[38;5;28;01mif\u001b[39;00m \u001b[38;5;28misinstance\u001b[39m(dtype, np\u001b[38;5;241m.\u001b[39mdtype) \u001b[38;5;129;01mand\u001b[39;00m \u001b[38;5;28missubclass\u001b[39m(values\u001b[38;5;241m.\u001b[39mdtype\u001b[38;5;241m.\u001b[39mtype, \u001b[38;5;28mstr\u001b[39m):\n",
      "File \u001b[1;32m~\\AppData\\Local\\Programs\\Python\\Python310\\lib\\site-packages\\pandas\\core\\dtypes\\cast.py:1154\u001b[0m, in \u001b[0;36mastype_nansafe\u001b[1;34m(arr, dtype, copy, skipna)\u001b[0m\n\u001b[0;32m   1150\u001b[0m \u001b[38;5;28;01melif\u001b[39;00m is_object_dtype(arr\u001b[38;5;241m.\u001b[39mdtype):\n\u001b[0;32m   1151\u001b[0m \n\u001b[0;32m   1152\u001b[0m     \u001b[38;5;66;03m# work around NumPy brokenness, #1987\u001b[39;00m\n\u001b[0;32m   1153\u001b[0m     \u001b[38;5;28;01mif\u001b[39;00m np\u001b[38;5;241m.\u001b[39missubdtype(dtype\u001b[38;5;241m.\u001b[39mtype, np\u001b[38;5;241m.\u001b[39minteger):\n\u001b[1;32m-> 1154\u001b[0m         \u001b[38;5;28;01mreturn\u001b[39;00m \u001b[43mlib\u001b[49m\u001b[38;5;241;43m.\u001b[39;49m\u001b[43mastype_intsafe\u001b[49m\u001b[43m(\u001b[49m\u001b[43marr\u001b[49m\u001b[43m,\u001b[49m\u001b[43m \u001b[49m\u001b[43mdtype\u001b[49m\u001b[43m)\u001b[49m\n\u001b[0;32m   1156\u001b[0m     \u001b[38;5;66;03m# if we have a datetime/timedelta array of objects\u001b[39;00m\n\u001b[0;32m   1157\u001b[0m     \u001b[38;5;66;03m# then coerce to a proper dtype and recall astype_nansafe\u001b[39;00m\n\u001b[0;32m   1159\u001b[0m     \u001b[38;5;28;01melif\u001b[39;00m is_datetime64_dtype(dtype):\n",
      "File \u001b[1;32m~\\AppData\\Local\\Programs\\Python\\Python310\\lib\\site-packages\\pandas\\_libs\\lib.pyx:668\u001b[0m, in \u001b[0;36mpandas._libs.lib.astype_intsafe\u001b[1;34m()\u001b[0m\n",
      "\u001b[1;31mValueError\u001b[0m: invalid literal for int() with base 10: 'vw credit prequalified'"
     ]
    }
   ],
   "source": [
    "df['mmr'] = df['mmr'].astype(np.int64)"
   ]
  },
  {
   "cell_type": "markdown",
   "id": "4b5bf9d9-08f8-40f5-ab5b-3a89c560f036",
   "metadata": {},
   "source": [
    "#### Since MMR has invalid literals which can be seen from above error,Removing rows where  it has some strings/invalid literals with some text in mmr column"
   ]
  },
  {
   "cell_type": "code",
   "execution_count": 227,
   "id": "20fc3643",
   "metadata": {},
   "outputs": [],
   "source": [
    "\n",
    "\n",
    "df = df[~df['mmr'].str.contains(r'^[a-z].*$')]\n"
   ]
  },
  {
   "cell_type": "code",
   "execution_count": 228,
   "id": "35bc527a",
   "metadata": {},
   "outputs": [
    {
     "data": {
      "text/plain": [
       "(558811, 16)"
      ]
     },
     "execution_count": 228,
     "metadata": {},
     "output_type": "execute_result"
    }
   ],
   "source": [
    "df.shape"
   ]
  },
  {
   "cell_type": "code",
   "execution_count": 229,
   "id": "25d5b8bb-f645-4612-9c8c-a465b573a106",
   "metadata": {},
   "outputs": [],
   "source": [
    "df['mmr'] = df['mmr'].astype(np.int64)"
   ]
  },
  {
   "cell_type": "code",
   "execution_count": 230,
   "id": "56ce06e4",
   "metadata": {},
   "outputs": [],
   "source": [
    "\n",
    "df['condition'] = df['condition'].astype(np.float64)"
   ]
  },
  {
   "cell_type": "code",
   "execution_count": 231,
   "id": "a44083a8-11a9-4343-934c-c0d83f9fa6f5",
   "metadata": {},
   "outputs": [],
   "source": [
    "## converting date column datatype from string to date\n",
    "df['saledate'] = pd.to_datetime(df['saledate'])"
   ]
  },
  {
   "cell_type": "code",
   "execution_count": 232,
   "id": "653839b0",
   "metadata": {},
   "outputs": [
    {
     "data": {
      "text/plain": [
       "year              int64\n",
       "make             object\n",
       "model            object\n",
       "trim             object\n",
       "body             object\n",
       "transmission     object\n",
       "vin              object\n",
       "state            object\n",
       "condition       float64\n",
       "odometer        float64\n",
       "color            object\n",
       "interior         object\n",
       "seller           object\n",
       "mmr               int64\n",
       "sellingprice      int64\n",
       "saledate         object\n",
       "dtype: object"
      ]
     },
     "execution_count": 232,
     "metadata": {},
     "output_type": "execute_result"
    }
   ],
   "source": [
    "df.dtypes"
   ]
  },
  {
   "cell_type": "markdown",
   "id": "5c8b0eed",
   "metadata": {},
   "source": [
    "## Question 3. Analyze the make column."
   ]
  },
  {
   "cell_type": "code",
   "execution_count": 233,
   "id": "272ab4c6",
   "metadata": {},
   "outputs": [
    {
     "data": {
      "text/plain": [
       "Ford          93554\n",
       "Chevrolet     60197\n",
       "Nissan        53946\n",
       "Toyota        39871\n",
       "Dodge         30710\n",
       "              ...  \n",
       "airstream         1\n",
       "ford tk           1\n",
       "chev truck        1\n",
       "hyundai tk        1\n",
       "Lotus             1\n",
       "Name: make, Length: 96, dtype: int64"
      ]
     },
     "execution_count": 233,
     "metadata": {},
     "output_type": "execute_result"
    }
   ],
   "source": [
    "df['make'].value_counts()"
   ]
  },
  {
   "cell_type": "code",
   "execution_count": 234,
   "id": "546dc3f8",
   "metadata": {},
   "outputs": [
    {
     "data": {
      "text/plain": [
       "['acura',\n",
       " 'acura',\n",
       " 'airstream',\n",
       " 'aston martin',\n",
       " 'audi',\n",
       " 'audi',\n",
       " 'bentley',\n",
       " 'bmw',\n",
       " 'bmw',\n",
       " 'buick',\n",
       " 'buick',\n",
       " 'cadillac',\n",
       " 'cadillac',\n",
       " 'chev truck',\n",
       " 'chevrolet',\n",
       " 'chevrolet',\n",
       " 'chrysler',\n",
       " 'chrysler',\n",
       " 'daewoo',\n",
       " 'dodge',\n",
       " 'dodge',\n",
       " 'dodge tk',\n",
       " 'dot',\n",
       " 'ferrari',\n",
       " 'fiat',\n",
       " 'fisker',\n",
       " 'ford',\n",
       " 'ford',\n",
       " 'ford tk',\n",
       " 'ford truck',\n",
       " 'geo',\n",
       " 'gmc',\n",
       " 'gmc',\n",
       " 'gmc truck',\n",
       " 'honda',\n",
       " 'honda',\n",
       " 'hummer',\n",
       " 'hyundai',\n",
       " 'hyundai',\n",
       " 'hyundai tk',\n",
       " 'infiniti',\n",
       " 'isuzu',\n",
       " 'jaguar',\n",
       " 'jeep',\n",
       " 'jeep',\n",
       " 'kia',\n",
       " 'kia',\n",
       " 'lamborghini',\n",
       " 'land rover',\n",
       " 'land rover',\n",
       " 'landrover',\n",
       " 'lexus',\n",
       " 'lexus',\n",
       " 'lincoln',\n",
       " 'lincoln',\n",
       " 'lotus',\n",
       " 'maserati',\n",
       " 'maserati',\n",
       " 'mazda',\n",
       " 'mazda',\n",
       " 'mazda tk',\n",
       " 'mercedes',\n",
       " 'mercedes-b',\n",
       " 'mercedes-benz',\n",
       " 'mercury',\n",
       " 'mercury',\n",
       " 'mini',\n",
       " 'mitsubishi',\n",
       " 'mitsubishi',\n",
       " 'nan',\n",
       " 'nissan',\n",
       " 'nissan',\n",
       " 'oldsmobile',\n",
       " 'oldsmobile',\n",
       " 'plymouth',\n",
       " 'plymouth',\n",
       " 'pontiac',\n",
       " 'pontiac',\n",
       " 'porsche',\n",
       " 'porsche',\n",
       " 'ram',\n",
       " 'rolls-royce',\n",
       " 'saab',\n",
       " 'saturn',\n",
       " 'scion',\n",
       " 'smart',\n",
       " 'subaru',\n",
       " 'subaru',\n",
       " 'suzuki',\n",
       " 'suzuki',\n",
       " 'tesla',\n",
       " 'toyota',\n",
       " 'toyota',\n",
       " 'volkswagen',\n",
       " 'volkswagen',\n",
       " 'volvo',\n",
       " 'vw']"
      ]
     },
     "execution_count": 234,
     "metadata": {},
     "output_type": "execute_result"
    }
   ],
   "source": [
    "makes = df.make.unique().tolist()\n",
    "makes = [str(x).lower() for x in makes]\n",
    "sorted(makes)"
   ]
  },
  {
   "cell_type": "markdown",
   "id": "68763024-285f-4316-b33d-21d7becb801d",
   "metadata": {},
   "source": [
    "#### After observing and examining make column, it seeems there is no standardization and some kind of inconsistency in values of make column due to the usage of capitalization,short form . I noticed some values are capitalized and some are lowercase"
   ]
  },
  {
   "cell_type": "code",
   "execution_count": 235,
   "id": "9fd7e6c6-9525-47e5-8fda-6647df14d207",
   "metadata": {},
   "outputs": [
    {
     "data": {
      "text/plain": [
       "97"
      ]
     },
     "execution_count": 235,
     "metadata": {},
     "output_type": "execute_result"
    }
   ],
   "source": [
    "len(df.make.unique())"
   ]
  },
  {
   "cell_type": "code",
   "execution_count": 236,
   "id": "657742ec-a1bc-49b3-8cda-16e6653930f4",
   "metadata": {},
   "outputs": [
    {
     "data": {
      "text/plain": [
       "67"
      ]
     },
     "execution_count": 236,
     "metadata": {},
     "output_type": "execute_result"
    }
   ],
   "source": [
    "\n",
    "df.make = df.make.str.lower()\n",
    "\n",
    "len(df.make.unique())"
   ]
  },
  {
   "cell_type": "markdown",
   "id": "3683d5b2-0e33-41a2-a5f9-cca472a1b781",
   "metadata": {},
   "source": [
    "#### Reduced unique values from 97 to 67"
   ]
  },
  {
   "cell_type": "markdown",
   "id": "02840c92-5877-4f9f-8b68-151ca2c1b922",
   "metadata": {},
   "source": [
    "#### Further value reduction can be done by standardizing values but which requires understanding about brand names. I feel hard coding is required to do standardization"
   ]
  },
  {
   "cell_type": "code",
   "execution_count": 237,
   "id": "001e3b47",
   "metadata": {},
   "outputs": [],
   "source": [
    "# Figured out which values got different names though they are similar  , and mapping those to same name\n",
    "df['make'] = df['make'].replace(\"vw\",\"volkswagen\")\n",
    "df['make'] = df['make'].replace([\"mercedes-b\",\"mercedes\"], \"mercedes-benz\")\n",
    "df['make'] = df['make'].replace(\"landrover\", \"land rover\")\n",
    "df['make'] = df['make'].replace(\"hyundai tk\", \"hyundai\")\n",
    "df['make'] = df['make'].replace([\"ford truck\",\"ford tk\"], \"ford\")\n",
    "df['make'] = df['make'].replace(\"dodge tk\", \"dodge\")\n",
    "df['make'] = df['make'].replace(\"chev truck\", \"chevrolet\")\n",
    "df['make'] = df['make'].replace(\"gmc tk\", \"gmc\")\n",
    "df['make'] = df['make'].replace(\"mazda tk\", \"mazda\")"
   ]
  },
  {
   "cell_type": "code",
   "execution_count": 238,
   "id": "f1b470f7-7f2d-4bf4-b8fc-8649ed32d789",
   "metadata": {},
   "outputs": [
    {
     "data": {
      "text/plain": [
       "57"
      ]
     },
     "execution_count": 238,
     "metadata": {},
     "output_type": "execute_result"
    }
   ],
   "source": [
    "len(df.make.unique())"
   ]
  },
  {
   "cell_type": "markdown",
   "id": "a0fb3093-2fa6-44f4-bb03-44c46c4266b4",
   "metadata": {},
   "source": [
    "#### with standardization, unique values are further reduced to 57"
   ]
  },
  {
   "cell_type": "markdown",
   "id": "d3b2ad65",
   "metadata": {},
   "source": [
    "## Question 4. Analyze the relationship between the wholeprice mmr and the salesprice."
   ]
  },
  {
   "cell_type": "code",
   "execution_count": 242,
   "id": "1c3b792e-398b-4d78-a7ee-5c6d9618314a",
   "metadata": {},
   "outputs": [
    {
     "data": {
      "text/plain": [
       "0.9836337168977268"
      ]
     },
     "execution_count": 242,
     "metadata": {},
     "output_type": "execute_result"
    }
   ],
   "source": [
    "df['mmr'].corr(df['sellingprice'])"
   ]
  },
  {
   "cell_type": "markdown",
   "id": "35b8ae2d-b362-464d-99dd-03e6368187cc",
   "metadata": {},
   "source": [
    "#### Overall correlation is 0.98"
   ]
  },
  {
   "cell_type": "code",
   "execution_count": 239,
   "id": "70183340",
   "metadata": {},
   "outputs": [
    {
     "data": {
      "text/html": [
       "<div>\n",
       "<style scoped>\n",
       "    .dataframe tbody tr th:only-of-type {\n",
       "        vertical-align: middle;\n",
       "    }\n",
       "\n",
       "    .dataframe tbody tr th {\n",
       "        vertical-align: top;\n",
       "    }\n",
       "\n",
       "    .dataframe thead th {\n",
       "        text-align: right;\n",
       "    }\n",
       "</style>\n",
       "<table border=\"1\" class=\"dataframe\">\n",
       "  <thead>\n",
       "    <tr style=\"text-align: right;\">\n",
       "      <th></th>\n",
       "      <th>mmr</th>\n",
       "      <th>sellingprice</th>\n",
       "    </tr>\n",
       "  </thead>\n",
       "  <tbody>\n",
       "    <tr>\n",
       "      <th>0</th>\n",
       "      <td>20500</td>\n",
       "      <td>21500</td>\n",
       "    </tr>\n",
       "    <tr>\n",
       "      <th>1</th>\n",
       "      <td>20800</td>\n",
       "      <td>21500</td>\n",
       "    </tr>\n",
       "    <tr>\n",
       "      <th>2</th>\n",
       "      <td>31900</td>\n",
       "      <td>30000</td>\n",
       "    </tr>\n",
       "    <tr>\n",
       "      <th>3</th>\n",
       "      <td>27500</td>\n",
       "      <td>27750</td>\n",
       "    </tr>\n",
       "    <tr>\n",
       "      <th>4</th>\n",
       "      <td>66000</td>\n",
       "      <td>67000</td>\n",
       "    </tr>\n",
       "    <tr>\n",
       "      <th>...</th>\n",
       "      <td>...</td>\n",
       "      <td>...</td>\n",
       "    </tr>\n",
       "    <tr>\n",
       "      <th>558832</th>\n",
       "      <td>35300</td>\n",
       "      <td>33000</td>\n",
       "    </tr>\n",
       "    <tr>\n",
       "      <th>558833</th>\n",
       "      <td>30200</td>\n",
       "      <td>30800</td>\n",
       "    </tr>\n",
       "    <tr>\n",
       "      <th>558834</th>\n",
       "      <td>29800</td>\n",
       "      <td>34000</td>\n",
       "    </tr>\n",
       "    <tr>\n",
       "      <th>558835</th>\n",
       "      <td>15100</td>\n",
       "      <td>11100</td>\n",
       "    </tr>\n",
       "    <tr>\n",
       "      <th>558836</th>\n",
       "      <td>29600</td>\n",
       "      <td>26700</td>\n",
       "    </tr>\n",
       "  </tbody>\n",
       "</table>\n",
       "<p>558811 rows × 2 columns</p>\n",
       "</div>"
      ],
      "text/plain": [
       "          mmr  sellingprice\n",
       "0       20500         21500\n",
       "1       20800         21500\n",
       "2       31900         30000\n",
       "3       27500         27750\n",
       "4       66000         67000\n",
       "...       ...           ...\n",
       "558832  35300         33000\n",
       "558833  30200         30800\n",
       "558834  29800         34000\n",
       "558835  15100         11100\n",
       "558836  29600         26700\n",
       "\n",
       "[558811 rows x 2 columns]"
      ]
     },
     "execution_count": 239,
     "metadata": {},
     "output_type": "execute_result"
    }
   ],
   "source": [
    "df[['mmr','sellingprice']]"
   ]
  },
  {
   "cell_type": "code",
   "execution_count": 240,
   "id": "64cedf52",
   "metadata": {},
   "outputs": [
    {
     "data": {
      "text/plain": [
       "230000"
      ]
     },
     "execution_count": 240,
     "metadata": {},
     "output_type": "execute_result"
    }
   ],
   "source": [
    "max(df['sellingprice'])"
   ]
  },
  {
   "cell_type": "code",
   "execution_count": 241,
   "id": "910575ee",
   "metadata": {},
   "outputs": [
    {
     "name": "stdout",
     "output_type": "stream",
     "text": [
      "[10000, 20000, 30000, 40000, 50000, 60000, 70000, 80000, 90000, 100000, 110000, 120000, 130000, 140000, 150000, 160000, 170000, 180000, 190000, 200000, 210000, 220000, 230000]\n",
      "[0.87435427212496, 0.9584428323123234, 0.9744203460442978, 0.9791682459086491, 0.9812713466602424, 0.9822401960311052, 0.9827082643538246, 0.9831862576819862, 0.983426927459038, 0.983576112833006, 0.9835897120182316, 0.983672297305368, 0.9837452115182909, 0.9838139061890909, 0.9838873814578466, 0.9839572313793201, 0.9840077311787884, 0.9840226043763779, 0.9840312414363555, 0.9840312414363555, 0.9840312414363555, 0.9840312414363555, 0.9836337168977268]\n"
     ]
    },
    {
     "data": {
      "text/plain": [
       "<matplotlib.collections.PathCollection at 0x2388d9116c0>"
      ]
     },
     "execution_count": 241,
     "metadata": {},
     "output_type": "execute_result"
    },
    {
     "data": {
      "image/png": "[encoded data removed]",
      "text/plain": [
       "<Figure size 640x480 with 1 Axes>"
      ]
     },
     "metadata": {},
     "output_type": "display_data"
    }
   ],
   "source": [
    "sp= []\n",
    "corr= []\n",
    "for i in range(10000, 240000, 10000):\n",
    "    sp.append(i)\n",
    "    df1 = df[(df['sellingprice']>=0) & (df['sellingprice']<=i)]\n",
    "    corr.append(df1['mmr'].corr(df1['sellingprice']))\n",
    "print(sp)\n",
    "print(corr)\n",
    "plt.scatter(sp,corr)\n",
    "    "
   ]
  },
  {
   "cell_type": "markdown",
   "id": "c552a211-3ff5-4530-9ada-8c327c03d0f7",
   "metadata": {},
   "source": [
    "### As window of selling price increases,  correlation increases between mmr and selling price and it looks like relationship is directly proprotional"
   ]
  },
  {
   "cell_type": "code",
   "execution_count": 129,
   "id": "53ea135a-d3b9-42d9-9dd2-fa2bd38a7f17",
   "metadata": {},
   "outputs": [
    {
     "data": {
      "text/plain": [
       "<matplotlib.collections.PathCollection at 0x237ab305f90>"
      ]
     },
     "execution_count": 129,
     "metadata": {},
     "output_type": "execute_result"
    },
    {
     "data": {
      "image/png": "[encoded data removed]",
      "text/plain": [
       "<Figure size 640x480 with 1 Axes>"
      ]
     },
     "metadata": {},
     "output_type": "display_data"
    }
   ],
   "source": [
    "plt.scatter(df['mmr'], df['sellingprice'])"
   ]
  },
  {
   "cell_type": "markdown",
   "id": "61165df7-24bf-4911-bc62-f7c9e8ebd0ca",
   "metadata": {},
   "source": [
    "#### above is the scatterplot with the relation between mmr and selling price"
   ]
  },
  {
   "cell_type": "markdown",
   "id": "4573bf6d-7739-449d-973a-405861c8c49a",
   "metadata": {},
   "source": [
    "## Question 5. How does the distribution of salesprice vary by make for cars made between 2010-2015?"
   ]
  },
  {
   "cell_type": "code",
   "execution_count": 216,
   "id": "4882afa2-70bf-42b5-bd73-12482fc64f8d",
   "metadata": {},
   "outputs": [
    {
     "name": "stdout",
     "output_type": "stream",
     "text": [
      "Index(['ford', 'chevrolet', 'nissan', 'toyota', 'dodge', 'honda', 'hyundai',\n",
      "       'bmw', 'kia', 'chrysler'],\n",
      "      dtype='object')\n"
     ]
    },
    {
     "data": {
      "text/plain": [
       "<AxesSubplot: title={'center': 'sellingprice'}, xlabel='make'>"
      ]
     },
     "execution_count": 216,
     "metadata": {},
     "output_type": "execute_result"
    },
    {
     "data": {
      "image/png": "[encoded data removed]",
      "text/plain": [
       "<Figure size 640x480 with 1 Axes>"
      ]
     },
     "metadata": {},
     "output_type": "display_data"
    }
   ],
   "source": [
    "import seaborn as sns\n",
    "df2 = df[df['year'].isin([2010, 2011,2012,2013,2014,2015])]\n",
    "topten_make=df['make'].value_counts()[:10].index\n",
    "print(topten_make)\n",
    "df2 = df2[df2.make.isin(topten_make)]\n",
    "df2.boxplot('sellingprice', 'make')\n",
    "    \n",
    "    \n",
    "# sns.boxplot(y = df['sellingprice'][:10],x= df['make'][:10])"
   ]
  },
  {
   "cell_type": "markdown",
   "id": "cd07756c-02a7-48fb-a377-c4ad0352c983",
   "metadata": {},
   "source": [
    "### Plotted above is  the boxplot for selling price grouped by top 10 makes  considering the data of only years(2010- 2015). For BMW sellilng price range minimum close to 30000 and max went till up close to 40000. BMW and ford range of selling price is bit huge. Hyundai,toyota,nissan remained with prices which are closer."
   ]
  },
  {
   "cell_type": "code",
   "execution_count": 125,
   "id": "3a0ae39d-4e14-4111-b90e-15f695182720",
   "metadata": {},
   "outputs": [
    {
     "name": "stdout",
     "output_type": "stream",
     "text": [
      "Index(['Ford', 'Chevrolet', 'Nissan', 'Toyota', 'Dodge', 'Honda', 'Hyundai',\n",
      "       'BMW', 'Kia', 'Chrysler'],\n",
      "      dtype='object')\n"
     ]
    },
    {
     "data": {
      "text/plain": [
       "<AxesSubplot: title={'center': 'sellingprice'}, xlabel='year'>"
      ]
     },
     "execution_count": 125,
     "metadata": {},
     "output_type": "execute_result"
    },
    {
     "data": {
      "image/png": "[encoded data removed]",
      "text/plain": [
       "<Figure size 640x480 with 1 Axes>"
      ]
     },
     "metadata": {},
     "output_type": "display_data"
    }
   ],
   "source": [
    "import seaborn as sns\n",
    "df2 = df[df['year'].isin([2010, 2011,2012,2013,2014,2015])]\n",
    "topten_make=df['make'].value_counts()[:10].index\n",
    "print(topten_make)\n",
    "df2 = df2[df2.make.isin(topten_make)]\n",
    "df2.boxplot('sellingprice', 'year')\n",
    "    \n",
    "    "
   ]
  },
  {
   "cell_type": "markdown",
   "id": "4c9e5f86-bd21-4020-963e-d15479f5fc78",
   "metadata": {},
   "source": [
    "### Plotted above is  the boxplot for selling price grouped by year  considering the data of only top 10 makes"
   ]
  },
  {
   "cell_type": "markdown",
   "id": "6fe09952-f91d-4bee-ad6b-fd2f5be3d5c5",
   "metadata": {},
   "source": [
    "### Insights - From the boxplot, it can be seen from 2010 to 2014 sellingprice statistics(min,median,max) not changed a lot though there is slight increase in 2011 and 2014. But At the end of 2015, maximum value of selling price increased for top 10 makes,median value also increased"
   ]
  },
  {
   "cell_type": "code",
   "execution_count": null,
   "id": "c97aa8fc-3aca-4cee-8476-46c6d6bf59c9",
   "metadata": {},
   "outputs": [],
   "source": []
  }
 ],
 "metadata": {
  "kernelspec": {
   "display_name": "Python 3 (ipykernel)",
   "language": "python",
   "name": "python3"
  },
  "language_info": {
   "codemirror_mode": {
    "name": "ipython",
    "version": 3
   },
   "file_extension": ".py",
   "mimetype": "text/x-python",
   "name": "python",
   "nbconvert_exporter": "python",
   "pygments_lexer": "ipython3",
   "version": "3.10.7"
  }
 },
 "nbformat": 4,
 "nbformat_minor": 5
}
