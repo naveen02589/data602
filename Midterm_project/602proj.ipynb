{
 "cells": [
  {
   "cell_type": "code",
   "execution_count": 92,
   "id": "1a69067f-ed03-4a81-b63f-50c5df131a5f",
   "metadata": {
    "id": "1a69067f-ed03-4a81-b63f-50c5df131a5f"
   },
   "outputs": [],
   "source": [
    "import pandas as pd\n",
    "import numpy as np\n",
    "import re\n",
    "import nltk\n",
    "from nltk.corpus import stopwords\n",
    "from sklearn.feature_extraction.text import TfidfVectorizer\n",
    "from imblearn.over_sampling import SMOTE\n",
    "from imblearn.under_sampling import RandomUnderSampler\n",
    "from sklearn.linear_model import LogisticRegression\n",
    "from imblearn.pipeline import Pipeline\n",
    "from wordcloud import STOPWORDS\n",
    "import warnings\n",
    "warnings.filterwarnings(\"ignore\")"
   ]
  },
  {
   "cell_type": "code",
   "execution_count": 93,
   "id": "6ebbdad0-bc3b-4b29-8b66-d105bb69bfe2",
   "metadata": {
    "id": "6ebbdad0-bc3b-4b29-8b66-d105bb69bfe2"
   },
   "outputs": [],
   "source": [
    "from sklearn.preprocessing import LabelEncoder\n",
    "from sklearn.model_selection import train_test_split\n",
    "from sklearn.metrics import accuracy_score,classification_report, confusion_matrix,recall_score,precision_score,f1_score"
   ]
  },
  {
   "cell_type": "code",
   "execution_count": 94,
   "id": "t6w1KY9F10kD",
   "metadata": {
    "id": "t6w1KY9F10kD"
   },
   "outputs": [],
   "source": [
    "import nltk\n",
    "from nltk.corpus import wordnet as wn\n",
    "from nltk.stem.wordnet import WordNetLemmatizer"
   ]
  },
  {
   "cell_type": "code",
   "execution_count": 185,
   "id": "c37060aa-48fd-4755-b4db-928a2c7c5de2",
   "metadata": {
    "id": "c37060aa-48fd-4755-b4db-928a2c7c5de2"
   },
   "outputs": [],
   "source": [
    "df = pd.read_csv(r\"https://raw.githubusercontent.com/msaricaumbc/DS_data/master/ds602/dataset_newsletter.csv\")"
   ]
  },
  {
   "cell_type": "code",
   "execution_count": 186,
   "id": "e5b6ddb5-d907-4011-8ba6-c7dfb1f3139e",
   "metadata": {
    "id": "e5b6ddb5-d907-4011-8ba6-c7dfb1f3139e"
   },
   "outputs": [],
   "source": [
    "df.to_csv(\"newsletter.csv\", index = False)"
   ]
  },
  {
   "cell_type": "markdown",
   "id": "422ef1be-353c-4953-969b-55582932bf18",
   "metadata": {},
   "source": [
    "## Load Data"
   ]
  },
  {
   "cell_type": "code",
   "execution_count": 120,
   "id": "fa64e965-b459-4c48-80d8-dcd939a10c18",
   "metadata": {
    "id": "fa64e965-b459-4c48-80d8-dcd939a10c18"
   },
   "outputs": [],
   "source": [
    "df = pd.read_csv(\"newsletter.csv\")"
   ]
  },
  {
   "cell_type": "code",
   "execution_count": 121,
   "id": "b4260c38-dcb4-41cc-bcac-47a8f4c20daf",
   "metadata": {},
   "outputs": [
    {
     "data": {
      "text/html": [
       "<div>\n",
       "<style scoped>\n",
       "    .dataframe tbody tr th:only-of-type {\n",
       "        vertical-align: middle;\n",
       "    }\n",
       "\n",
       "    .dataframe tbody tr th {\n",
       "        vertical-align: top;\n",
       "    }\n",
       "\n",
       "    .dataframe thead th {\n",
       "        text-align: right;\n",
       "    }\n",
       "</style>\n",
       "<table border=\"1\" class=\"dataframe\">\n",
       "  <thead>\n",
       "    <tr style=\"text-align: right;\">\n",
       "      <th></th>\n",
       "      <th>Unnamed: 0</th>\n",
       "      <th>title</th>\n",
       "      <th>body</th>\n",
       "      <th>signature</th>\n",
       "      <th>submissiontime</th>\n",
       "      <th>category</th>\n",
       "    </tr>\n",
       "  </thead>\n",
       "  <tbody>\n",
       "    <tr>\n",
       "      <th>0</th>\n",
       "      <td>0</td>\n",
       "      <td>Mrs. Laurence Class</td>\n",
       "      <td>Because of the upcoming holiday, we will be re...</td>\n",
       "      <td>Jaslynn Laurence</td>\n",
       "      <td>11/18/15 9:26 AM</td>\n",
       "      <td>ANNOUNCEMENTS</td>\n",
       "    </tr>\n",
       "    <tr>\n",
       "      <th>1</th>\n",
       "      <td>1</td>\n",
       "      <td>Mr. Valle's Winter Break Packets (Cornell/Hamp...</td>\n",
       "      <td>All my Cornell, Hampton, and Princeton student...</td>\n",
       "      <td>Mr. Sam Valle</td>\n",
       "      <td>12/16/15 9:26 PM</td>\n",
       "      <td>ANNOUNCEMENTS</td>\n",
       "    </tr>\n",
       "    <tr>\n",
       "      <th>2</th>\n",
       "      <td>2</td>\n",
       "      <td>Hours of Operation</td>\n",
       "      <td>Parents/Guardians,    We will gladly assist yo...</td>\n",
       "      <td>Ms. Ellis</td>\n",
       "      <td>11/18/15 3:30 PM</td>\n",
       "      <td>ANNOUNCEMENTS</td>\n",
       "    </tr>\n",
       "    <tr>\n",
       "      <th>3</th>\n",
       "      <td>3</td>\n",
       "      <td>Character Education</td>\n",
       "      <td>CMIT South scholars will continue to work on v...</td>\n",
       "      <td>Ch.Ed. Team  Room 163</td>\n",
       "      <td>11/15/15 4:49 PM</td>\n",
       "      <td>ANNOUNCEMENTS</td>\n",
       "    </tr>\n",
       "    <tr>\n",
       "      <th>4</th>\n",
       "      <td>4</td>\n",
       "      <td>CMIT Students Connecting with Students Around ...</td>\n",
       "      <td>A couple of classes have had the opportunity t...</td>\n",
       "      <td>Srta. Dickerson</td>\n",
       "      <td>11/16/15 5:21 AM</td>\n",
       "      <td>ANNOUNCEMENTS</td>\n",
       "    </tr>\n",
       "  </tbody>\n",
       "</table>\n",
       "</div>"
      ],
      "text/plain": [
       "   Unnamed: 0                                              title  \\\n",
       "0           0                                Mrs. Laurence Class   \n",
       "1           1  Mr. Valle's Winter Break Packets (Cornell/Hamp...   \n",
       "2           2                                 Hours of Operation   \n",
       "3           3                                Character Education   \n",
       "4           4  CMIT Students Connecting with Students Around ...   \n",
       "\n",
       "                                                body              signature  \\\n",
       "0  Because of the upcoming holiday, we will be re...       Jaslynn Laurence   \n",
       "1  All my Cornell, Hampton, and Princeton student...          Mr. Sam Valle   \n",
       "2  Parents/Guardians,    We will gladly assist yo...              Ms. Ellis   \n",
       "3  CMIT South scholars will continue to work on v...  Ch.Ed. Team  Room 163   \n",
       "4  A couple of classes have had the opportunity t...        Srta. Dickerson   \n",
       "\n",
       "     submissiontime       category  \n",
       "0  11/18/15 9:26 AM  ANNOUNCEMENTS  \n",
       "1  12/16/15 9:26 PM  ANNOUNCEMENTS  \n",
       "2  11/18/15 3:30 PM  ANNOUNCEMENTS  \n",
       "3  11/15/15 4:49 PM  ANNOUNCEMENTS  \n",
       "4  11/16/15 5:21 AM  ANNOUNCEMENTS  "
      ]
     },
     "execution_count": 121,
     "metadata": {},
     "output_type": "execute_result"
    }
   ],
   "source": [
    "df.head()"
   ]
  },
  {
   "cell_type": "code",
   "execution_count": 122,
   "id": "f01accfc-2f91-40aa-bc33-d1a26cea3000",
   "metadata": {
    "id": "f01accfc-2f91-40aa-bc33-d1a26cea3000"
   },
   "outputs": [],
   "source": [
    "df = df.loc[:,~df.columns.str.contains(\"^Unnamed\")]"
   ]
  },
  {
   "cell_type": "code",
   "execution_count": 123,
   "id": "a30003ca-dd67-4b03-84be-284d6e1d783a",
   "metadata": {
    "colab": {
     "base_uri": "https://localhost:8080/",
     "height": 337
    },
    "id": "a30003ca-dd67-4b03-84be-284d6e1d783a",
    "outputId": "c916b5d1-2148-4827-d282-126a4efa555f"
   },
   "outputs": [
    {
     "data": {
      "text/html": [
       "<div>\n",
       "<style scoped>\n",
       "    .dataframe tbody tr th:only-of-type {\n",
       "        vertical-align: middle;\n",
       "    }\n",
       "\n",
       "    .dataframe tbody tr th {\n",
       "        vertical-align: top;\n",
       "    }\n",
       "\n",
       "    .dataframe thead th {\n",
       "        text-align: right;\n",
       "    }\n",
       "</style>\n",
       "<table border=\"1\" class=\"dataframe\">\n",
       "  <thead>\n",
       "    <tr style=\"text-align: right;\">\n",
       "      <th></th>\n",
       "      <th>title</th>\n",
       "      <th>body</th>\n",
       "      <th>signature</th>\n",
       "      <th>submissiontime</th>\n",
       "      <th>category</th>\n",
       "    </tr>\n",
       "  </thead>\n",
       "  <tbody>\n",
       "    <tr>\n",
       "      <th>0</th>\n",
       "      <td>Mrs. Laurence Class</td>\n",
       "      <td>Because of the upcoming holiday, we will be re...</td>\n",
       "      <td>Jaslynn Laurence</td>\n",
       "      <td>11/18/15 9:26 AM</td>\n",
       "      <td>ANNOUNCEMENTS</td>\n",
       "    </tr>\n",
       "    <tr>\n",
       "      <th>1</th>\n",
       "      <td>Mr. Valle's Winter Break Packets (Cornell/Hamp...</td>\n",
       "      <td>All my Cornell, Hampton, and Princeton student...</td>\n",
       "      <td>Mr. Sam Valle</td>\n",
       "      <td>12/16/15 9:26 PM</td>\n",
       "      <td>ANNOUNCEMENTS</td>\n",
       "    </tr>\n",
       "    <tr>\n",
       "      <th>2</th>\n",
       "      <td>Hours of Operation</td>\n",
       "      <td>Parents/Guardians,    We will gladly assist yo...</td>\n",
       "      <td>Ms. Ellis</td>\n",
       "      <td>11/18/15 3:30 PM</td>\n",
       "      <td>ANNOUNCEMENTS</td>\n",
       "    </tr>\n",
       "    <tr>\n",
       "      <th>3</th>\n",
       "      <td>Character Education</td>\n",
       "      <td>CMIT South scholars will continue to work on v...</td>\n",
       "      <td>Ch.Ed. Team  Room 163</td>\n",
       "      <td>11/15/15 4:49 PM</td>\n",
       "      <td>ANNOUNCEMENTS</td>\n",
       "    </tr>\n",
       "    <tr>\n",
       "      <th>4</th>\n",
       "      <td>CMIT Students Connecting with Students Around ...</td>\n",
       "      <td>A couple of classes have had the opportunity t...</td>\n",
       "      <td>Srta. Dickerson</td>\n",
       "      <td>11/16/15 5:21 AM</td>\n",
       "      <td>ANNOUNCEMENTS</td>\n",
       "    </tr>\n",
       "  </tbody>\n",
       "</table>\n",
       "</div>"
      ],
      "text/plain": [
       "                                               title  \\\n",
       "0                                Mrs. Laurence Class   \n",
       "1  Mr. Valle's Winter Break Packets (Cornell/Hamp...   \n",
       "2                                 Hours of Operation   \n",
       "3                                Character Education   \n",
       "4  CMIT Students Connecting with Students Around ...   \n",
       "\n",
       "                                                body              signature  \\\n",
       "0  Because of the upcoming holiday, we will be re...       Jaslynn Laurence   \n",
       "1  All my Cornell, Hampton, and Princeton student...          Mr. Sam Valle   \n",
       "2  Parents/Guardians,    We will gladly assist yo...              Ms. Ellis   \n",
       "3  CMIT South scholars will continue to work on v...  Ch.Ed. Team  Room 163   \n",
       "4  A couple of classes have had the opportunity t...        Srta. Dickerson   \n",
       "\n",
       "     submissiontime       category  \n",
       "0  11/18/15 9:26 AM  ANNOUNCEMENTS  \n",
       "1  12/16/15 9:26 PM  ANNOUNCEMENTS  \n",
       "2  11/18/15 3:30 PM  ANNOUNCEMENTS  \n",
       "3  11/15/15 4:49 PM  ANNOUNCEMENTS  \n",
       "4  11/16/15 5:21 AM  ANNOUNCEMENTS  "
      ]
     },
     "execution_count": 123,
     "metadata": {},
     "output_type": "execute_result"
    }
   ],
   "source": [
    "df.head()"
   ]
  },
  {
   "cell_type": "code",
   "execution_count": 124,
   "id": "fc880cdb-0bfa-4aee-adc7-933b66ed5ec4",
   "metadata": {
    "colab": {
     "base_uri": "https://localhost:8080/"
    },
    "id": "fc880cdb-0bfa-4aee-adc7-933b66ed5ec4",
    "outputId": "f246b406-1c90-4b5d-8dab-5d8af4f02784"
   },
   "outputs": [
    {
     "name": "stdout",
     "output_type": "stream",
     "text": [
      "(19607, 5)\n",
      "<class 'pandas.core.frame.DataFrame'>\n",
      "RangeIndex: 19607 entries, 0 to 19606\n",
      "Data columns (total 5 columns):\n",
      " #   Column          Non-Null Count  Dtype \n",
      "---  ------          --------------  ----- \n",
      " 0   title           19597 non-null  object\n",
      " 1   body            19604 non-null  object\n",
      " 2   signature       19207 non-null  object\n",
      " 3   submissiontime  19607 non-null  object\n",
      " 4   category        19607 non-null  object\n",
      "dtypes: object(5)\n",
      "memory usage: 766.0+ KB\n"
     ]
    }
   ],
   "source": [
    "print(df.shape)\n",
    "df.info()\n"
   ]
  },
  {
   "cell_type": "code",
   "execution_count": 125,
   "id": "1b2a15b4-6be8-48c4-b3af-77d9d98cda0d",
   "metadata": {},
   "outputs": [
    {
     "data": {
      "text/html": [
       "<div>\n",
       "<style scoped>\n",
       "    .dataframe tbody tr th:only-of-type {\n",
       "        vertical-align: middle;\n",
       "    }\n",
       "\n",
       "    .dataframe tbody tr th {\n",
       "        vertical-align: top;\n",
       "    }\n",
       "\n",
       "    .dataframe thead th {\n",
       "        text-align: right;\n",
       "    }\n",
       "</style>\n",
       "<table border=\"1\" class=\"dataframe\">\n",
       "  <thead>\n",
       "    <tr style=\"text-align: right;\">\n",
       "      <th></th>\n",
       "      <th>title</th>\n",
       "      <th>body</th>\n",
       "      <th>signature</th>\n",
       "      <th>submissiontime</th>\n",
       "      <th>category</th>\n",
       "    </tr>\n",
       "  </thead>\n",
       "  <tbody>\n",
       "    <tr>\n",
       "      <th>count</th>\n",
       "      <td>19597</td>\n",
       "      <td>19604</td>\n",
       "      <td>19207</td>\n",
       "      <td>19607</td>\n",
       "      <td>19607</td>\n",
       "    </tr>\n",
       "    <tr>\n",
       "      <th>unique</th>\n",
       "      <td>12358</td>\n",
       "      <td>16358</td>\n",
       "      <td>2844</td>\n",
       "      <td>17778</td>\n",
       "      <td>12</td>\n",
       "    </tr>\n",
       "    <tr>\n",
       "      <th>top</th>\n",
       "      <td>2nd Grade News</td>\n",
       "      <td>.</td>\n",
       "      <td>Angie O'Brien</td>\n",
       "      <td>1/28/22 10:58 AM</td>\n",
       "      <td>ANNOUNCEMENTS</td>\n",
       "    </tr>\n",
       "    <tr>\n",
       "      <th>freq</th>\n",
       "      <td>147</td>\n",
       "      <td>130</td>\n",
       "      <td>777</td>\n",
       "      <td>7</td>\n",
       "      <td>10240</td>\n",
       "    </tr>\n",
       "  </tbody>\n",
       "</table>\n",
       "</div>"
      ],
      "text/plain": [
       "                 title   body      signature    submissiontime       category\n",
       "count            19597  19604          19207             19607          19607\n",
       "unique           12358  16358           2844             17778             12\n",
       "top     2nd Grade News      .  Angie O'Brien  1/28/22 10:58 AM  ANNOUNCEMENTS\n",
       "freq               147    130            777                 7          10240"
      ]
     },
     "execution_count": 125,
     "metadata": {},
     "output_type": "execute_result"
    }
   ],
   "source": [
    "df.describe()"
   ]
  },
  {
   "cell_type": "markdown",
   "id": "75b823fd-f739-45a4-b427-d20644b91bb7",
   "metadata": {
    "id": "75b823fd-f739-45a4-b427-d20644b91bb7"
   },
   "source": [
    "## Distribution of Target Variable"
   ]
  },
  {
   "cell_type": "code",
   "execution_count": 68,
   "id": "6172c0f6-9487-440f-8970-441b71e22c65",
   "metadata": {
    "colab": {
     "base_uri": "https://localhost:8080/"
    },
    "id": "6172c0f6-9487-440f-8970-441b71e22c65",
    "outputId": "f7745a60-8f7e-462d-cc7c-3f28d88d97c4"
   },
   "outputs": [
    {
     "data": {
      "text/plain": [
       "ANNOUNCEMENTS        10240\n",
       "BREAKING NEWS         3649\n",
       "UPCOMING EVENTS       3055\n",
       "PTO                   1507\n",
       "IMPORTANT NEWS         452\n",
       "CLUBS                  363\n",
       "ATHLETICS              170\n",
       "DONATIONS NEEDED        63\n",
       "FIELD TRIPS             53\n",
       "VOLUNTEERS NEEDED       27\n",
       "ACHIEVEMENTS            25\n",
       "STUDENT THOUGHTS         3\n",
       "Name: category, dtype: int64"
      ]
     },
     "execution_count": 68,
     "metadata": {},
     "output_type": "execute_result"
    }
   ],
   "source": [
    "df['category'].value_counts()"
   ]
  },
  {
   "cell_type": "markdown",
   "id": "d46f3312-34fc-4f25-a92c-1b3a576c9475",
   "metadata": {},
   "source": [
    " #### It can be seen that the dataset is more imbalanced from the above distribution"
   ]
  },
  {
   "cell_type": "code",
   "execution_count": 69,
   "id": "2fd29aa9-799b-42e4-952d-77c8549e7bac",
   "metadata": {},
   "outputs": [
    {
     "data": {
      "text/plain": [
       "<AxesSubplot: >"
      ]
     },
     "execution_count": 69,
     "metadata": {},
     "output_type": "execute_result"
    },
    {
     "data": {
      "image/png": "[encoded data removed]",
      "text/plain": [
       "<Figure size 640x480 with 1 Axes>"
      ]
     },
     "metadata": {},
     "output_type": "display_data"
    }
   ],
   "source": [
    "df['category'].value_counts().plot(kind='bar')"
   ]
  },
  {
   "cell_type": "markdown",
   "id": "de21c3df-617e-42a6-904c-370c0891c22a",
   "metadata": {
    "id": "de21c3df-617e-42a6-904c-370c0891c22a"
   },
   "source": [
    "## EDA and Feature Engineering"
   ]
  },
  {
   "cell_type": "code",
   "execution_count": 70,
   "id": "aaac7685-96c2-4699-ad06-63b609fd3983",
   "metadata": {
    "colab": {
     "base_uri": "https://localhost:8080/",
     "height": 206
    },
    "id": "aaac7685-96c2-4699-ad06-63b609fd3983",
    "outputId": "1752e430-0da1-476a-ab4b-648e0f382dd2"
   },
   "outputs": [
    {
     "data": {
      "text/html": [
       "<div>\n",
       "<style scoped>\n",
       "    .dataframe tbody tr th:only-of-type {\n",
       "        vertical-align: middle;\n",
       "    }\n",
       "\n",
       "    .dataframe tbody tr th {\n",
       "        vertical-align: top;\n",
       "    }\n",
       "\n",
       "    .dataframe thead th {\n",
       "        text-align: right;\n",
       "    }\n",
       "</style>\n",
       "<table border=\"1\" class=\"dataframe\">\n",
       "  <thead>\n",
       "    <tr style=\"text-align: right;\">\n",
       "      <th></th>\n",
       "      <th>title</th>\n",
       "      <th>body</th>\n",
       "      <th>category</th>\n",
       "    </tr>\n",
       "  </thead>\n",
       "  <tbody>\n",
       "    <tr>\n",
       "      <th>0</th>\n",
       "      <td>Mrs. Laurence Class</td>\n",
       "      <td>Because of the upcoming holiday, we will be re...</td>\n",
       "      <td>ANNOUNCEMENTS</td>\n",
       "    </tr>\n",
       "    <tr>\n",
       "      <th>1</th>\n",
       "      <td>Mr. Valle's Winter Break Packets (Cornell/Hamp...</td>\n",
       "      <td>All my Cornell, Hampton, and Princeton student...</td>\n",
       "      <td>ANNOUNCEMENTS</td>\n",
       "    </tr>\n",
       "    <tr>\n",
       "      <th>2</th>\n",
       "      <td>Hours of Operation</td>\n",
       "      <td>Parents/Guardians,    We will gladly assist yo...</td>\n",
       "      <td>ANNOUNCEMENTS</td>\n",
       "    </tr>\n",
       "    <tr>\n",
       "      <th>3</th>\n",
       "      <td>Character Education</td>\n",
       "      <td>CMIT South scholars will continue to work on v...</td>\n",
       "      <td>ANNOUNCEMENTS</td>\n",
       "    </tr>\n",
       "    <tr>\n",
       "      <th>4</th>\n",
       "      <td>CMIT Students Connecting with Students Around ...</td>\n",
       "      <td>A couple of classes have had the opportunity t...</td>\n",
       "      <td>ANNOUNCEMENTS</td>\n",
       "    </tr>\n",
       "  </tbody>\n",
       "</table>\n",
       "</div>"
      ],
      "text/plain": [
       "                                               title  \\\n",
       "0                                Mrs. Laurence Class   \n",
       "1  Mr. Valle's Winter Break Packets (Cornell/Hamp...   \n",
       "2                                 Hours of Operation   \n",
       "3                                Character Education   \n",
       "4  CMIT Students Connecting with Students Around ...   \n",
       "\n",
       "                                                body       category  \n",
       "0  Because of the upcoming holiday, we will be re...  ANNOUNCEMENTS  \n",
       "1  All my Cornell, Hampton, and Princeton student...  ANNOUNCEMENTS  \n",
       "2  Parents/Guardians,    We will gladly assist yo...  ANNOUNCEMENTS  \n",
       "3  CMIT South scholars will continue to work on v...  ANNOUNCEMENTS  \n",
       "4  A couple of classes have had the opportunity t...  ANNOUNCEMENTS  "
      ]
     },
     "execution_count": 70,
     "metadata": {},
     "output_type": "execute_result"
    }
   ],
   "source": [
    "df = df.drop(columns=['signature','submissiontime'])\n",
    "df.head()"
   ]
  },
  {
   "cell_type": "markdown",
   "id": "42effb3f-f2bc-470b-acbe-20839b846a2c",
   "metadata": {
    "id": "42effb3f-f2bc-470b-acbe-20839b846a2c"
   },
   "source": [
    "#### Duplicate Removal"
   ]
  },
  {
   "cell_type": "code",
   "execution_count": 71,
   "id": "5a74b69f-4db3-45bc-9705-9e85e2d6fad8",
   "metadata": {
    "colab": {
     "base_uri": "https://localhost:8080/"
    },
    "id": "5a74b69f-4db3-45bc-9705-9e85e2d6fad8",
    "outputId": "d969553f-88f5-400f-b217-d63fbfb72a95"
   },
   "outputs": [
    {
     "data": {
      "text/plain": [
       "2729"
      ]
     },
     "execution_count": 71,
     "metadata": {},
     "output_type": "execute_result"
    }
   ],
   "source": [
    "df.duplicated().sum()\n"
   ]
  },
  {
   "cell_type": "code",
   "execution_count": 72,
   "id": "7ad3fe08-4fcd-4c56-be82-3676e4099141",
   "metadata": {
    "id": "7ad3fe08-4fcd-4c56-be82-3676e4099141"
   },
   "outputs": [],
   "source": [
    "df.drop_duplicates(keep='last',inplace=True)"
   ]
  },
  {
   "cell_type": "markdown",
   "id": "09dc9ce9-dfb2-4963-9364-5ff00c8f32fe",
   "metadata": {
    "id": "09dc9ce9-dfb2-4963-9364-5ff00c8f32fe"
   },
   "source": [
    "#### Merging two columns Title and Body"
   ]
  },
  {
   "cell_type": "code",
   "execution_count": 73,
   "id": "6a670aaa-6088-4637-af24-1468ea21bb97",
   "metadata": {
    "id": "6a670aaa-6088-4637-af24-1468ea21bb97"
   },
   "outputs": [],
   "source": [
    "df1 = df.copy()\n",
    "df1['news'] = df1['title'] + ' '+df1['body']"
   ]
  },
  {
   "cell_type": "code",
   "execution_count": 74,
   "id": "7ff396d6-e53b-4bba-bb5e-8bdc219b8021",
   "metadata": {
    "id": "7ff396d6-e53b-4bba-bb5e-8bdc219b8021"
   },
   "outputs": [],
   "source": [
    "df1.drop(['title', 'body'], inplace=True, axis=1)\n"
   ]
  },
  {
   "cell_type": "markdown",
   "id": "0660f7a0-3ec5-4a8f-b920-f86b9e33c6f3",
   "metadata": {},
   "source": [
    "- Removed Duplicates from the data as it will bias the model\n",
    "- Merged two features Title and body as part of feature engineering\n",
    "- Dropped unnecessary features"
   ]
  },
  {
   "cell_type": "markdown",
   "id": "2a9b4913-f172-49d9-badf-97bd0e6fc002",
   "metadata": {
    "id": "2a9b4913-f172-49d9-badf-97bd0e6fc002"
   },
   "source": [
    "## Data cleaning"
   ]
  },
  {
   "cell_type": "code",
   "execution_count": 75,
   "id": "baac612c-69e0-4097-a4d6-03ef588d9f08",
   "metadata": {
    "id": "baac612c-69e0-4097-a4d6-03ef588d9f08"
   },
   "outputs": [],
   "source": [
    "df1['news'].fillna('',inplace=True)"
   ]
  },
  {
   "cell_type": "code",
   "execution_count": 76,
   "id": "21485eed-767f-4c2b-9e0d-ed2806766c4a",
   "metadata": {
    "colab": {
     "base_uri": "https://localhost:8080/",
     "height": 206
    },
    "id": "21485eed-767f-4c2b-9e0d-ed2806766c4a",
    "outputId": "5bf2fed4-4413-493b-84b1-cc16594a25ca"
   },
   "outputs": [
    {
     "data": {
      "text/html": [
       "<div>\n",
       "<style scoped>\n",
       "    .dataframe tbody tr th:only-of-type {\n",
       "        vertical-align: middle;\n",
       "    }\n",
       "\n",
       "    .dataframe tbody tr th {\n",
       "        vertical-align: top;\n",
       "    }\n",
       "\n",
       "    .dataframe thead th {\n",
       "        text-align: right;\n",
       "    }\n",
       "</style>\n",
       "<table border=\"1\" class=\"dataframe\">\n",
       "  <thead>\n",
       "    <tr style=\"text-align: right;\">\n",
       "      <th></th>\n",
       "      <th>category</th>\n",
       "      <th>news</th>\n",
       "    </tr>\n",
       "  </thead>\n",
       "  <tbody>\n",
       "    <tr>\n",
       "      <th>0</th>\n",
       "      <td>ANNOUNCEMENTS</td>\n",
       "      <td>Mrs. Laurence Class Because of the upcoming ho...</td>\n",
       "    </tr>\n",
       "    <tr>\n",
       "      <th>1</th>\n",
       "      <td>ANNOUNCEMENTS</td>\n",
       "      <td>Mr. Valle's Winter Break Packets (Cornell/Hamp...</td>\n",
       "    </tr>\n",
       "    <tr>\n",
       "      <th>2</th>\n",
       "      <td>ANNOUNCEMENTS</td>\n",
       "      <td>Hours of Operation Parents/Guardians,    We wi...</td>\n",
       "    </tr>\n",
       "    <tr>\n",
       "      <th>3</th>\n",
       "      <td>ANNOUNCEMENTS</td>\n",
       "      <td>Character Education CMIT South scholars will c...</td>\n",
       "    </tr>\n",
       "    <tr>\n",
       "      <th>4</th>\n",
       "      <td>ANNOUNCEMENTS</td>\n",
       "      <td>CMIT Students Connecting with Students Around ...</td>\n",
       "    </tr>\n",
       "  </tbody>\n",
       "</table>\n",
       "</div>"
      ],
      "text/plain": [
       "        category                                               news\n",
       "0  ANNOUNCEMENTS  Mrs. Laurence Class Because of the upcoming ho...\n",
       "1  ANNOUNCEMENTS  Mr. Valle's Winter Break Packets (Cornell/Hamp...\n",
       "2  ANNOUNCEMENTS  Hours of Operation Parents/Guardians,    We wi...\n",
       "3  ANNOUNCEMENTS  Character Education CMIT South scholars will c...\n",
       "4  ANNOUNCEMENTS  CMIT Students Connecting with Students Around ..."
      ]
     },
     "execution_count": 76,
     "metadata": {},
     "output_type": "execute_result"
    }
   ],
   "source": [
    "df1.head()"
   ]
  },
  {
   "cell_type": "code",
   "execution_count": 77,
   "id": "8c100aaf-61a2-4e27-871e-65d81a0a7e7a",
   "metadata": {
    "colab": {
     "base_uri": "https://localhost:8080/"
    },
    "id": "8c100aaf-61a2-4e27-871e-65d81a0a7e7a",
    "outputId": "788b68cd-3b22-4dab-8207-990d387122ba"
   },
   "outputs": [
    {
     "data": {
      "text/plain": [
       "0    Mrs. Laurence Class Because of the upcoming ho...\n",
       "1    Mr. Valle's Winter Break Packets (Cornell/Hamp...\n",
       "2    Hours of Operation Parents/Guardians,    We wi...\n",
       "3    Character Education CMIT South scholars will c...\n",
       "4    CMIT Students Connecting with Students Around ...\n",
       "Name: news, dtype: object"
      ]
     },
     "execution_count": 77,
     "metadata": {},
     "output_type": "execute_result"
    }
   ],
   "source": [
    "df1['news'].head()"
   ]
  },
  {
   "cell_type": "code",
   "execution_count": 78,
   "id": "3ae8bf2f-5f8b-4d60-8d45-1571461dffdf",
   "metadata": {
    "id": "3ae8bf2f-5f8b-4d60-8d45-1571461dffdf"
   },
   "outputs": [],
   "source": [
    "def convert_to_lower(text):\n",
    "    return text.lower()\n",
    "def remove_numbers(text):\n",
    "    number_pattern = r'\\d+'\n",
    "    without_number = re.sub(pattern=number_pattern, repl=\" \", string=text)\n",
    "    return without_number\n",
    "\n",
    "import string\n",
    "def remove_punctuation(text):\n",
    "    return text.translate(str.maketrans('', '', string.punctuation))\n",
    "\n",
    "def remove_stopwords(text):\n",
    "    removed = []\n",
    "    stop_words = list(stopwords.words(\"english\"))\n",
    "    tokens = nltk.word_tokenize(text)\n",
    "    for i in range(len(tokens)):\n",
    "        if tokens[i] not in stop_words:\n",
    "            removed.append(tokens[i])\n",
    "    return \" \".join(removed)\n",
    "def remove_extra_white_spaces(text):\n",
    "    single_char_pattern = r'\\s+[a-zA-Z]\\s+'\n",
    "    without_sc = re.sub(pattern=single_char_pattern, repl=\" \", string=text)\n",
    "    return without_sc\n",
    "def lemmatizing(text):\n",
    "    lemmatizer = WordNetLemmatizer()\n",
    "    tokens = nltk.word_tokenize(text)\n",
    "    for i in range(len(tokens)):\n",
    "        lemma_word = lemmatizer.lemmatize(tokens[i])\n",
    "        tokens[i] = lemma_word\n",
    "    return \" \".join(tokens)\n",
    "\n",
    "df1['news'] = df1['news'].apply(convert_to_lower)\n",
    "df1['news'] = df1['news'].apply(remove_numbers)\n",
    "df1['news'] = df1['news'].apply(remove_punctuation)\n",
    "df1['news'] = df1['news'].apply(remove_stopwords)\n",
    "df1['news'] = df1['news'].apply(remove_extra_white_spaces)\n",
    "df1['news'] = df1['news'].apply(lemmatizing)\n"
   ]
  },
  {
   "cell_type": "code",
   "execution_count": 79,
   "id": "NdPQW4y8Kty3",
   "metadata": {
    "id": "NdPQW4y8Kty3"
   },
   "outputs": [],
   "source": [
    "df1['news_processed'] = df1['news']"
   ]
  },
  {
   "cell_type": "code",
   "execution_count": 80,
   "id": "0169637e-2685-457d-a2d0-a98a66490848",
   "metadata": {
    "id": "0169637e-2685-457d-a2d0-a98a66490848"
   },
   "outputs": [],
   "source": [
    "df1 = df1[~(df1['category'] == 'STUDENT THOUGHTS')]\n",
    "### Removing this category as it has very less samples(3) which may not go in any of partitions of train or test split"
   ]
  },
  {
   "cell_type": "markdown",
   "id": "602635a1-2b5f-46d9-937f-ab2f28a2b19d",
   "metadata": {},
   "source": [
    "### \n",
    "- Replaced the missing values with empty string\n",
    "- Converted the text of news body to lower case\n",
    "- Removed digits from the body\n",
    "- Removed punctuations\n",
    "- Removed stopwords\n",
    "- Removed extra white spaces\n",
    "- Lemmatized the text to convert all words to their root word"
   ]
  },
  {
   "cell_type": "markdown",
   "id": "7de84b69-92c7-4eec-ace2-1498b4a76be7",
   "metadata": {
    "id": "7de84b69-92c7-4eec-ace2-1498b4a76be7"
   },
   "source": [
    "## Train Test Split"
   ]
  },
  {
   "cell_type": "code",
   "execution_count": 81,
   "id": "025efded-25b3-4e11-b281-48fe7356a8b7",
   "metadata": {
    "id": "025efded-25b3-4e11-b281-48fe7356a8b7"
   },
   "outputs": [],
   "source": [
    "#train and test split\n",
    "X = df1['news_processed']\n",
    "#label encoding the target\n",
    "label = LabelEncoder()\n",
    "y = label.fit_transform(df1['category'])"
   ]
  },
  {
   "cell_type": "code",
   "execution_count": 82,
   "id": "7e10df73-1cc9-4b31-9f61-f1ffaee710a4",
   "metadata": {
    "id": "7e10df73-1cc9-4b31-9f61-f1ffaee710a4"
   },
   "outputs": [],
   "source": [
    "#split the train and test dataset\n",
    "X_train,X_test,y_train,y_test = train_test_split(X,y,stratify = y,test_size = 0.2,random_state=2)"
   ]
  },
  {
   "cell_type": "code",
   "execution_count": 83,
   "id": "6f0b770b-f5bf-4b30-8270-5e92945a8072",
   "metadata": {
    "colab": {
     "base_uri": "https://localhost:8080/"
    },
    "id": "6f0b770b-f5bf-4b30-8270-5e92945a8072",
    "outputId": "79916bbd-5bb0-42ba-9a1d-0b78dcc66693"
   },
   "outputs": [
    {
     "name": "stdout",
     "output_type": "stream",
     "text": [
      "The X_train shape-----> (13500,)\n",
      "The X_text shape------> (3375,)\n",
      "THe y_train shape-----> (13500,)\n",
      "The y_test shape------> (3375,)\n"
     ]
    }
   ],
   "source": [
    "print(\"The X_train shape----->\",X_train.shape)\n",
    "print('The X_text shape------>',X_test.shape)\n",
    "print(\"THe y_train shape----->\",y_train.shape)\n",
    "print(\"The y_test shape------>\",y_test.shape)"
   ]
  },
  {
   "cell_type": "code",
   "execution_count": 84,
   "id": "9a9d68df-0e7b-4bec-a0c7-1281e56a4611",
   "metadata": {},
   "outputs": [],
   "source": [
    "# Creating copies of data for using it in pipeline\n",
    "X_train1 = X_train.copy()\n",
    "X_test1 = X_test.copy()\n",
    "y_train1 = y_train.copy()\n",
    "y_test1 = y_test.copy()"
   ]
  },
  {
   "cell_type": "markdown",
   "id": "256211f5-346a-4e01-a6a5-a62677fcdceb",
   "metadata": {
    "id": "256211f5-346a-4e01-a6a5-a62677fcdceb"
   },
   "source": [
    "## Vectorization"
   ]
  },
  {
   "cell_type": "markdown",
   "id": "19912ede-cb1e-41a6-8f86-f71c9ef479c6",
   "metadata": {},
   "source": [
    "Source - https://scikit-learn.org/stable/modules/generated/sklearn.feature_extraction.text.TfidfVectorizer.html"
   ]
  },
  {
   "cell_type": "code",
   "execution_count": 85,
   "id": "d8fcadcc-9be2-4201-a702-ec602d9e024b",
   "metadata": {
    "id": "d8fcadcc-9be2-4201-a702-ec602d9e024b"
   },
   "outputs": [],
   "source": [
    "#tfidf vectorizer\n",
    "vecto =  TfidfVectorizer(stop_words='english',max_df = 0.99,min_df=10,\n",
    "                                   ngram_range=(1, 2),lowercase=True, max_features=5000)\n",
    "vecto = vecto.fit(X_train)\n",
    "X_train = vecto.transform(X_train).toarray()\n",
    "X_test = vecto.transform(X_test).toarray()"
   ]
  },
  {
   "cell_type": "markdown",
   "id": "66f36e5d-ec98-4b0a-b43f-987e56e5b354",
   "metadata": {},
   "source": [
    " - Vectorization is performed here because the body of the news is the text feature\n",
    " - We have chosen TF-IDF vectorizer as it removes the most frequently occuring words(max_df ) and less frequent words (min_df) which is required to build accurate model and in order for it not to get biased towards those words "
   ]
  },
  {
   "cell_type": "code",
   "execution_count": 87,
   "id": "67ae1471-fa98-4207-8177-6693b83b2de8",
   "metadata": {
    "colab": {
     "base_uri": "https://localhost:8080/"
    },
    "id": "67ae1471-fa98-4207-8177-6693b83b2de8",
    "outputId": "29b92a7b-6409-4309-ec90-ffea93777004"
   },
   "outputs": [
    {
     "name": "stdout",
     "output_type": "stream",
     "text": [
      "Counter({1: 7015, 3: 2543, 9: 2096, 8: 984, 7: 350, 4: 267, 2: 128, 6: 41, 5: 38, 10: 21, 0: 17})\n"
     ]
    }
   ],
   "source": [
    "from collections import Counter\n",
    "counter = Counter(y_train)\n",
    "print(counter)"
   ]
  },
  {
   "cell_type": "markdown",
   "id": "275a89b4-4c75-4855-be50-5c3dbe77d93a",
   "metadata": {},
   "source": [
    " - Utilized Counter for checking the distribution of class labels of data\n",
    " - Understood the majority and minority classes"
   ]
  },
  {
   "cell_type": "markdown",
   "id": "7d6feb1a-9f84-4249-8eea-f77434a01c80",
   "metadata": {
    "id": "7d6feb1a-9f84-4249-8eea-f77434a01c80"
   },
   "source": [
    "### Undersampling and Over sampling"
   ]
  },
  {
   "cell_type": "markdown",
   "id": "35b42205-dfc7-4a4b-8a0e-f6ef0e0719c1",
   "metadata": {},
   "source": [
    "Source - https://machinelearningmastery.com/multi-class-imbalanced-classification/"
   ]
  },
  {
   "cell_type": "code",
   "execution_count": 88,
   "id": "b9235946-9757-4640-abe6-f663d514139a",
   "metadata": {
    "id": "b9235946-9757-4640-abe6-f663d514139a"
   },
   "outputs": [],
   "source": [
    "from imblearn.under_sampling import RandomUnderSampler\n",
    "undersample = RandomUnderSampler(sampling_strategy={1: 3000, 3: 2000, 9: 2000})\n",
    "X_train, y_train = undersample.fit_resample(X_train, y_train)\n",
    "strategy = { 8:2000, 7: 1000, 4: 1000, 2: 500, 6: 500, 5: 500, 10: 500, 0: 500}\n",
    "oversample = SMOTE(sampling_strategy=strategy)\n",
    "X_train, y_train = oversample.fit_resample(X_train, y_train)"
   ]
  },
  {
   "cell_type": "markdown",
   "id": "d0a2bef2-716a-4f63-a6b8-dd471b19b3e3",
   "metadata": {},
   "source": [
    "- Here we have performed downsampling for the majority class labels and upsampled the data of minority class labels to make the dataset more balanced\n",
    "- For upsampling, we have used SMOTE technique to generate synthetic samples which will be more meaningful rather than just duplicating the samples.  "
   ]
  },
  {
   "cell_type": "code",
   "execution_count": 89,
   "id": "9983199c-7fe7-4204-8491-977fc36925db",
   "metadata": {
    "colab": {
     "base_uri": "https://localhost:8080/"
    },
    "id": "9983199c-7fe7-4204-8491-977fc36925db",
    "outputId": "f554a6be-3085-4168-bfae-1a732abfb853"
   },
   "outputs": [
    {
     "name": "stdout",
     "output_type": "stream",
     "text": [
      "Counter({1: 3000, 3: 2000, 8: 2000, 9: 2000, 4: 1000, 7: 1000, 0: 500, 2: 500, 5: 500, 6: 500, 10: 500})\n"
     ]
    }
   ],
   "source": [
    "from collections import Counter\n",
    "counter = Counter(y_train)\n",
    "print(counter)"
   ]
  },
  {
   "cell_type": "markdown",
   "id": "dec2610f-1abb-4830-b4b6-90a47a1be874",
   "metadata": {
    "id": "dec2610f-1abb-4830-b4b6-90a47a1be874"
   },
   "source": [
    "## Model building"
   ]
  },
  {
   "cell_type": "markdown",
   "id": "e885378b-4a61-4ec5-905e-a91aaf2bacce",
   "metadata": {},
   "source": [
    "#### logistic Regresssion"
   ]
  },
  {
   "cell_type": "code",
   "execution_count": 95,
   "id": "ab5b1bc7-42eb-4ba8-a382-8479a5080849",
   "metadata": {
    "id": "ab5b1bc7-42eb-4ba8-a382-8479a5080849"
   },
   "outputs": [],
   "source": [
    "#logistic Regresssion\n",
    "\n",
    "log_reg = LogisticRegression()\n",
    "log_reg.fit(X_train , y_train)\n",
    "\n",
    "y_train_pred = log_reg.predict(X_train)\n",
    "y_test_pred = log_reg.predict(X_test)"
   ]
  },
  {
   "cell_type": "code",
   "execution_count": 96,
   "id": "AXPkhDJCT0fn",
   "metadata": {
    "id": "AXPkhDJCT0fn"
   },
   "outputs": [],
   "source": [
    "def classifier_scores(y_train,y_test, pred_train, pred_test):    \n",
    "    print()\n",
    "    print(\"Train data accuracy score: \", accuracy_score(y_train,pred_train))    \n",
    "    print(\"Test data accuracy score: \", accuracy_score(y_test,pred_test))\n",
    "    print()\n",
    "    print(\"Recall score on train data: \", recall_score(y_train,pred_train, average='macro'))\n",
    "    print(\"Recall score on test data: \",recall_score( y_test,pred_test, average='macro'))\n",
    "    print()\n",
    "    \n",
    "    print(\"Precision score on train data: \",precision_score(y_train,pred_train, average='macro'))\n",
    "    print(\"Precision score on test data: \",precision_score(y_test,pred_test, average='macro'))\n",
    "    print()\n",
    "    print(\"F1 score on train data: \",f1_score(y_train,pred_train, average='macro'))\n",
    "    print(\"F1 score on test data: \",f1_score(y_test,pred_test, average='macro'))"
   ]
  },
  {
   "cell_type": "code",
   "execution_count": 97,
   "id": "xYV-dsipLUPE",
   "metadata": {
    "colab": {
     "base_uri": "https://localhost:8080/"
    },
    "id": "xYV-dsipLUPE",
    "outputId": "c9b77fe6-abd2-4876-d117-6baec68199d7"
   },
   "outputs": [
    {
     "name": "stdout",
     "output_type": "stream",
     "text": [
      "\n",
      "Train data accuracy score:  0.8467407407407408\n",
      "Test data accuracy score:  0.6322962962962962\n",
      "\n",
      "Recall score on train data:  0.8963181818181819\n",
      "Recall score on test data:  0.5409114217046116\n",
      "\n",
      "Precision score on train data:  0.8948773013972393\n",
      "Precision score on test data:  0.4671747185765302\n",
      "\n",
      "F1 score on train data:  0.8949511645903317\n",
      "F1 score on test data:  0.4892667073897231\n"
     ]
    }
   ],
   "source": [
    "classifier_scores(y_train,y_test,y_train_pred,y_test_pred)"
   ]
  },
  {
   "cell_type": "markdown",
   "id": "6435499f-9330-4fe8-b51d-1574acf323ef",
   "metadata": {},
   "source": [
    "#### Pipeline for the model with all the steps performed so far( vectorizer, sampling, Model)"
   ]
  },
  {
   "cell_type": "code",
   "execution_count": 105,
   "id": "1a05ad85-cce8-46c8-b038-022cdc0c98b2",
   "metadata": {},
   "outputs": [],
   "source": [
    "log_reg = LogisticRegression()\n",
    "pipeline = Pipeline([\n",
    "    ('vecto', vecto),\n",
    "    ('undersample', undersample),\n",
    "    ('oversample', oversample),\n",
    "    ('log_reg', log_reg)\n",
    "])\n",
    "pipeline.fit(X_train1 , y_train1)\n",
    "y_train_pred1 = pipeline.predict(X_train1)\n",
    "y_test_pred1 = pipeline.predict(X_test1)"
   ]
  },
  {
   "cell_type": "code",
   "execution_count": 106,
   "id": "5c85638b-6186-4ec3-9272-9c955c0d1052",
   "metadata": {},
   "outputs": [
    {
     "name": "stdout",
     "output_type": "stream",
     "text": [
      "\n",
      "Train data accuracy score:  0.7480740740740741\n",
      "Test data accuracy score:  0.6391111111111111\n",
      "\n",
      "Recall score on train data:  0.8620174564346357\n",
      "Recall score on test data:  0.5413722876939735\n",
      "\n",
      "Precision score on train data:  0.6549820230499772\n",
      "Precision score on test data:  0.4529356412173228\n",
      "\n",
      "F1 score on train data:  0.7370513590081077\n",
      "F1 score on test data:  0.48598941344243285\n"
     ]
    }
   ],
   "source": [
    "classifier_scores(y_train1,y_test1,y_train_pred1,y_test_pred1)"
   ]
  },
  {
   "cell_type": "markdown",
   "id": "a3cd2242-ab1d-455b-9a9b-40722c536735",
   "metadata": {},
   "source": [
    "- Since the data set is more imbalanced , accuracy wont be good metric or good measure for the fit of the model. \n",
    "- we have focused on just improving the F1 Score.  F1 score improved a lot by 15% only after making data balanced  by using sampling strategies"
   ]
  },
  {
   "cell_type": "markdown",
   "id": "c9963ff9-1794-458f-9d28-87646e5a63c0",
   "metadata": {},
   "source": [
    "#### Logistic Regression  with hypertuning"
   ]
  },
  {
   "cell_type": "code",
   "execution_count": 107,
   "id": "A-ZM1wT3PJfM",
   "metadata": {
    "colab": {
     "base_uri": "https://localhost:8080/"
    },
    "id": "A-ZM1wT3PJfM",
    "outputId": "91bc4556-16d1-463c-f2df-382346b2e420"
   },
   "outputs": [
    {
     "name": "stdout",
     "output_type": "stream",
     "text": [
      "0.621037037037037\n"
     ]
    }
   ],
   "source": [
    "param_grid = {'C': [0.1, 1, 10],\n",
    "              'penalty': ['l1', 'l2'],\n",
    "              'class_weight': [None, 'balanced']}\n",
    "\n",
    "from sklearn.model_selection import GridSearchCV\n",
    "lr = LogisticRegression()\n",
    "gcv_results = GridSearchCV(lr, param_grid, cv=3)\n",
    "gcv_results = gcv_results.fit(X_train, y_train)\n",
    "score = gcv_results.score(X_test,y_test)\n",
    "print(score)"
   ]
  },
  {
   "cell_type": "code",
   "execution_count": 108,
   "id": "61ee_IeXTiuG",
   "metadata": {
    "id": "61ee_IeXTiuG"
   },
   "outputs": [],
   "source": [
    "y_test_pred_gcv = gcv_results.predict(X_test)"
   ]
  },
  {
   "cell_type": "code",
   "execution_count": 109,
   "id": "6rq2Ic_PTKjt",
   "metadata": {
    "id": "6rq2Ic_PTKjt"
   },
   "outputs": [],
   "source": [
    "y_train_pred_gcv = gcv_results.predict(X_train)"
   ]
  },
  {
   "cell_type": "code",
   "execution_count": 110,
   "id": "VeHxDlsDSDiw",
   "metadata": {
    "colab": {
     "base_uri": "https://localhost:8080/"
    },
    "id": "VeHxDlsDSDiw",
    "outputId": "06c668fc-4ce1-4bf4-a477-fcd09f45e977"
   },
   "outputs": [
    {
     "name": "stdout",
     "output_type": "stream",
     "text": [
      "\n",
      "Train data accuracy score:  0.9415555555555556\n",
      "Test data accuracy score:  0.621037037037037\n",
      "\n",
      "Recall score on train data:  0.9642424242424241\n",
      "Recall score on test data:  0.5518231270335847\n",
      "\n",
      "Precision score on train data:  0.9620990137832663\n",
      "Precision score on test data:  0.5122421570390439\n",
      "\n",
      "F1 score on train data:  0.9629824332856279\n",
      "F1 score on test data:  0.5211538304780812\n"
     ]
    }
   ],
   "source": [
    "classifier_scores(y_train,y_test,y_train_pred_gcv,y_test_pred_gcv)"
   ]
  },
  {
   "cell_type": "code",
   "execution_count": 112,
   "id": "qVdR2sSHSxS1",
   "metadata": {
    "colab": {
     "base_uri": "https://localhost:8080/"
    },
    "id": "qVdR2sSHSxS1",
    "outputId": "05349d41-8ab2-4524-ea0d-50f8f5c6c551"
   },
   "outputs": [
    {
     "name": "stdout",
     "output_type": "stream",
     "text": [
      "              precision    recall  f1-score   support\n",
      "\n",
      "           0       0.33      0.25      0.29         4\n",
      "           1       0.78      0.65      0.71      1754\n",
      "           2       0.53      0.53      0.53        32\n",
      "           3       0.50      0.57      0.54       636\n",
      "           4       0.60      0.73      0.66        67\n",
      "           5       0.57      0.44      0.50         9\n",
      "           6       0.62      0.50      0.56        10\n",
      "           7       0.24      0.28      0.26        88\n",
      "           8       0.55      0.71      0.62       246\n",
      "           9       0.49      0.60      0.54       524\n",
      "          10       0.40      0.80      0.53         5\n",
      "\n",
      "    accuracy                           0.62      3375\n",
      "   macro avg       0.51      0.55      0.52      3375\n",
      "weighted avg       0.65      0.62      0.63      3375\n",
      "\n"
     ]
    }
   ],
   "source": [
    "from sklearn.metrics import classification_report\n",
    "print(classification_report(y_test, y_test_pred_gcv))"
   ]
  },
  {
   "cell_type": "markdown",
   "id": "8cc9ce88-8d5f-4a57-91c4-8a09caa1dc2f",
   "metadata": {},
   "source": [
    "- Grid Search with hypertuning gave the best estimator with weighted average f1 score of 0.63 and macro average score of 0.52 after trying out all the combinations of paramters specified"
   ]
  },
  {
   "cell_type": "markdown",
   "id": "0ccab213-0878-4953-9023-27bf593c3cc3",
   "metadata": {
    "id": "0ccab213-0878-4953-9023-27bf593c3cc3"
   },
   "source": [
    "#### Random Forest classifier"
   ]
  },
  {
   "cell_type": "code",
   "execution_count": 113,
   "id": "5052724a-2bad-4adf-bbaf-1b268a4d5524",
   "metadata": {},
   "outputs": [],
   "source": [
    "rand_f = RandomForestClassifier(random_state=0)\n",
    "rf_pipeline = Pipeline([\n",
    "    ('vecto', vecto),\n",
    "    ('undersample', undersample),\n",
    "    ('oversample', oversample),\n",
    "    ('random_forest', rand_f)\n",
    "])\n",
    "rf_pipeline.fit(X_train1 , y_train1)\n",
    "y_train_pred1 = rf_pipeline.predict(X_train1)\n",
    "y_test_pred1 = rf_pipeline.predict(X_test1)"
   ]
  },
  {
   "cell_type": "code",
   "execution_count": 115,
   "id": "26ff397a-7d94-4b7a-a2ce-15dbee03d69b",
   "metadata": {},
   "outputs": [
    {
     "name": "stdout",
     "output_type": "stream",
     "text": [
      "\n",
      "Train data accuracy score:  0.9045925925925926\n",
      "Test data accuracy score:  0.6491851851851852\n",
      "\n",
      "Recall score on train data:  0.9602485533241393\n",
      "Recall score on test data:  0.46554146356736725\n",
      "\n",
      "Precision score on train data:  0.9148331700431509\n",
      "Precision score on test data:  0.6402655361190741\n",
      "\n",
      "F1 score on train data:  0.9356148951189952\n",
      "F1 score on test data:  0.51026181077617\n"
     ]
    }
   ],
   "source": [
    "classifier_scores(y_train1,y_test1,y_train_pred1,y_test_pred1)"
   ]
  },
  {
   "cell_type": "markdown",
   "id": "ad8b6d2b-b92e-4992-bb6b-81d95461500b",
   "metadata": {},
   "source": [
    "## Conclusion"
   ]
  },
  {
   "cell_type": "markdown",
   "id": "bac51f63-c24f-48e0-9c3e-770ad44c2b1f",
   "metadata": {},
   "source": [
    "Logistic Regresssion with hypertuning approach performed the best of the three models we built with weighted average F1 score of 0.63. Sampling strategy helped improving the model by making more dataset balanced. Random Forest also performed good and gave similar results but it took bit more time to train the model and computationally expennsive compared to Logistic Regression. Hence we would consider the Logistic Regression hypertuned model as the final model for the News Classification."
   ]
  }
 ],
 "metadata": {
  "colab": {
   "provenance": []
  },
  "kernelspec": {
   "display_name": "Python 3 (ipykernel)",
   "language": "python",
   "name": "python3"
  },
  "language_info": {
   "codemirror_mode": {
    "name": "ipython",
    "version": 3
   },
   "file_extension": ".py",
   "mimetype": "text/x-python",
   "name": "python",
   "nbconvert_exporter": "python",
   "pygments_lexer": "ipython3",
   "version": "3.10.7"
  }
 },
 "nbformat": 4,
 "nbformat_minor": 5
}
