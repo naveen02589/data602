{
 "cells": [
  {
   "cell_type": "markdown",
   "id": "4bb95d6f-f7ce-4e0b-975b-dadd024b3792",
   "metadata": {
    "id": "4bb95d6f-f7ce-4e0b-975b-dadd024b3792"
   },
   "source": [
    "## Import libraries"
   ]
  },
  {
   "cell_type": "code",
   "execution_count": 1,
   "id": "9e9e3b91-7637-4adc-915e-f35bd8d506da",
   "metadata": {
    "id": "9e9e3b91-7637-4adc-915e-f35bd8d506da"
   },
   "outputs": [],
   "source": [
    "import pandas as pd\n",
    "import re\n",
    "import nltk\n",
    "from nltk.corpus import stopwords\n",
    "from nltk.stem.wordnet import WordNetLemmatizer\n",
    "from sklearn.feature_extraction.text import TfidfVectorizer\n",
    "from sklearn.cluster import KMeans\n",
    "from sklearn.pipeline import Pipeline\n",
    "from sklearn.ensemble import RandomForestClassifier\n",
    "from sklearn.linear_model import LogisticRegression\n",
    "from sklearn.metrics import accuracy_score,classification_report, confusion_matrix,recall_score,precision_score,f1_score\n",
    "from sklearn.model_selection import GridSearchCV\n",
    "from sklearn.metrics.pairwise import pairwise_distances_argmin_min"
   ]
  },
  {
   "cell_type": "code",
   "execution_count": 2,
   "id": "qeCSLQZ7CiHv",
   "metadata": {
    "colab": {
     "base_uri": "https://localhost:8080/"
    },
    "id": "qeCSLQZ7CiHv",
    "outputId": "956c3f0f-0061-43ea-d8db-2386e2a4320d"
   },
   "outputs": [
    {
     "name": "stderr",
     "output_type": "stream",
     "text": [
      "[nltk_data] Downloading package stopwords to /root/nltk_data...\n",
      "[nltk_data]   Package stopwords is already up-to-date!\n"
     ]
    },
    {
     "data": {
      "text/plain": [
       "True"
      ]
     },
     "execution_count": 2,
     "metadata": {},
     "output_type": "execute_result"
    }
   ],
   "source": [
    "nltk.download('stopwords')"
   ]
  },
  {
   "cell_type": "code",
   "execution_count": 3,
   "id": "dYebaDBTCktW",
   "metadata": {
    "colab": {
     "base_uri": "https://localhost:8080/"
    },
    "id": "dYebaDBTCktW",
    "outputId": "5343c149-19e0-4ab7-c1f6-8c8192da706c"
   },
   "outputs": [
    {
     "name": "stderr",
     "output_type": "stream",
     "text": [
      "[nltk_data] Downloading package punkt to /root/nltk_data...\n",
      "[nltk_data]   Package punkt is already up-to-date!\n"
     ]
    },
    {
     "data": {
      "text/plain": [
       "True"
      ]
     },
     "execution_count": 3,
     "metadata": {},
     "output_type": "execute_result"
    }
   ],
   "source": [
    "nltk.download('punkt')"
   ]
  },
  {
   "cell_type": "code",
   "execution_count": 4,
   "id": "WBw5KTurCm1_",
   "metadata": {
    "colab": {
     "base_uri": "https://localhost:8080/"
    },
    "id": "WBw5KTurCm1_",
    "outputId": "3b4ce853-6bc1-4fb9-9874-9a8033930cbc"
   },
   "outputs": [
    {
     "name": "stderr",
     "output_type": "stream",
     "text": [
      "[nltk_data] Downloading package wordnet to /root/nltk_data...\n",
      "[nltk_data]   Package wordnet is already up-to-date!\n"
     ]
    },
    {
     "data": {
      "text/plain": [
       "True"
      ]
     },
     "execution_count": 4,
     "metadata": {},
     "output_type": "execute_result"
    }
   ],
   "source": [
    "nltk.download('wordnet')"
   ]
  },
  {
   "cell_type": "markdown",
   "id": "fdb87e61-06f1-47ad-9e04-be29c773523b",
   "metadata": {
    "id": "fdb87e61-06f1-47ad-9e04-be29c773523b"
   },
   "source": [
    "## Data Loading"
   ]
  },
  {
   "cell_type": "code",
   "execution_count": 5,
   "id": "c127bd01-a0fb-407c-afe7-f874a2253e5d",
   "metadata": {
    "id": "c127bd01-a0fb-407c-afe7-f874a2253e5d"
   },
   "outputs": [],
   "source": [
    "df = pd.read_csv(\"https://raw.githubusercontent.com/msaricaumbc/DS_data/master/ds602/final/X_train.csv\")\n",
    "labels = pd.read_csv(\"https://raw.githubusercontent.com/msaricaumbc/DS_data/master/ds602/final/y_train.csv\")"
   ]
  },
  {
   "cell_type": "code",
   "execution_count": 6,
   "id": "2bdb88e6-5ff3-4b81-b1f7-148d6ed9ff22",
   "metadata": {
    "colab": {
     "base_uri": "https://localhost:8080/",
     "height": 206
    },
    "id": "2bdb88e6-5ff3-4b81-b1f7-148d6ed9ff22",
    "outputId": "8f633ba5-6985-4ae8-dce2-850d6fdb3882"
   },
   "outputs": [
    {
     "data": {
      "text/html": [
       "\n",
       "  <div id=\"df-035bd3aa-174a-4afd-a5a3-11aee0af97bb\">\n",
       "    <div class=\"colab-df-container\">\n",
       "      <div>\n",
       "<style scoped>\n",
       "    .dataframe tbody tr th:only-of-type {\n",
       "        vertical-align: middle;\n",
       "    }\n",
       "\n",
       "    .dataframe tbody tr th {\n",
       "        vertical-align: top;\n",
       "    }\n",
       "\n",
       "    .dataframe thead th {\n",
       "        text-align: right;\n",
       "    }\n",
       "</style>\n",
       "<table border=\"1\" class=\"dataframe\">\n",
       "  <thead>\n",
       "    <tr style=\"text-align: right;\">\n",
       "      <th></th>\n",
       "      <th>review</th>\n",
       "    </tr>\n",
       "  </thead>\n",
       "  <tbody>\n",
       "    <tr>\n",
       "      <th>0</th>\n",
       "      <td>Shame, is a Swedish film in Swedish with Engli...</td>\n",
       "    </tr>\n",
       "    <tr>\n",
       "      <th>1</th>\n",
       "      <td>I know it's rather unfair to comment on a movi...</td>\n",
       "    </tr>\n",
       "    <tr>\n",
       "      <th>2</th>\n",
       "      <td>\"Bread\" very sharply skewers the conventions o...</td>\n",
       "    </tr>\n",
       "    <tr>\n",
       "      <th>3</th>\n",
       "      <td>After reading tons of good reviews about this ...</td>\n",
       "    </tr>\n",
       "    <tr>\n",
       "      <th>4</th>\n",
       "      <td>During the Civil war a wounded union soldier h...</td>\n",
       "    </tr>\n",
       "  </tbody>\n",
       "</table>\n",
       "</div>\n",
       "      <button class=\"colab-df-convert\" onclick=\"convertToInteractive('df-035bd3aa-174a-4afd-a5a3-11aee0af97bb')\"\n",
       "              title=\"Convert this dataframe to an interactive table.\"\n",
       "              style=\"display:none;\">\n",
       "        \n",
       "  <svg xmlns=\"http://www.w3.org/2000/svg\" height=\"24px\"viewBox=\"0 0 24 24\"\n",
       "       width=\"24px\">\n",
       "    <path d=\"M0 0h24v24H0V0z\" fill=\"none\"/>\n",
       "    <path d=\"M18.56 5.44l.94 2.06.94-2.06 2.06-.94-2.06-.94-.94-2.06-.94 2.06-2.06.94zm-11 1L8.5 8.5l.94-2.06 2.06-.94-2.06-.94L8.5 2.5l-.94 2.06-2.06.94zm10 10l.94 2.06.94-2.06 2.06-.94-2.06-.94-.94-2.06-.94 2.06-2.06.94z\"/><path d=\"M17.41 7.96l-1.37-1.37c-.4-.4-.92-.59-1.43-.59-.52 0-1.04.2-1.43.59L10.3 9.45l-7.72 7.72c-.78.78-.78 2.05 0 2.83L4 21.41c.39.39.9.59 1.41.59.51 0 1.02-.2 1.41-.59l7.78-7.78 2.81-2.81c.8-.78.8-2.07 0-2.86zM5.41 20L4 18.59l7.72-7.72 1.47 1.35L5.41 20z\"/>\n",
       "  </svg>\n",
       "      </button>\n",
       "      \n",
       "  <style>\n",
       "    .colab-df-container {\n",
       "      display:flex;\n",
       "      flex-wrap:wrap;\n",
       "      gap: 12px;\n",
       "    }\n",
       "\n",
       "    .colab-df-convert {\n",
       "      background-color: #E8F0FE;\n",
       "      border: none;\n",
       "      border-radius: 50%;\n",
       "      cursor: pointer;\n",
       "      display: none;\n",
       "      fill: #1967D2;\n",
       "      height: 32px;\n",
       "      padding: 0 0 0 0;\n",
       "      width: 32px;\n",
       "    }\n",
       "\n",
       "    .colab-df-convert:hover {\n",
       "      background-color: #E2EBFA;\n",
       "      box-shadow: 0px 1px 2px rgba(60, 64, 67, 0.3), 0px 1px 3px 1px rgba(60, 64, 67, 0.15);\n",
       "      fill: #174EA6;\n",
       "    }\n",
       "\n",
       "    [theme=dark] .colab-df-convert {\n",
       "      background-color: #3B4455;\n",
       "      fill: #D2E3FC;\n",
       "    }\n",
       "\n",
       "    [theme=dark] .colab-df-convert:hover {\n",
       "      background-color: #434B5C;\n",
       "      box-shadow: 0px 1px 3px 1px rgba(0, 0, 0, 0.15);\n",
       "      filter: drop-shadow(0px 1px 2px rgba(0, 0, 0, 0.3));\n",
       "      fill: #FFFFFF;\n",
       "    }\n",
       "  </style>\n",
       "\n",
       "      <script>\n",
       "        const buttonEl =\n",
       "          document.querySelector('#df-035bd3aa-174a-4afd-a5a3-11aee0af97bb button.colab-df-convert');\n",
       "        buttonEl.style.display =\n",
       "          google.colab.kernel.accessAllowed ? 'block' : 'none';\n",
       "\n",
       "        async function convertToInteractive(key) {\n",
       "          const element = document.querySelector('#df-035bd3aa-174a-4afd-a5a3-11aee0af97bb');\n",
       "          const dataTable =\n",
       "            await google.colab.kernel.invokeFunction('convertToInteractive',\n",
       "                                                     [key], {});\n",
       "          if (!dataTable) return;\n",
       "\n",
       "          const docLinkHtml = 'Like what you see? Visit the ' +\n",
       "            '<a target=\"_blank\" href=https://colab.research.google.com/notebooks/data_table.ipynb>data table notebook</a>'\n",
       "            + ' to learn more about interactive tables.';\n",
       "          element.innerHTML = '';\n",
       "          dataTable['output_type'] = 'display_data';\n",
       "          await google.colab.output.renderOutput(dataTable, element);\n",
       "          const docLink = document.createElement('div');\n",
       "          docLink.innerHTML = docLinkHtml;\n",
       "          element.appendChild(docLink);\n",
       "        }\n",
       "      </script>\n",
       "    </div>\n",
       "  </div>\n",
       "  "
      ],
      "text/plain": [
       "                                              review\n",
       "0  Shame, is a Swedish film in Swedish with Engli...\n",
       "1  I know it's rather unfair to comment on a movi...\n",
       "2  \"Bread\" very sharply skewers the conventions o...\n",
       "3  After reading tons of good reviews about this ...\n",
       "4  During the Civil war a wounded union soldier h..."
      ]
     },
     "execution_count": 6,
     "metadata": {},
     "output_type": "execute_result"
    }
   ],
   "source": [
    "df.head()"
   ]
  },
  {
   "cell_type": "code",
   "execution_count": 7,
   "id": "b818931e-ef50-470f-a966-ac8d798cac89",
   "metadata": {
    "colab": {
     "base_uri": "https://localhost:8080/"
    },
    "id": "b818931e-ef50-470f-a966-ac8d798cac89",
    "outputId": "174fd26a-2d8e-4a60-81a4-7f3f5b47f3ca"
   },
   "outputs": [
    {
     "data": {
      "text/plain": [
       "(40000, 1)"
      ]
     },
     "execution_count": 7,
     "metadata": {},
     "output_type": "execute_result"
    }
   ],
   "source": [
    "df.shape"
   ]
  },
  {
   "cell_type": "code",
   "execution_count": 8,
   "id": "bb5e0f86-838c-4927-a743-82b25eb7768c",
   "metadata": {
    "colab": {
     "base_uri": "https://localhost:8080/",
     "height": 175
    },
    "id": "bb5e0f86-838c-4927-a743-82b25eb7768c",
    "outputId": "f5a370b1-80f2-46d1-8440-0442f0037e3e"
   },
   "outputs": [
    {
     "data": {
      "text/html": [
       "\n",
       "  <div id=\"df-7744b485-53a3-42cb-a813-0e2c415195d3\">\n",
       "    <div class=\"colab-df-container\">\n",
       "      <div>\n",
       "<style scoped>\n",
       "    .dataframe tbody tr th:only-of-type {\n",
       "        vertical-align: middle;\n",
       "    }\n",
       "\n",
       "    .dataframe tbody tr th {\n",
       "        vertical-align: top;\n",
       "    }\n",
       "\n",
       "    .dataframe thead th {\n",
       "        text-align: right;\n",
       "    }\n",
       "</style>\n",
       "<table border=\"1\" class=\"dataframe\">\n",
       "  <thead>\n",
       "    <tr style=\"text-align: right;\">\n",
       "      <th></th>\n",
       "      <th>review</th>\n",
       "    </tr>\n",
       "  </thead>\n",
       "  <tbody>\n",
       "    <tr>\n",
       "      <th>count</th>\n",
       "      <td>40000</td>\n",
       "    </tr>\n",
       "    <tr>\n",
       "      <th>unique</th>\n",
       "      <td>39719</td>\n",
       "    </tr>\n",
       "    <tr>\n",
       "      <th>top</th>\n",
       "      <td>Loved today's show!!! It was a variety and not...</td>\n",
       "    </tr>\n",
       "    <tr>\n",
       "      <th>freq</th>\n",
       "      <td>5</td>\n",
       "    </tr>\n",
       "  </tbody>\n",
       "</table>\n",
       "</div>\n",
       "      <button class=\"colab-df-convert\" onclick=\"convertToInteractive('df-7744b485-53a3-42cb-a813-0e2c415195d3')\"\n",
       "              title=\"Convert this dataframe to an interactive table.\"\n",
       "              style=\"display:none;\">\n",
       "        \n",
       "  <svg xmlns=\"http://www.w3.org/2000/svg\" height=\"24px\"viewBox=\"0 0 24 24\"\n",
       "       width=\"24px\">\n",
       "    <path d=\"M0 0h24v24H0V0z\" fill=\"none\"/>\n",
       "    <path d=\"M18.56 5.44l.94 2.06.94-2.06 2.06-.94-2.06-.94-.94-2.06-.94 2.06-2.06.94zm-11 1L8.5 8.5l.94-2.06 2.06-.94-2.06-.94L8.5 2.5l-.94 2.06-2.06.94zm10 10l.94 2.06.94-2.06 2.06-.94-2.06-.94-.94-2.06-.94 2.06-2.06.94z\"/><path d=\"M17.41 7.96l-1.37-1.37c-.4-.4-.92-.59-1.43-.59-.52 0-1.04.2-1.43.59L10.3 9.45l-7.72 7.72c-.78.78-.78 2.05 0 2.83L4 21.41c.39.39.9.59 1.41.59.51 0 1.02-.2 1.41-.59l7.78-7.78 2.81-2.81c.8-.78.8-2.07 0-2.86zM5.41 20L4 18.59l7.72-7.72 1.47 1.35L5.41 20z\"/>\n",
       "  </svg>\n",
       "      </button>\n",
       "      \n",
       "  <style>\n",
       "    .colab-df-container {\n",
       "      display:flex;\n",
       "      flex-wrap:wrap;\n",
       "      gap: 12px;\n",
       "    }\n",
       "\n",
       "    .colab-df-convert {\n",
       "      background-color: #E8F0FE;\n",
       "      border: none;\n",
       "      border-radius: 50%;\n",
       "      cursor: pointer;\n",
       "      display: none;\n",
       "      fill: #1967D2;\n",
       "      height: 32px;\n",
       "      padding: 0 0 0 0;\n",
       "      width: 32px;\n",
       "    }\n",
       "\n",
       "    .colab-df-convert:hover {\n",
       "      background-color: #E2EBFA;\n",
       "      box-shadow: 0px 1px 2px rgba(60, 64, 67, 0.3), 0px 1px 3px 1px rgba(60, 64, 67, 0.15);\n",
       "      fill: #174EA6;\n",
       "    }\n",
       "\n",
       "    [theme=dark] .colab-df-convert {\n",
       "      background-color: #3B4455;\n",
       "      fill: #D2E3FC;\n",
       "    }\n",
       "\n",
       "    [theme=dark] .colab-df-convert:hover {\n",
       "      background-color: #434B5C;\n",
       "      box-shadow: 0px 1px 3px 1px rgba(0, 0, 0, 0.15);\n",
       "      filter: drop-shadow(0px 1px 2px rgba(0, 0, 0, 0.3));\n",
       "      fill: #FFFFFF;\n",
       "    }\n",
       "  </style>\n",
       "\n",
       "      <script>\n",
       "        const buttonEl =\n",
       "          document.querySelector('#df-7744b485-53a3-42cb-a813-0e2c415195d3 button.colab-df-convert');\n",
       "        buttonEl.style.display =\n",
       "          google.colab.kernel.accessAllowed ? 'block' : 'none';\n",
       "\n",
       "        async function convertToInteractive(key) {\n",
       "          const element = document.querySelector('#df-7744b485-53a3-42cb-a813-0e2c415195d3');\n",
       "          const dataTable =\n",
       "            await google.colab.kernel.invokeFunction('convertToInteractive',\n",
       "                                                     [key], {});\n",
       "          if (!dataTable) return;\n",
       "\n",
       "          const docLinkHtml = 'Like what you see? Visit the ' +\n",
       "            '<a target=\"_blank\" href=https://colab.research.google.com/notebooks/data_table.ipynb>data table notebook</a>'\n",
       "            + ' to learn more about interactive tables.';\n",
       "          element.innerHTML = '';\n",
       "          dataTable['output_type'] = 'display_data';\n",
       "          await google.colab.output.renderOutput(dataTable, element);\n",
       "          const docLink = document.createElement('div');\n",
       "          docLink.innerHTML = docLinkHtml;\n",
       "          element.appendChild(docLink);\n",
       "        }\n",
       "      </script>\n",
       "    </div>\n",
       "  </div>\n",
       "  "
      ],
      "text/plain": [
       "                                                   review\n",
       "count                                               40000\n",
       "unique                                              39719\n",
       "top     Loved today's show!!! It was a variety and not...\n",
       "freq                                                    5"
      ]
     },
     "execution_count": 8,
     "metadata": {},
     "output_type": "execute_result"
    }
   ],
   "source": [
    "df.describe()"
   ]
  },
  {
   "cell_type": "code",
   "execution_count": 9,
   "id": "2fa41e4d-41e6-4bb9-be97-8371919c71bd",
   "metadata": {
    "colab": {
     "base_uri": "https://localhost:8080/"
    },
    "id": "2fa41e4d-41e6-4bb9-be97-8371919c71bd",
    "outputId": "554b4c6c-a76f-4f83-8654-a48650d8e289"
   },
   "outputs": [
    {
     "data": {
      "text/plain": [
       "review    0\n",
       "dtype: int64"
      ]
     },
     "execution_count": 9,
     "metadata": {},
     "output_type": "execute_result"
    }
   ],
   "source": [
    "df.isnull().sum()"
   ]
  },
  {
   "cell_type": "code",
   "execution_count": 10,
   "id": "1f0f2fc5-7b66-4dcb-8e26-606d7419806e",
   "metadata": {
    "colab": {
     "base_uri": "https://localhost:8080/",
     "height": 206
    },
    "id": "1f0f2fc5-7b66-4dcb-8e26-606d7419806e",
    "outputId": "47203be6-7be8-4b81-d721-50b112c4084b"
   },
   "outputs": [
    {
     "data": {
      "text/html": [
       "\n",
       "  <div id=\"df-e682e140-10b0-46b0-9a2b-64d6bf40e2ad\">\n",
       "    <div class=\"colab-df-container\">\n",
       "      <div>\n",
       "<style scoped>\n",
       "    .dataframe tbody tr th:only-of-type {\n",
       "        vertical-align: middle;\n",
       "    }\n",
       "\n",
       "    .dataframe tbody tr th {\n",
       "        vertical-align: top;\n",
       "    }\n",
       "\n",
       "    .dataframe thead th {\n",
       "        text-align: right;\n",
       "    }\n",
       "</style>\n",
       "<table border=\"1\" class=\"dataframe\">\n",
       "  <thead>\n",
       "    <tr style=\"text-align: right;\">\n",
       "      <th></th>\n",
       "      <th>sentiment</th>\n",
       "    </tr>\n",
       "  </thead>\n",
       "  <tbody>\n",
       "    <tr>\n",
       "      <th>0</th>\n",
       "      <td>1</td>\n",
       "    </tr>\n",
       "    <tr>\n",
       "      <th>1</th>\n",
       "      <td>0</td>\n",
       "    </tr>\n",
       "    <tr>\n",
       "      <th>2</th>\n",
       "      <td>1</td>\n",
       "    </tr>\n",
       "    <tr>\n",
       "      <th>3</th>\n",
       "      <td>1</td>\n",
       "    </tr>\n",
       "    <tr>\n",
       "      <th>4</th>\n",
       "      <td>1</td>\n",
       "    </tr>\n",
       "  </tbody>\n",
       "</table>\n",
       "</div>\n",
       "      <button class=\"colab-df-convert\" onclick=\"convertToInteractive('df-e682e140-10b0-46b0-9a2b-64d6bf40e2ad')\"\n",
       "              title=\"Convert this dataframe to an interactive table.\"\n",
       "              style=\"display:none;\">\n",
       "        \n",
       "  <svg xmlns=\"http://www.w3.org/2000/svg\" height=\"24px\"viewBox=\"0 0 24 24\"\n",
       "       width=\"24px\">\n",
       "    <path d=\"M0 0h24v24H0V0z\" fill=\"none\"/>\n",
       "    <path d=\"M18.56 5.44l.94 2.06.94-2.06 2.06-.94-2.06-.94-.94-2.06-.94 2.06-2.06.94zm-11 1L8.5 8.5l.94-2.06 2.06-.94-2.06-.94L8.5 2.5l-.94 2.06-2.06.94zm10 10l.94 2.06.94-2.06 2.06-.94-2.06-.94-.94-2.06-.94 2.06-2.06.94z\"/><path d=\"M17.41 7.96l-1.37-1.37c-.4-.4-.92-.59-1.43-.59-.52 0-1.04.2-1.43.59L10.3 9.45l-7.72 7.72c-.78.78-.78 2.05 0 2.83L4 21.41c.39.39.9.59 1.41.59.51 0 1.02-.2 1.41-.59l7.78-7.78 2.81-2.81c.8-.78.8-2.07 0-2.86zM5.41 20L4 18.59l7.72-7.72 1.47 1.35L5.41 20z\"/>\n",
       "  </svg>\n",
       "      </button>\n",
       "      \n",
       "  <style>\n",
       "    .colab-df-container {\n",
       "      display:flex;\n",
       "      flex-wrap:wrap;\n",
       "      gap: 12px;\n",
       "    }\n",
       "\n",
       "    .colab-df-convert {\n",
       "      background-color: #E8F0FE;\n",
       "      border: none;\n",
       "      border-radius: 50%;\n",
       "      cursor: pointer;\n",
       "      display: none;\n",
       "      fill: #1967D2;\n",
       "      height: 32px;\n",
       "      padding: 0 0 0 0;\n",
       "      width: 32px;\n",
       "    }\n",
       "\n",
       "    .colab-df-convert:hover {\n",
       "      background-color: #E2EBFA;\n",
       "      box-shadow: 0px 1px 2px rgba(60, 64, 67, 0.3), 0px 1px 3px 1px rgba(60, 64, 67, 0.15);\n",
       "      fill: #174EA6;\n",
       "    }\n",
       "\n",
       "    [theme=dark] .colab-df-convert {\n",
       "      background-color: #3B4455;\n",
       "      fill: #D2E3FC;\n",
       "    }\n",
       "\n",
       "    [theme=dark] .colab-df-convert:hover {\n",
       "      background-color: #434B5C;\n",
       "      box-shadow: 0px 1px 3px 1px rgba(0, 0, 0, 0.15);\n",
       "      filter: drop-shadow(0px 1px 2px rgba(0, 0, 0, 0.3));\n",
       "      fill: #FFFFFF;\n",
       "    }\n",
       "  </style>\n",
       "\n",
       "      <script>\n",
       "        const buttonEl =\n",
       "          document.querySelector('#df-e682e140-10b0-46b0-9a2b-64d6bf40e2ad button.colab-df-convert');\n",
       "        buttonEl.style.display =\n",
       "          google.colab.kernel.accessAllowed ? 'block' : 'none';\n",
       "\n",
       "        async function convertToInteractive(key) {\n",
       "          const element = document.querySelector('#df-e682e140-10b0-46b0-9a2b-64d6bf40e2ad');\n",
       "          const dataTable =\n",
       "            await google.colab.kernel.invokeFunction('convertToInteractive',\n",
       "                                                     [key], {});\n",
       "          if (!dataTable) return;\n",
       "\n",
       "          const docLinkHtml = 'Like what you see? Visit the ' +\n",
       "            '<a target=\"_blank\" href=https://colab.research.google.com/notebooks/data_table.ipynb>data table notebook</a>'\n",
       "            + ' to learn more about interactive tables.';\n",
       "          element.innerHTML = '';\n",
       "          dataTable['output_type'] = 'display_data';\n",
       "          await google.colab.output.renderOutput(dataTable, element);\n",
       "          const docLink = document.createElement('div');\n",
       "          docLink.innerHTML = docLinkHtml;\n",
       "          element.appendChild(docLink);\n",
       "        }\n",
       "      </script>\n",
       "    </div>\n",
       "  </div>\n",
       "  "
      ],
      "text/plain": [
       "   sentiment\n",
       "0          1\n",
       "1          0\n",
       "2          1\n",
       "3          1\n",
       "4          1"
      ]
     },
     "execution_count": 10,
     "metadata": {},
     "output_type": "execute_result"
    }
   ],
   "source": [
    "labels.head()"
   ]
  },
  {
   "cell_type": "code",
   "execution_count": 11,
   "id": "cbf75002-6c06-4236-9f8c-bd652cf509dc",
   "metadata": {
    "colab": {
     "base_uri": "https://localhost:8080/"
    },
    "id": "cbf75002-6c06-4236-9f8c-bd652cf509dc",
    "outputId": "66d355df-c1ff-4c52-ddfa-b4c2d0eec7ff"
   },
   "outputs": [
    {
     "data": {
      "text/plain": [
       "sentiment\n",
       "0            20000\n",
       "1            20000\n",
       "dtype: int64"
      ]
     },
     "execution_count": 11,
     "metadata": {},
     "output_type": "execute_result"
    }
   ],
   "source": [
    "labels.value_counts()"
   ]
  },
  {
   "cell_type": "code",
   "execution_count": 12,
   "id": "VX8fCO7iMSVC",
   "metadata": {
    "colab": {
     "base_uri": "https://localhost:8080/"
    },
    "id": "VX8fCO7iMSVC",
    "outputId": "958f6a03-4bf9-468d-d359-e884d77ea601"
   },
   "outputs": [
    {
     "data": {
      "text/plain": [
       "40000"
      ]
     },
     "execution_count": 12,
     "metadata": {},
     "output_type": "execute_result"
    }
   ],
   "source": [
    "len(df)"
   ]
  },
  {
   "cell_type": "code",
   "execution_count": 13,
   "id": "nctL0znKgmKw",
   "metadata": {
    "colab": {
     "base_uri": "https://localhost:8080/"
    },
    "id": "nctL0znKgmKw",
    "outputId": "e56f6b1a-b6ad-468c-887e-d17a9f6cbf30"
   },
   "outputs": [
    {
     "data": {
      "text/plain": [
       "281"
      ]
     },
     "execution_count": 13,
     "metadata": {},
     "output_type": "execute_result"
    }
   ],
   "source": [
    "df.duplicated().sum()"
   ]
  },
  {
   "cell_type": "code",
   "execution_count": 14,
   "id": "rgxC1cV-gw2G",
   "metadata": {
    "id": "rgxC1cV-gw2G"
   },
   "outputs": [],
   "source": [
    "df.drop_duplicates(keep='last',inplace=True)"
   ]
  },
  {
   "cell_type": "markdown",
   "id": "fdc097d0-b5c1-450b-b128-e387c4ebc267",
   "metadata": {
    "id": "fdc097d0-b5c1-450b-b128-e387c4ebc267"
   },
   "source": [
    "## Data cleaning"
   ]
  },
  {
   "cell_type": "code",
   "execution_count": 14,
   "id": "38f7707b-e74c-448d-99e6-285e78020937",
   "metadata": {
    "id": "38f7707b-e74c-448d-99e6-285e78020937"
   },
   "outputs": [],
   "source": [
    "def convert_to_lower(text):\n",
    "    return text.lower()\n",
    "def remove_numbers(text):\n",
    "    number_pattern = r'\\d+'\n",
    "    without_number = re.sub(pattern=number_pattern, repl=\" \", string=text)\n",
    "    return without_number\n",
    "\n",
    "import string\n",
    "def remove_punctuation(text):\n",
    "    return text.translate(str.maketrans('', '', string.punctuation))\n",
    "\n",
    "def remove_stopwords(text):\n",
    "    removed = []\n",
    "    stop_words = list(stopwords.words(\"english\"))\n",
    "    tokens = nltk.word_tokenize(text)\n",
    "    for i in range(len(tokens)):\n",
    "        if tokens[i] not in stop_words:\n",
    "            removed.append(tokens[i])\n",
    "    return \" \".join(removed)\n",
    "def remove_extra_white_spaces(text):\n",
    "    single_char_pattern = r'\\s+[a-zA-Z]\\s+'\n",
    "    without_sc = re.sub(pattern=single_char_pattern, repl=\" \", string=text)\n",
    "    return without_sc\n",
    "def lemmatizing(text):\n",
    "    lemmatizer = WordNetLemmatizer()\n",
    "    tokens = nltk.word_tokenize(text)\n",
    "    for i in range(len(tokens)):\n",
    "        lemma_word = lemmatizer.lemmatize(tokens[i])\n",
    "        tokens[i] = lemma_word\n",
    "    return \" \".join(tokens)\n",
    "\n",
    "df['review'] = df['review'].apply(convert_to_lower)\n",
    "df['review'] = df['review'].apply(remove_numbers)\n",
    "df['review'] = df['review'].apply(remove_punctuation)\n",
    "df['review'] = df['review'].apply(remove_stopwords)\n",
    "df['review'] = df['review'].apply(remove_extra_white_spaces)\n",
    "df['review'] = df['review'].apply(lemmatizing)\n"
   ]
  },
  {
   "cell_type": "markdown",
   "id": "742fc6c8-85ba-49b2-a721-c1480a396267",
   "metadata": {
    "id": "742fc6c8-85ba-49b2-a721-c1480a396267"
   },
   "source": [
    "- Replaced the missing values with empty string\n",
    "- Converted the text of reviews body to lower case\n",
    "- Removed digits from the body\n",
    "- Removed punctuations\n",
    "- Removed stopwords\n",
    "- Removed extra white spaces\n",
    "- Lemmatized the text to convert all words to their root word"
   ]
  },
  {
   "cell_type": "markdown",
   "id": "q1JP2eN6V6F9",
   "metadata": {
    "id": "q1JP2eN6V6F9"
   },
   "source": [
    "#### Performed sanity check to see if text is processed properly"
   ]
  },
  {
   "cell_type": "code",
   "execution_count": 15,
   "id": "pF0OsvnyScmv",
   "metadata": {
    "colab": {
     "base_uri": "https://localhost:8080/"
    },
    "id": "pF0OsvnyScmv",
    "outputId": "fba0065f-3f1f-429c-cfcf-d2b7df64302f"
   },
   "outputs": [
    {
     "name": "stdout",
     "output_type": "stream",
     "text": [
      "Preprocessed Text:\n",
      "poor basketball movie gruff coach dubious background come small indiana high school basketball team coach boy victory breaking first building upbr br bad subject photography ok plot totally predictable real subplots nothing added make movie exciting know going happen beginning suitable th grader\n",
      "Preprocessed Text:\n",
      "throughout watching end day got sense film maker perhaps trying make unique average hollywood action film failed course give credit trying peter hyams actually tried directing time instead churning another flat action film attempted inject atmosphere movie darkening light adding ton blood method work used correctly see se en feel like cheap trick try scare u hyams decent action director offer nothing basic shoot out fight scene except lackluster sub par fx end battle photographer hyams demonstrates actual ability displaying good frame work movement nothing solid workbr br screenwriter andrew marlowe film greatest enemy part script actually show making good religious thriller time even show quasiintellectual thought temptation scene arnold gabriel byrne small plus choked river negative generic dialoguecharacters gapping plot hole convenient plot point happen point character right direction standard hollywood black hole marlowe screenplay fall shadow good movie could faded quicklybr br film surprisingly good cast arnold still possessing larger life attitude try play depressed edge cop average result stick invincible hero arnie good gabriel byrne strong point ensemble bringing nice air cynicism role satan villainous role ripe overacting byrne restrains add bit menace character kevin pollak normal able bring least chuckle movie he done better also look stellar small role rod steigerbr br hyams looked like trying separate faceless mass hollywood action film heading right direction neither script originality take therebr br\n",
      "Preprocessed Text:\n",
      "terrible acting terrible script wholly unrealistic bumblebee fly anyway exemplifies cliche sentimentalism movie studio love cram viewer throat elijah wood unimaginably bad primary role plot point contrived sappy cook wood relationship laughable best worst element bumblebee script mindnumbingly bad dialogue ever misfortune hear bumblebee actually crawling inside ear stinging eardrum would preferable hearing elijah wood robotically spit pseudoprofound line wish bumblebee project would performed could mercifully memory stinker\n",
      "Preprocessed Text:\n",
      "snarky homophobic thing dated seems particularly meanspirited filled gay stereotype character meant laughed rather redd foxx standard schtick michael warren least try bring humanity one dimensional character pearlpearl thinking pearl bailey deserves far better\n",
      "Preprocessed Text:\n",
      "likeable character lead combination worst woody allenpaul provensareiser contrived scene anyone really think thiat kid rollerblade going knock guy sickeningly badbr br\n"
     ]
    }
   ],
   "source": [
    "random_samples = df['review'].sample(5).tolist()\n",
    "for text in random_samples:\n",
    "    print(\"Preprocessed Text:\")\n",
    "    print(text)"
   ]
  },
  {
   "cell_type": "markdown",
   "id": "3e70d173-898f-4eef-8dd5-1b83315f5a3b",
   "metadata": {
    "id": "3e70d173-898f-4eef-8dd5-1b83315f5a3b"
   },
   "source": [
    "### Train-test-split"
   ]
  },
  {
   "cell_type": "code",
   "execution_count": 17,
   "id": "77629d7e-d51c-4bf4-93c4-a9add0e2d87f",
   "metadata": {
    "id": "77629d7e-d51c-4bf4-93c4-a9add0e2d87f"
   },
   "outputs": [],
   "source": [
    "from sklearn.model_selection import train_test_split\n",
    "X_train, X_test, y_train, y_test = train_test_split(df, labels['sentiment'], test_size =  0.2)"
   ]
  },
  {
   "cell_type": "code",
   "execution_count": 28,
   "id": "a6c238ed-9163-44f3-adb8-5a1a201af2bc",
   "metadata": {
    "colab": {
     "base_uri": "https://localhost:8080/"
    },
    "id": "a6c238ed-9163-44f3-adb8-5a1a201af2bc",
    "outputId": "12037fa4-d871-4929-9474-3ff2812d6a63"
   },
   "outputs": [
    {
     "data": {
      "text/plain": [
       "(32000, 1)"
      ]
     },
     "execution_count": 28,
     "metadata": {},
     "output_type": "execute_result"
    }
   ],
   "source": [
    "X_train.shape"
   ]
  },
  {
   "cell_type": "code",
   "execution_count": null,
   "id": "d9f504f7-b4b9-4b7f-8924-e435685b2ef0",
   "metadata": {
    "colab": {
     "base_uri": "https://localhost:8080/"
    },
    "id": "d9f504f7-b4b9-4b7f-8924-e435685b2ef0",
    "outputId": "9cd2f5e4-5305-4f5a-912c-592662aca372"
   },
   "outputs": [
    {
     "data": {
      "text/plain": [
       "(32000,)"
      ]
     },
     "execution_count": 18,
     "metadata": {},
     "output_type": "execute_result"
    }
   ],
   "source": [
    "y_train.shape"
   ]
  },
  {
   "cell_type": "markdown",
   "id": "9c9dc050-e4a1-405c-8e62-54c293369434",
   "metadata": {
    "id": "9c9dc050-e4a1-405c-8e62-54c293369434"
   },
   "source": [
    "### Finding optimal number of clusters"
   ]
  },
  {
   "cell_type": "code",
   "execution_count": null,
   "id": "e2f5643d-c996-40da-bfbc-5ea1105669c0",
   "metadata": {
    "id": "e2f5643d-c996-40da-bfbc-5ea1105669c0"
   },
   "outputs": [],
   "source": [
    "wcss = []\n",
    "X = tfidf.fit(X['review']).transform(df['review'])\n",
    "for num_clusters in range(2, 100):\n",
    "    kmeans = KMeans(n_clusters=num_clusters, random_state=42)\n",
    "    kmeans.fit(X)\n",
    "    wcss.append(kmeans.inertia_)\n",
    "    \n",
    "plt.plot(range(2, 50), wcss, marker='o')\n",
    "plt.xlabel('Number of Clusters')\n",
    "plt.ylabel('WCSS')\n",
    "plt.title('Elbow Method')\n",
    "plt.show()"
   ]
  },
  {
   "cell_type": "markdown",
   "id": "634bfdc1-aa9d-4804-9eef-f3479605506a",
   "metadata": {
    "id": "634bfdc1-aa9d-4804-9eef-f3479605506a"
   },
   "source": [
    "### KMeans clustering for semisupervised Learning"
   ]
  },
  {
   "cell_type": "markdown",
   "id": "FxGYkPV0syun",
   "metadata": {
    "id": "FxGYkPV0syun"
   },
   "source": [
    "- kmeans clustering is performed on the sample data and its labels are used \n",
    "- We want to assign labels to the unlabeled data using the information from the labeled data.\n",
    "- we perform a clustering algorithm called K-means on the transformed labeled data. K-means groups similar examples into clusters based on their features.\n",
    "- Once the clustering is done, we identify representative examples from each cluster. These representative examples are the ones that are closest to the center of each cluster. We do this to capture the main characteristics of each cluster.\n",
    "- Using the trained K-means model, we predict which cluster each unlabeled example belongs to. This gives us cluster labels for the unlabeled data.\n",
    "- Now comes the labeling part. We assign labels to the unlabeled examples based on the labels of the representative examples within the same clusters"
   ]
  },
  {
   "cell_type": "code",
   "execution_count": 18,
   "id": "0ca45b32-642f-496f-8913-587078097414",
   "metadata": {
    "colab": {
     "base_uri": "https://localhost:8080/"
    },
    "id": "0ca45b32-642f-496f-8913-587078097414",
    "outputId": "2af03d40-f514-4869-fc95-e16bace863dd"
   },
   "outputs": [
    {
     "name": "stderr",
     "output_type": "stream",
     "text": [
      "/usr/local/lib/python3.10/dist-packages/sklearn/cluster/_kmeans.py:870: FutureWarning: The default value of `n_init` will change from 10 to 'auto' in 1.4. Set the value of `n_init` explicitly to suppress the warning\n",
      "  warnings.warn(\n"
     ]
    }
   ],
   "source": [
    "from sklearn.cluster import KMeans\n",
    "import numpy as np\n",
    "k=100 ## chosen 100 clusters\n",
    "n_accessible = 5000 \n",
    "X_accessible = X_train[:n_accessible]\n",
    "y_accessible = y_train[:n_accessible]\n",
    "p = Pipeline([('tfidf', TfidfVectorizer(stop_words='english',\n",
    "                                   ngram_range=(1, 2),lowercase=True)),\n",
    "        (\"kmeans\", KMeans(n_clusters=k)),\n",
    "    ])\n",
    "# kmeans = KMeans(n_clusters=k)\n",
    "X_dist = p.fit_transform(X_accessible.values.reshape(-1)) \n",
    "# representative_idx = pairwise_distances_argmin_min(X_accessible, kmeans.cluster_centers_)[0]\n",
    "representative_idx = np.argmin(X_dist, axis=0) \n",
    "X_representative = X_accessible.values[representative_idx]"
   ]
  },
  {
   "cell_type": "markdown",
   "id": "T8YRZvkiZXyH",
   "metadata": {
    "id": "T8YRZvkiZXyH"
   },
   "source": [
    "#### print top words for top clusters"
   ]
  },
  {
   "cell_type": "code",
   "execution_count": 19,
   "id": "tsnbU91zYzWM",
   "metadata": {
    "id": "tsnbU91zYzWM"
   },
   "outputs": [],
   "source": [
    "cluster_centers = p.named_steps['kmeans'].cluster_centers_\n",
    "feature_names = p.named_steps['tfidf'].get_feature_names_out()"
   ]
  },
  {
   "cell_type": "code",
   "execution_count": 20,
   "id": "ZnljixbDY5nO",
   "metadata": {
    "id": "ZnljixbDY5nO"
   },
   "outputs": [],
   "source": [
    "top_words_per_cluster = []\n",
    "for cluster_center in cluster_centers[:5]:\n",
    "    top_word_indices = cluster_center.argsort()[:-6:-1]  # Retrieve the indices of the top 5 features\n",
    "    top_words = [feature_names[index] for index in top_word_indices]\n",
    "    top_words_per_cluster.append(top_words)"
   ]
  },
  {
   "cell_type": "code",
   "execution_count": 21,
   "id": "NtK_DxnAZhf8",
   "metadata": {
    "colab": {
     "base_uri": "https://localhost:8080/"
    },
    "id": "NtK_DxnAZhf8",
    "outputId": "94bceefb-cd4a-47f0-a5af-ea694d07a0df"
   },
   "outputs": [
    {
     "name": "stdout",
     "output_type": "stream",
     "text": [
      "Cluster 1 Top Words: ['martial', 'martial art', 'movie', 'art', 'steven']\n",
      "Cluster 2 Top Words: ['novel', 'jane', 'rochester', 'br', 'film']\n",
      "Cluster 3 Top Words: ['film', 'town', 'freddy', 'yellow', 'goya']\n",
      "Cluster 4 Top Words: ['worst', 'ive', 'movie', 'ive seen', 'seen']\n",
      "Cluster 5 Top Words: ['bad', 'movie', 'acting', 'br', 'special effect']\n"
     ]
    }
   ],
   "source": [
    "for cluster_index, top_words in enumerate(top_words_per_cluster):\n",
    "    print(f\"Cluster {cluster_index + 1} Top Words:\", top_words)"
   ]
  },
  {
   "cell_type": "markdown",
   "id": "lWfqojkhaFKt",
   "metadata": {
    "id": "lWfqojkhaFKt"
   },
   "source": [
    "#### Get cluster representatives"
   ]
  },
  {
   "cell_type": "code",
   "execution_count": 22,
   "id": "881dc203-55fd-4e00-9d2c-876bdfad4184",
   "metadata": {
    "colab": {
     "base_uri": "https://localhost:8080/"
    },
    "id": "881dc203-55fd-4e00-9d2c-876bdfad4184",
    "outputId": "beca3640-444f-4184-e06f-58a626e4ade3"
   },
   "outputs": [
    {
     "data": {
      "text/plain": [
       "array([2258,  174,  259, 3469, 4739, 3326, 2261, 3610, 3745, 2804, 2039,\n",
       "       3451,  438, 2725, 1624, 1332,  108,  190, 3897, 1032, 4168, 3575,\n",
       "       4866, 3417, 2138, 2819, 3050, 2152, 1984, 4214, 2303, 3668, 4719,\n",
       "       3347, 1972,  352,  968, 1920, 3189, 1074, 3748, 3631, 1757, 3672,\n",
       "        504, 2427,  846, 4205, 4309, 3428,  295,  411, 4317, 1599,   85,\n",
       "        318,  618,  319, 4531, 2381,   32,  300, 2542, 4565, 2740,  754,\n",
       "       1882, 4207, 4203, 4170,  830, 4730, 4543, 3535, 2555, 1279, 4867,\n",
       "       2665, 1848,  921, 1742, 2222, 2935, 1526, 2425, 4837, 2670, 1647,\n",
       "       3853, 2016,  970,  614,  408, 3937,  343,  788, 4747, 3486, 3214,\n",
       "       3636])"
      ]
     },
     "execution_count": 22,
     "metadata": {},
     "output_type": "execute_result"
    }
   ],
   "source": [
    "representative_idx   # Get the cluster representatives of the data"
   ]
  },
  {
   "cell_type": "code",
   "execution_count": 23,
   "id": "9c65340d-ecc9-41e6-998c-6617516d8db4",
   "metadata": {
    "id": "9c65340d-ecc9-41e6-998c-6617516d8db4"
   },
   "outputs": [],
   "source": [
    "representative_labels = y_accessible.iloc[representative_idx]"
   ]
  },
  {
   "cell_type": "code",
   "execution_count": 24,
   "id": "w3PteAh7aTeO",
   "metadata": {
    "colab": {
     "base_uri": "https://localhost:8080/"
    },
    "id": "w3PteAh7aTeO",
    "outputId": "1914caa3-a575-4bec-d96e-672ec6df63e8"
   },
   "outputs": [
    {
     "data": {
      "text/plain": [
       "8070     0\n",
       "21166    0\n",
       "1630     0\n",
       "19824    0\n",
       "4219     1\n",
       "        ..\n",
       "29527    1\n",
       "26289    1\n",
       "13852    1\n",
       "28016    1\n",
       "24881    0\n",
       "Name: sentiment, Length: 100, dtype: int64"
      ]
     },
     "execution_count": 24,
     "metadata": {},
     "output_type": "execute_result"
    }
   ],
   "source": [
    "representative_labels"
   ]
  },
  {
   "cell_type": "code",
   "execution_count": 25,
   "id": "BCEc7HSlE6ZK",
   "metadata": {
    "id": "BCEc7HSlE6ZK"
   },
   "outputs": [],
   "source": [
    "X_unlabeled = X_train[n_accessible:]"
   ]
  },
  {
   "cell_type": "code",
   "execution_count": 26,
   "id": "OH_4Os4ME--d",
   "metadata": {
    "id": "OH_4Os4ME--d"
   },
   "outputs": [],
   "source": [
    "# Predict the cluster assignments for the unlabeled data\n",
    "unlabeled_cluster_labels = p.predict(X_unlabeled.values.reshape(-1))"
   ]
  },
  {
   "cell_type": "code",
   "execution_count": 27,
   "id": "AtkeYG6qFVoA",
   "metadata": {
    "id": "AtkeYG6qFVoA"
   },
   "outputs": [],
   "source": [
    "unlabeled_labels = y_accessible.iloc[unlabeled_cluster_labels]"
   ]
  },
  {
   "cell_type": "code",
   "execution_count": 28,
   "id": "cO2THLvtFeP-",
   "metadata": {
    "colab": {
     "base_uri": "https://localhost:8080/",
     "height": 424
    },
    "id": "cO2THLvtFeP-",
    "outputId": "086b7e4e-fe06-41c6-e8ad-934834bffb00"
   },
   "outputs": [
    {
     "data": {
      "text/html": [
       "\n",
       "  <div id=\"df-eedd8173-d281-423b-9d8c-6e0603027e0a\">\n",
       "    <div class=\"colab-df-container\">\n",
       "      <div>\n",
       "<style scoped>\n",
       "    .dataframe tbody tr th:only-of-type {\n",
       "        vertical-align: middle;\n",
       "    }\n",
       "\n",
       "    .dataframe tbody tr th {\n",
       "        vertical-align: top;\n",
       "    }\n",
       "\n",
       "    .dataframe thead th {\n",
       "        text-align: right;\n",
       "    }\n",
       "</style>\n",
       "<table border=\"1\" class=\"dataframe\">\n",
       "  <thead>\n",
       "    <tr style=\"text-align: right;\">\n",
       "      <th></th>\n",
       "      <th>review</th>\n",
       "    </tr>\n",
       "  </thead>\n",
       "  <tbody>\n",
       "    <tr>\n",
       "      <th>17788</th>\n",
       "      <td>finally uncut version baby face surface source...</td>\n",
       "    </tr>\n",
       "    <tr>\n",
       "      <th>23660</th>\n",
       "      <td>would given otherwise terrific series full vot...</td>\n",
       "    </tr>\n",
       "    <tr>\n",
       "      <th>12892</th>\n",
       "      <td>ok year ago awesome funny movie mask came ever...</td>\n",
       "    </tr>\n",
       "    <tr>\n",
       "      <th>31262</th>\n",
       "      <td>looking crazy stunt typified harold lloyd sile...</td>\n",
       "    </tr>\n",
       "    <tr>\n",
       "      <th>29740</th>\n",
       "      <td>caught movie tube sunday thought bad looked im...</td>\n",
       "    </tr>\n",
       "    <tr>\n",
       "      <th>...</th>\n",
       "      <td>...</td>\n",
       "    </tr>\n",
       "    <tr>\n",
       "      <th>10678</th>\n",
       "      <td>every review read far seems missed crucial poi...</td>\n",
       "    </tr>\n",
       "    <tr>\n",
       "      <th>21000</th>\n",
       "      <td>non existent plot ton poorly directed superche...</td>\n",
       "    </tr>\n",
       "    <tr>\n",
       "      <th>18898</th>\n",
       "      <td>outragously entertaining period piece set spin...</td>\n",
       "    </tr>\n",
       "    <tr>\n",
       "      <th>15651</th>\n",
       "      <td>storyline thief bagdad complex owing told flas...</td>\n",
       "    </tr>\n",
       "    <tr>\n",
       "      <th>20415</th>\n",
       "      <td>truly muddled incomprehensible mess thing film...</td>\n",
       "    </tr>\n",
       "  </tbody>\n",
       "</table>\n",
       "<p>32000 rows × 1 columns</p>\n",
       "</div>\n",
       "      <button class=\"colab-df-convert\" onclick=\"convertToInteractive('df-eedd8173-d281-423b-9d8c-6e0603027e0a')\"\n",
       "              title=\"Convert this dataframe to an interactive table.\"\n",
       "              style=\"display:none;\">\n",
       "        \n",
       "  <svg xmlns=\"http://www.w3.org/2000/svg\" height=\"24px\"viewBox=\"0 0 24 24\"\n",
       "       width=\"24px\">\n",
       "    <path d=\"M0 0h24v24H0V0z\" fill=\"none\"/>\n",
       "    <path d=\"M18.56 5.44l.94 2.06.94-2.06 2.06-.94-2.06-.94-.94-2.06-.94 2.06-2.06.94zm-11 1L8.5 8.5l.94-2.06 2.06-.94-2.06-.94L8.5 2.5l-.94 2.06-2.06.94zm10 10l.94 2.06.94-2.06 2.06-.94-2.06-.94-.94-2.06-.94 2.06-2.06.94z\"/><path d=\"M17.41 7.96l-1.37-1.37c-.4-.4-.92-.59-1.43-.59-.52 0-1.04.2-1.43.59L10.3 9.45l-7.72 7.72c-.78.78-.78 2.05 0 2.83L4 21.41c.39.39.9.59 1.41.59.51 0 1.02-.2 1.41-.59l7.78-7.78 2.81-2.81c.8-.78.8-2.07 0-2.86zM5.41 20L4 18.59l7.72-7.72 1.47 1.35L5.41 20z\"/>\n",
       "  </svg>\n",
       "      </button>\n",
       "      \n",
       "  <style>\n",
       "    .colab-df-container {\n",
       "      display:flex;\n",
       "      flex-wrap:wrap;\n",
       "      gap: 12px;\n",
       "    }\n",
       "\n",
       "    .colab-df-convert {\n",
       "      background-color: #E8F0FE;\n",
       "      border: none;\n",
       "      border-radius: 50%;\n",
       "      cursor: pointer;\n",
       "      display: none;\n",
       "      fill: #1967D2;\n",
       "      height: 32px;\n",
       "      padding: 0 0 0 0;\n",
       "      width: 32px;\n",
       "    }\n",
       "\n",
       "    .colab-df-convert:hover {\n",
       "      background-color: #E2EBFA;\n",
       "      box-shadow: 0px 1px 2px rgba(60, 64, 67, 0.3), 0px 1px 3px 1px rgba(60, 64, 67, 0.15);\n",
       "      fill: #174EA6;\n",
       "    }\n",
       "\n",
       "    [theme=dark] .colab-df-convert {\n",
       "      background-color: #3B4455;\n",
       "      fill: #D2E3FC;\n",
       "    }\n",
       "\n",
       "    [theme=dark] .colab-df-convert:hover {\n",
       "      background-color: #434B5C;\n",
       "      box-shadow: 0px 1px 3px 1px rgba(0, 0, 0, 0.15);\n",
       "      filter: drop-shadow(0px 1px 2px rgba(0, 0, 0, 0.3));\n",
       "      fill: #FFFFFF;\n",
       "    }\n",
       "  </style>\n",
       "\n",
       "      <script>\n",
       "        const buttonEl =\n",
       "          document.querySelector('#df-eedd8173-d281-423b-9d8c-6e0603027e0a button.colab-df-convert');\n",
       "        buttonEl.style.display =\n",
       "          google.colab.kernel.accessAllowed ? 'block' : 'none';\n",
       "\n",
       "        async function convertToInteractive(key) {\n",
       "          const element = document.querySelector('#df-eedd8173-d281-423b-9d8c-6e0603027e0a');\n",
       "          const dataTable =\n",
       "            await google.colab.kernel.invokeFunction('convertToInteractive',\n",
       "                                                     [key], {});\n",
       "          if (!dataTable) return;\n",
       "\n",
       "          const docLinkHtml = 'Like what you see? Visit the ' +\n",
       "            '<a target=\"_blank\" href=https://colab.research.google.com/notebooks/data_table.ipynb>data table notebook</a>'\n",
       "            + ' to learn more about interactive tables.';\n",
       "          element.innerHTML = '';\n",
       "          dataTable['output_type'] = 'display_data';\n",
       "          await google.colab.output.renderOutput(dataTable, element);\n",
       "          const docLink = document.createElement('div');\n",
       "          docLink.innerHTML = docLinkHtml;\n",
       "          element.appendChild(docLink);\n",
       "        }\n",
       "      </script>\n",
       "    </div>\n",
       "  </div>\n",
       "  "
      ],
      "text/plain": [
       "                                                  review\n",
       "17788  finally uncut version baby face surface source...\n",
       "23660  would given otherwise terrific series full vot...\n",
       "12892  ok year ago awesome funny movie mask came ever...\n",
       "31262  looking crazy stunt typified harold lloyd sile...\n",
       "29740  caught movie tube sunday thought bad looked im...\n",
       "...                                                  ...\n",
       "10678  every review read far seems missed crucial poi...\n",
       "21000  non existent plot ton poorly directed superche...\n",
       "18898  outragously entertaining period piece set spin...\n",
       "15651  storyline thief bagdad complex owing told flas...\n",
       "20415  truly muddled incomprehensible mess thing film...\n",
       "\n",
       "[32000 rows x 1 columns]"
      ]
     },
     "execution_count": 28,
     "metadata": {},
     "output_type": "execute_result"
    }
   ],
   "source": [
    "X_combined = pd.concat([X_accessible, X_unlabeled])\n",
    "y_combined = pd.concat([y_accessible, unlabeled_labels])\n",
    "\n",
    "X_combined"
   ]
  },
  {
   "cell_type": "markdown",
   "id": "vM_UjCGBb7r8",
   "metadata": {
    "id": "vM_UjCGBb7r8"
   },
   "source": [
    "### Vectorization(TF-IDF):"
   ]
  },
  {
   "cell_type": "markdown",
   "id": "3At0NZJ1tC5l",
   "metadata": {
    "id": "3At0NZJ1tC5l"
   },
   "source": [
    " - Vectorization is performed here because the body of the review is the text feature\n",
    " - We have chosen TF-IDF vectorizer as it removes the most frequently occuring words(max_df ) and less frequent words (min_df) which is required to build accurate model and in order for it not to get biased towards those words "
   ]
  },
  {
   "cell_type": "code",
   "execution_count": null,
   "id": "oI3EPiLVFhQm",
   "metadata": {
    "colab": {
     "base_uri": "https://localhost:8080/",
     "height": 75
    },
    "id": "oI3EPiLVFhQm",
    "outputId": "3e2fe76a-f9c1-4934-cc71-b611d3b2c400"
   },
   "outputs": [],
   "source": [
    "# Preprocess the text data and convert it to numerical representation\n",
    "vectorizer =  TfidfVectorizer(stop_words='english',max_df = 0.99,min_df=10, ngram_range=(1, 2),lowercase=True)\n",
    "X_processed = vectorizer.fit_transform(X_combined['review'])\n",
    "\n",
    "# Train a classification model\n",
    "model = LogisticRegression()\n",
    "model.fit(X_processed, y_combined)\n"
   ]
  },
  {
   "cell_type": "markdown",
   "id": "dhAAJohCOkCs",
   "metadata": {
    "id": "dhAAJohCOkCs"
   },
   "source": [
    "### Sanity check on vectorizer"
   ]
  },
  {
   "cell_type": "code",
   "execution_count": 31,
   "id": "zdrb7I7qOwTh",
   "metadata": {
    "colab": {
     "base_uri": "https://localhost:8080/"
    },
    "id": "zdrb7I7qOwTh",
    "outputId": "b144241d-4454-4f15-8c79-15471822350e"
   },
   "outputs": [
    {
     "name": "stdout",
     "output_type": "stream",
     "text": [
      "Vocabulary Size: 2108101\n"
     ]
    }
   ],
   "source": [
    "vocab_size = len(vectorizer.get_feature_names_out())\n",
    "print(\"Vocabulary Size:\", vocab_size)\n",
    "  "
   ]
  },
  {
   "cell_type": "code",
   "execution_count": 33,
   "id": "CggrVgnnRE8y",
   "metadata": {
    "colab": {
     "base_uri": "https://localhost:8080/"
    },
    "id": "CggrVgnnRE8y",
    "outputId": "5ecc81eb-8a9b-4db1-9a37-e3f0b058d2f6"
   },
   "outputs": [
    {
     "name": "stdout",
     "output_type": "stream",
     "text": [
      "Processed Data Shape: (32000, 2108101)\n"
     ]
    }
   ],
   "source": [
    "print(\"Processed Data Shape:\", X_processed.shape)"
   ]
  },
  {
   "cell_type": "code",
   "execution_count": null,
   "id": "dA7OB0vtFojt",
   "metadata": {
    "id": "dA7OB0vtFojt"
   },
   "outputs": [],
   "source": [
    "def classifier_scores(y_train,y_test, pred_train, pred_test):    \n",
    "    print()\n",
    "    print(\"Train data accuracy score: \", accuracy_score(y_train,pred_train))    \n",
    "    print(\"Test data accuracy score: \", accuracy_score(y_test,pred_test))\n",
    "    print()\n",
    "    print(\"Recall score on train data: \", recall_score(y_train,pred_train, average='macro'))\n",
    "    print(\"Recall score on test data: \",recall_score( y_test,pred_test, average='macro'))\n",
    "    print()\n",
    "    \n",
    "    print(\"Precision score on train data: \",precision_score(y_train,pred_train, average='macro'))\n",
    "    print(\"Precision score on test data: \",precision_score(y_test,pred_test, average='macro'))\n",
    "    print()\n",
    "    print(\"F1 score on train data: \",f1_score(y_train,pred_train, average='macro'))\n",
    "    print(\"F1 score on test data: \",f1_score(y_test,pred_test, average='macro'))"
   ]
  },
  {
   "cell_type": "code",
   "execution_count": null,
   "id": "n7prAaLgGgIn",
   "metadata": {
    "id": "n7prAaLgGgIn"
   },
   "outputs": [],
   "source": [
    "y_train_pred = model.predict(X_processed)\n"
   ]
  },
  {
   "cell_type": "code",
   "execution_count": null,
   "id": "3nSVIiZzGqAP",
   "metadata": {
    "id": "3nSVIiZzGqAP"
   },
   "outputs": [],
   "source": [
    "X_test_processed = vectorizer.transform(X_test['review'])\n",
    "\n",
    "# Use the model for predictions on test data\n",
    "y_test_pred = model.predict(X_test_processed)"
   ]
  },
  {
   "cell_type": "code",
   "execution_count": null,
   "id": "pP-yXnenHNEJ",
   "metadata": {
    "colab": {
     "base_uri": "https://localhost:8080/"
    },
    "id": "pP-yXnenHNEJ",
    "outputId": "6826e1d0-37df-4f2c-b773-d108df6be827"
   },
   "outputs": [
    {
     "name": "stdout",
     "output_type": "stream",
     "text": [
      "\n",
      "Train data accuracy score:  0.88584375\n",
      "Test data accuracy score:  0.567375\n",
      "\n",
      "Recall score on train data:  0.861851558057976\n",
      "Recall score on test data:  0.5701169929306145\n",
      "\n",
      "Precision score on train data:  0.8987045454545455\n",
      "Precision score on test data:  0.5826596727562708\n",
      "\n",
      "F1 score on train data:  0.8743272719116182\n",
      "F1 score on test data:  0.5515459089407878\n"
     ]
    }
   ],
   "source": [
    "classifier_scores(y_combined,y_test,y_train_pred,y_test_pred)"
   ]
  },
  {
   "cell_type": "markdown",
   "id": "LAYyL7qEEwXW",
   "metadata": {
    "id": "LAYyL7qEEwXW"
   },
   "source": [
    "#### Test LR Model on Production data set"
   ]
  },
  {
   "cell_type": "code",
   "execution_count": null,
   "id": "8TScKzf6H5Ri",
   "metadata": {
    "id": "8TScKzf6H5Ri"
   },
   "outputs": [],
   "source": [
    "X_final = pd.read_csv(r\"https://raw.githubusercontent.com/msaricaumbc/DS_data/master/ds602/final/X_final.csv\")"
   ]
  },
  {
   "cell_type": "code",
   "execution_count": null,
   "id": "1iqA05wUH57_",
   "metadata": {
    "id": "1iqA05wUH57_"
   },
   "outputs": [],
   "source": [
    "y_final = pd.read_csv(r\"https://raw.githubusercontent.com/msaricaumbc/DS_data/master/ds602/final/y_final.csv\")"
   ]
  },
  {
   "cell_type": "code",
   "execution_count": null,
   "id": "wwnBXpsGH77G",
   "metadata": {
    "id": "wwnBXpsGH77G"
   },
   "outputs": [],
   "source": [
    "X_final_processed = vectorizer.transform(X_final['review'])\n",
    "\n",
    "# Use the model for predictions on test data\n",
    "y_final_pred = model.predict(X_final_processed)"
   ]
  },
  {
   "cell_type": "code",
   "execution_count": null,
   "id": "dztNl9waINCw",
   "metadata": {
    "colab": {
     "base_uri": "https://localhost:8080/"
    },
    "id": "dztNl9waINCw",
    "outputId": "c3068537-e388-4973-8ac5-e72078acc166"
   },
   "outputs": [
    {
     "name": "stdout",
     "output_type": "stream",
     "text": [
      "\n",
      "Train data accuracy score:  0.88584375\n",
      "Test data accuracy score:  0.5432\n",
      "\n",
      "Recall score on train data:  0.861851558057976\n",
      "Recall score on test data:  0.5432\n",
      "\n",
      "Precision score on train data:  0.8987045454545455\n",
      "Precision score on test data:  0.5433776749566224\n",
      "\n",
      "F1 score on train data:  0.8743272719116182\n",
      "F1 score on test data:  0.5427317573194952\n"
     ]
    }
   ],
   "source": [
    "classifier_scores(y_combined,y_final,y_train_pred,y_final_pred)"
   ]
  },
  {
   "cell_type": "markdown",
   "id": "R81whzi5ttOA",
   "metadata": {
    "id": "R81whzi5ttOA"
   },
   "source": [
    "-  accuracy or F1 score will be good metric or good measure for the fit of the model. we have focused on just improving the Accuracy and F1 Score."
   ]
  },
  {
   "cell_type": "markdown",
   "id": "gt65uVFNt3bU",
   "metadata": {
    "id": "gt65uVFNt3bU"
   },
   "source": [
    "#### Pipeline for Logistic regression model"
   ]
  },
  {
   "cell_type": "code",
   "execution_count": null,
   "id": "P8OEKo6IIju8",
   "metadata": {
    "colab": {
     "base_uri": "https://localhost:8080/",
     "height": 126
    },
    "id": "P8OEKo6IIju8",
    "outputId": "00fd3f8b-2455-4f0d-86a8-1678296d1e64"
   },
   "outputs": [
    {
     "data": {
      "text/html": [
       "<style>#sk-container-id-2 {color: black;background-color: white;}#sk-container-id-2 pre{padding: 0;}#sk-container-id-2 div.sk-toggleable {background-color: white;}#sk-container-id-2 label.sk-toggleable__label {cursor: pointer;display: block;width: 100%;margin-bottom: 0;padding: 0.3em;box-sizing: border-box;text-align: center;}#sk-container-id-2 label.sk-toggleable__label-arrow:before {content: \"▸\";float: left;margin-right: 0.25em;color: #696969;}#sk-container-id-2 label.sk-toggleable__label-arrow:hover:before {color: black;}#sk-container-id-2 div.sk-estimator:hover label.sk-toggleable__label-arrow:before {color: black;}#sk-container-id-2 div.sk-toggleable__content {max-height: 0;max-width: 0;overflow: hidden;text-align: left;background-color: #f0f8ff;}#sk-container-id-2 div.sk-toggleable__content pre {margin: 0.2em;color: black;border-radius: 0.25em;background-color: #f0f8ff;}#sk-container-id-2 input.sk-toggleable__control:checked~div.sk-toggleable__content {max-height: 200px;max-width: 100%;overflow: auto;}#sk-container-id-2 input.sk-toggleable__control:checked~label.sk-toggleable__label-arrow:before {content: \"▾\";}#sk-container-id-2 div.sk-estimator input.sk-toggleable__control:checked~label.sk-toggleable__label {background-color: #d4ebff;}#sk-container-id-2 div.sk-label input.sk-toggleable__control:checked~label.sk-toggleable__label {background-color: #d4ebff;}#sk-container-id-2 input.sk-hidden--visually {border: 0;clip: rect(1px 1px 1px 1px);clip: rect(1px, 1px, 1px, 1px);height: 1px;margin: -1px;overflow: hidden;padding: 0;position: absolute;width: 1px;}#sk-container-id-2 div.sk-estimator {font-family: monospace;background-color: #f0f8ff;border: 1px dotted black;border-radius: 0.25em;box-sizing: border-box;margin-bottom: 0.5em;}#sk-container-id-2 div.sk-estimator:hover {background-color: #d4ebff;}#sk-container-id-2 div.sk-parallel-item::after {content: \"\";width: 100%;border-bottom: 1px solid gray;flex-grow: 1;}#sk-container-id-2 div.sk-label:hover label.sk-toggleable__label {background-color: #d4ebff;}#sk-container-id-2 div.sk-serial::before {content: \"\";position: absolute;border-left: 1px solid gray;box-sizing: border-box;top: 0;bottom: 0;left: 50%;z-index: 0;}#sk-container-id-2 div.sk-serial {display: flex;flex-direction: column;align-items: center;background-color: white;padding-right: 0.2em;padding-left: 0.2em;position: relative;}#sk-container-id-2 div.sk-item {position: relative;z-index: 1;}#sk-container-id-2 div.sk-parallel {display: flex;align-items: stretch;justify-content: center;background-color: white;position: relative;}#sk-container-id-2 div.sk-item::before, #sk-container-id-2 div.sk-parallel-item::before {content: \"\";position: absolute;border-left: 1px solid gray;box-sizing: border-box;top: 0;bottom: 0;left: 50%;z-index: -1;}#sk-container-id-2 div.sk-parallel-item {display: flex;flex-direction: column;z-index: 1;position: relative;background-color: white;}#sk-container-id-2 div.sk-parallel-item:first-child::after {align-self: flex-end;width: 50%;}#sk-container-id-2 div.sk-parallel-item:last-child::after {align-self: flex-start;width: 50%;}#sk-container-id-2 div.sk-parallel-item:only-child::after {width: 0;}#sk-container-id-2 div.sk-dashed-wrapped {border: 1px dashed gray;margin: 0 0.4em 0.5em 0.4em;box-sizing: border-box;padding-bottom: 0.4em;background-color: white;}#sk-container-id-2 div.sk-label label {font-family: monospace;font-weight: bold;display: inline-block;line-height: 1.2em;}#sk-container-id-2 div.sk-label-container {text-align: center;}#sk-container-id-2 div.sk-container {/* jupyter's `normalize.less` sets `[hidden] { display: none; }` but bootstrap.min.css set `[hidden] { display: none !important; }` so we also need the `!important` here to be able to override the default hidden behavior on the sphinx rendered scikit-learn.org. See: https://github.com/scikit-learn/scikit-learn/issues/21755 */display: inline-block !important;position: relative;}#sk-container-id-2 div.sk-text-repr-fallback {display: none;}</style><div id=\"sk-container-id-2\" class=\"sk-top-container\"><div class=\"sk-text-repr-fallback\"><pre>Pipeline(steps=[(&#x27;vecto&#x27;,\n",
       "                 TfidfVectorizer(ngram_range=(1, 2), stop_words=&#x27;english&#x27;)),\n",
       "                (&#x27;log_reg&#x27;, LogisticRegression())])</pre><b>In a Jupyter environment, please rerun this cell to show the HTML representation or trust the notebook. <br />On GitHub, the HTML representation is unable to render, please try loading this page with nbviewer.org.</b></div><div class=\"sk-container\" hidden><div class=\"sk-item sk-dashed-wrapped\"><div class=\"sk-label-container\"><div class=\"sk-label sk-toggleable\"><input class=\"sk-toggleable__control sk-hidden--visually\" id=\"sk-estimator-id-2\" type=\"checkbox\" ><label for=\"sk-estimator-id-2\" class=\"sk-toggleable__label sk-toggleable__label-arrow\">Pipeline</label><div class=\"sk-toggleable__content\"><pre>Pipeline(steps=[(&#x27;vecto&#x27;,\n",
       "                 TfidfVectorizer(ngram_range=(1, 2), stop_words=&#x27;english&#x27;)),\n",
       "                (&#x27;log_reg&#x27;, LogisticRegression())])</pre></div></div></div><div class=\"sk-serial\"><div class=\"sk-item\"><div class=\"sk-estimator sk-toggleable\"><input class=\"sk-toggleable__control sk-hidden--visually\" id=\"sk-estimator-id-3\" type=\"checkbox\" ><label for=\"sk-estimator-id-3\" class=\"sk-toggleable__label sk-toggleable__label-arrow\">TfidfVectorizer</label><div class=\"sk-toggleable__content\"><pre>TfidfVectorizer(ngram_range=(1, 2), stop_words=&#x27;english&#x27;)</pre></div></div></div><div class=\"sk-item\"><div class=\"sk-estimator sk-toggleable\"><input class=\"sk-toggleable__control sk-hidden--visually\" id=\"sk-estimator-id-4\" type=\"checkbox\" ><label for=\"sk-estimator-id-4\" class=\"sk-toggleable__label sk-toggleable__label-arrow\">LogisticRegression</label><div class=\"sk-toggleable__content\"><pre>LogisticRegression()</pre></div></div></div></div></div></div></div>"
      ],
      "text/plain": [
       "Pipeline(steps=[('vecto',\n",
       "                 TfidfVectorizer(ngram_range=(1, 2), stop_words='english')),\n",
       "                ('log_reg', LogisticRegression())])"
      ]
     },
     "execution_count": 46,
     "metadata": {},
     "output_type": "execute_result"
    }
   ],
   "source": [
    "log_reg = LogisticRegression()\n",
    "pipeline = Pipeline([\n",
    "    ('vecto', vectorizer),\n",
    "    ('log_reg', log_reg)\n",
    "])\n",
    "pipeline.fit(X_combined.values.reshape(-1), y_combined.values.reshape(-1))"
   ]
  },
  {
   "cell_type": "code",
   "execution_count": null,
   "id": "XLhlB7RSIrB7",
   "metadata": {
    "colab": {
     "base_uri": "https://localhost:8080/"
    },
    "id": "XLhlB7RSIrB7",
    "outputId": "8894f85b-cffb-4a73-ea5d-10d43fd78a0a"
   },
   "outputs": [
    {
     "name": "stdout",
     "output_type": "stream",
     "text": [
      "\n",
      "Train data accuracy score:  0.88584375\n",
      "Test data accuracy score:  0.5432\n",
      "\n",
      "Recall score on train data:  0.861851558057976\n",
      "Recall score on test data:  0.5432\n",
      "\n",
      "Precision score on train data:  0.8987045454545455\n",
      "Precision score on test data:  0.5433776749566224\n",
      "\n",
      "F1 score on train data:  0.8743272719116182\n",
      "F1 score on test data:  0.5427317573194952\n"
     ]
    }
   ],
   "source": [
    "y_train_pred1 = pipeline.predict(X_combined['review'])\n",
    "y_final_pred1 = pipeline.predict(X_final['review'])\n",
    "classifier_scores(y_combined,y_final,y_train_pred1,y_final_pred1)"
   ]
  },
  {
   "cell_type": "markdown",
   "id": "YV6rSnMit8g6",
   "metadata": {
    "id": "YV6rSnMit8g6"
   },
   "source": [
    "#### Logistic Regression  with hypertuning"
   ]
  },
  {
   "cell_type": "code",
   "execution_count": null,
   "id": "TwIxgr3SJ6sI",
   "metadata": {
    "colab": {
     "base_uri": "https://localhost:8080/",
     "height": 661
    },
    "id": "TwIxgr3SJ6sI",
    "outputId": "a7032402-87eb-4382-a142-12fa485994bd"
   },
   "outputs": [],
   "source": [
    "param_grid = {\n",
    "     'log_reg__C': [0.1, 1.0, 10.0],  # Example values for the 'C' hyperparameter\n",
    "     'log_reg__solver': ['liblinear', 'lbfgs']\n",
    "}\n",
    "\n",
    "grid_search = GridSearchCV(pipeline, param_grid, cv=5)\n",
    "grid_search.fit(X_combined.values.reshape(-1), y_combined.values.reshape(-1))\n",
    "\n",
    "best_params = grid_search.best_params_\n",
    "best_score = grid_search.best_score_\n"
   ]
  },
  {
   "cell_type": "code",
   "execution_count": null,
   "id": "dRuV_7Z0WRa1",
   "metadata": {
    "id": "dRuV_7Z0WRa1"
   },
   "outputs": [],
   "source": [
    "gs_score = grid_search.score(X_final['review'],y_final.values.reshape(-1))\n",
    "# print(score)"
   ]
  },
  {
   "cell_type": "code",
   "execution_count": null,
   "id": "__1PbdraKJSs",
   "metadata": {
    "id": "__1PbdraKJSs"
   },
   "outputs": [],
   "source": [
    "y_train_pred_gs = grid_search.predict(X_combined['review'])"
   ]
  },
  {
   "cell_type": "code",
   "execution_count": null,
   "id": "Fu3P4lojKSMJ",
   "metadata": {
    "colab": {
     "base_uri": "https://localhost:8080/"
    },
    "id": "Fu3P4lojKSMJ",
    "outputId": "7c20cce7-da6f-4a51-af79-e3b4a13bebd2"
   },
   "outputs": [
    {
     "name": "stdout",
     "output_type": "stream",
     "text": [
      "\n",
      "Train data accuracy score:  0.88584375\n",
      "Test data accuracy score:  0.5432\n",
      "\n",
      "Recall score on train data:  0.861851558057976\n",
      "Recall score on test data:  0.5432\n",
      "\n",
      "Precision score on train data:  0.8987045454545455\n",
      "Precision score on test data:  0.5433776749566224\n",
      "\n",
      "F1 score on train data:  0.8743272719116182\n",
      "F1 score on test data:  0.5427317573194952\n"
     ]
    }
   ],
   "source": [
    "y_final_pred_gs = grid_search.predict(X_final['review'])\n",
    "classifier_scores(y_combined,y_final,y_train_pred1,y_final_pred1)"
   ]
  },
  {
   "cell_type": "code",
   "execution_count": null,
   "id": "3RREppJpnvDT",
   "metadata": {
    "id": "3RREppJpnvDT"
   },
   "outputs": [],
   "source": [
    "# loading library\n",
    "import pickle\n",
    "# create an iterator object with write permission - model.pkl\n",
    "with open('lr_gridsearch_model_pkl', 'wb') as files:\n",
    "    pickle.dump(grid_search, files)"
   ]
  },
  {
   "cell_type": "markdown",
   "id": "TCKn-8VLuEmm",
   "metadata": {
    "id": "TCKn-8VLuEmm"
   },
   "source": [
    "### Random Forest"
   ]
  },
  {
   "cell_type": "code",
   "execution_count": null,
   "id": "r-33Mke6NQXv",
   "metadata": {
    "colab": {
     "base_uri": "https://localhost:8080/",
     "height": 126
    },
    "id": "r-33Mke6NQXv",
    "outputId": "5037d62a-c001-465d-a530-b1dd536ac298"
   },
   "outputs": [
    {
     "data": {
      "text/html": [
       "<style>#sk-container-id-3 {color: black;background-color: white;}#sk-container-id-3 pre{padding: 0;}#sk-container-id-3 div.sk-toggleable {background-color: white;}#sk-container-id-3 label.sk-toggleable__label {cursor: pointer;display: block;width: 100%;margin-bottom: 0;padding: 0.3em;box-sizing: border-box;text-align: center;}#sk-container-id-3 label.sk-toggleable__label-arrow:before {content: \"▸\";float: left;margin-right: 0.25em;color: #696969;}#sk-container-id-3 label.sk-toggleable__label-arrow:hover:before {color: black;}#sk-container-id-3 div.sk-estimator:hover label.sk-toggleable__label-arrow:before {color: black;}#sk-container-id-3 div.sk-toggleable__content {max-height: 0;max-width: 0;overflow: hidden;text-align: left;background-color: #f0f8ff;}#sk-container-id-3 div.sk-toggleable__content pre {margin: 0.2em;color: black;border-radius: 0.25em;background-color: #f0f8ff;}#sk-container-id-3 input.sk-toggleable__control:checked~div.sk-toggleable__content {max-height: 200px;max-width: 100%;overflow: auto;}#sk-container-id-3 input.sk-toggleable__control:checked~label.sk-toggleable__label-arrow:before {content: \"▾\";}#sk-container-id-3 div.sk-estimator input.sk-toggleable__control:checked~label.sk-toggleable__label {background-color: #d4ebff;}#sk-container-id-3 div.sk-label input.sk-toggleable__control:checked~label.sk-toggleable__label {background-color: #d4ebff;}#sk-container-id-3 input.sk-hidden--visually {border: 0;clip: rect(1px 1px 1px 1px);clip: rect(1px, 1px, 1px, 1px);height: 1px;margin: -1px;overflow: hidden;padding: 0;position: absolute;width: 1px;}#sk-container-id-3 div.sk-estimator {font-family: monospace;background-color: #f0f8ff;border: 1px dotted black;border-radius: 0.25em;box-sizing: border-box;margin-bottom: 0.5em;}#sk-container-id-3 div.sk-estimator:hover {background-color: #d4ebff;}#sk-container-id-3 div.sk-parallel-item::after {content: \"\";width: 100%;border-bottom: 1px solid gray;flex-grow: 1;}#sk-container-id-3 div.sk-label:hover label.sk-toggleable__label {background-color: #d4ebff;}#sk-container-id-3 div.sk-serial::before {content: \"\";position: absolute;border-left: 1px solid gray;box-sizing: border-box;top: 0;bottom: 0;left: 50%;z-index: 0;}#sk-container-id-3 div.sk-serial {display: flex;flex-direction: column;align-items: center;background-color: white;padding-right: 0.2em;padding-left: 0.2em;position: relative;}#sk-container-id-3 div.sk-item {position: relative;z-index: 1;}#sk-container-id-3 div.sk-parallel {display: flex;align-items: stretch;justify-content: center;background-color: white;position: relative;}#sk-container-id-3 div.sk-item::before, #sk-container-id-3 div.sk-parallel-item::before {content: \"\";position: absolute;border-left: 1px solid gray;box-sizing: border-box;top: 0;bottom: 0;left: 50%;z-index: -1;}#sk-container-id-3 div.sk-parallel-item {display: flex;flex-direction: column;z-index: 1;position: relative;background-color: white;}#sk-container-id-3 div.sk-parallel-item:first-child::after {align-self: flex-end;width: 50%;}#sk-container-id-3 div.sk-parallel-item:last-child::after {align-self: flex-start;width: 50%;}#sk-container-id-3 div.sk-parallel-item:only-child::after {width: 0;}#sk-container-id-3 div.sk-dashed-wrapped {border: 1px dashed gray;margin: 0 0.4em 0.5em 0.4em;box-sizing: border-box;padding-bottom: 0.4em;background-color: white;}#sk-container-id-3 div.sk-label label {font-family: monospace;font-weight: bold;display: inline-block;line-height: 1.2em;}#sk-container-id-3 div.sk-label-container {text-align: center;}#sk-container-id-3 div.sk-container {/* jupyter's `normalize.less` sets `[hidden] { display: none; }` but bootstrap.min.css set `[hidden] { display: none !important; }` so we also need the `!important` here to be able to override the default hidden behavior on the sphinx rendered scikit-learn.org. See: https://github.com/scikit-learn/scikit-learn/issues/21755 */display: inline-block !important;position: relative;}#sk-container-id-3 div.sk-text-repr-fallback {display: none;}</style><div id=\"sk-container-id-3\" class=\"sk-top-container\"><div class=\"sk-text-repr-fallback\"><pre>Pipeline(steps=[(&#x27;vecto&#x27;,\n",
       "                 TfidfVectorizer(ngram_range=(1, 2), stop_words=&#x27;english&#x27;)),\n",
       "                (&#x27;random_forest&#x27;, RandomForestClassifier(random_state=0))])</pre><b>In a Jupyter environment, please rerun this cell to show the HTML representation or trust the notebook. <br />On GitHub, the HTML representation is unable to render, please try loading this page with nbviewer.org.</b></div><div class=\"sk-container\" hidden><div class=\"sk-item sk-dashed-wrapped\"><div class=\"sk-label-container\"><div class=\"sk-label sk-toggleable\"><input class=\"sk-toggleable__control sk-hidden--visually\" id=\"sk-estimator-id-5\" type=\"checkbox\" ><label for=\"sk-estimator-id-5\" class=\"sk-toggleable__label sk-toggleable__label-arrow\">Pipeline</label><div class=\"sk-toggleable__content\"><pre>Pipeline(steps=[(&#x27;vecto&#x27;,\n",
       "                 TfidfVectorizer(ngram_range=(1, 2), stop_words=&#x27;english&#x27;)),\n",
       "                (&#x27;random_forest&#x27;, RandomForestClassifier(random_state=0))])</pre></div></div></div><div class=\"sk-serial\"><div class=\"sk-item\"><div class=\"sk-estimator sk-toggleable\"><input class=\"sk-toggleable__control sk-hidden--visually\" id=\"sk-estimator-id-6\" type=\"checkbox\" ><label for=\"sk-estimator-id-6\" class=\"sk-toggleable__label sk-toggleable__label-arrow\">TfidfVectorizer</label><div class=\"sk-toggleable__content\"><pre>TfidfVectorizer(ngram_range=(1, 2), stop_words=&#x27;english&#x27;)</pre></div></div></div><div class=\"sk-item\"><div class=\"sk-estimator sk-toggleable\"><input class=\"sk-toggleable__control sk-hidden--visually\" id=\"sk-estimator-id-7\" type=\"checkbox\" ><label for=\"sk-estimator-id-7\" class=\"sk-toggleable__label sk-toggleable__label-arrow\">RandomForestClassifier</label><div class=\"sk-toggleable__content\"><pre>RandomForestClassifier(random_state=0)</pre></div></div></div></div></div></div></div>"
      ],
      "text/plain": [
       "Pipeline(steps=[('vecto',\n",
       "                 TfidfVectorizer(ngram_range=(1, 2), stop_words='english')),\n",
       "                ('random_forest', RandomForestClassifier(random_state=0))])"
      ]
     },
     "execution_count": 62,
     "metadata": {},
     "output_type": "execute_result"
    }
   ],
   "source": [
    "from sklearn.ensemble import RandomForestClassifier\n",
    "rand_f = RandomForestClassifier(random_state=0)\n",
    "rf_pipeline = Pipeline([\n",
    "    ('vecto', vectorizer),\n",
    "    ('random_forest', rand_f)\n",
    "])\n",
    "rf_pipeline.fit(X_combined.values.reshape(-1), y_combined.values.reshape(-1))"
   ]
  },
  {
   "cell_type": "code",
   "execution_count": null,
   "id": "eLhKmj9ebW-r",
   "metadata": {
    "colab": {
     "base_uri": "https://localhost:8080/"
    },
    "id": "eLhKmj9ebW-r",
    "outputId": "586ffc23-ec9e-4904-c4dc-7eca0c152361"
   },
   "outputs": [
    {
     "name": "stdout",
     "output_type": "stream",
     "text": [
      "\n",
      "Train data accuracy score:  0.9991875\n",
      "Test data accuracy score:  0.5761\n",
      "\n",
      "Recall score on train data:  0.9990506754347214\n",
      "Recall score on test data:  0.5761000000000001\n",
      "\n",
      "Precision score on train data:  0.9992332123043298\n",
      "Precision score on test data:  0.6251905083682205\n",
      "\n",
      "F1 score on train data:  0.9991417787701988\n",
      "F1 score on test data:  0.5300278760323297\n"
     ]
    }
   ],
   "source": [
    "y_train_pred_rf = rf_pipeline.predict(X_combined['review'])\n",
    "y_final_pred_rf = rf_pipeline.predict(X_final['review'])\n",
    "classifier_scores(y_combined,y_final,y_train_pred_rf,y_final_pred_rf)"
   ]
  },
  {
   "cell_type": "code",
   "execution_count": null,
   "id": "p00CqqOwm8Eu",
   "metadata": {
    "id": "p00CqqOwm8Eu"
   },
   "outputs": [],
   "source": [
    "# loading library\n",
    "import pickle\n",
    "# create an iterator object with write permission - model.pkl\n",
    "with open('rf_pipeline_model_pkl', 'wb') as files:\n",
    "    pickle.dump(rf_pipeline, files)"
   ]
  },
  {
   "cell_type": "code",
   "execution_count": null,
   "id": "-MU4ojkUnRne",
   "metadata": {
    "id": "-MU4ojkUnRne"
   },
   "outputs": [],
   "source": [
    "with open('rf_pipeline_model_pkl' , 'rb') as f:\n",
    "    rf_pipe = pickle.load(f)"
   ]
  },
  {
   "cell_type": "code",
   "execution_count": null,
   "id": "sluWYb4mnaO0",
   "metadata": {
    "colab": {
     "base_uri": "https://localhost:8080/"
    },
    "id": "sluWYb4mnaO0",
    "outputId": "403b8372-893d-467e-c926-85cd0f023294"
   },
   "outputs": [
    {
     "name": "stdout",
     "output_type": "stream",
     "text": [
      "\n",
      "Train data accuracy score:  0.9991875\n",
      "Test data accuracy score:  0.5761\n",
      "\n",
      "Recall score on train data:  0.9990506754347214\n",
      "Recall score on test data:  0.5761000000000001\n",
      "\n",
      "Precision score on train data:  0.9992332123043298\n",
      "Precision score on test data:  0.6251905083682205\n",
      "\n",
      "F1 score on train data:  0.9991417787701988\n",
      "F1 score on test data:  0.5300278760323297\n"
     ]
    }
   ],
   "source": [
    "y_train_pred_rf = rf_pipe.predict(X_combined['review'])\n",
    "y_final_pred_rf = rf_pipe.predict(X_final['review'])\n",
    "classifier_scores(y_combined,y_final,y_train_pred_rf,y_final_pred_rf)"
   ]
  },
  {
   "cell_type": "markdown",
   "id": "QDnSRSFuuIq0",
   "metadata": {
    "id": "QDnSRSFuuIq0"
   },
   "source": [
    "### Random Forest with hypertuning"
   ]
  },
  {
   "cell_type": "code",
   "execution_count": null,
   "id": "kQaPnD2sZ0Ke",
   "metadata": {
    "id": "kQaPnD2sZ0Ke"
   },
   "outputs": [],
   "source": [
    "param_grid = {\n",
    "    'random_forest__n_estimators': [100, 200, 300],  # Example values for the number of estimators\n",
    "    'random_forest__max_depth': [None, 5, 10],  # Example values for the maximum depth\n",
    "}\n",
    "rand_f = RandomForestClassifier(random_state=0)\n",
    "rf_pipeline = Pipeline([\n",
    "    ('vecto', vectorizer),\n",
    "    ('random_forest', rand_f)\n",
    "])\n",
    "grid_search_rf = GridSearchCV(rf_pipeline, param_grid, cv=5)\n",
    "grid_search_rf.fit(X_combined.values.reshape(-1), y_combined.values.reshape(-1))\n",
    "\n",
    "best_params = grid_search_rf.best_params_\n",
    "best_score = grid_search_rf.best_score_\n",
    "\n",
    "print(\"Best Parameters:\", best_params)\n",
    "print(\"Best Score:\", best_score)"
   ]
  },
  {
   "cell_type": "code",
   "execution_count": null,
   "id": "Rv92nAw5aOOY",
   "metadata": {
    "colab": {
     "base_uri": "https://localhost:8080/",
     "height": 380
    },
    "id": "Rv92nAw5aOOY",
    "outputId": "c02e0813-0718-4383-bbf7-9c4e1fd1fcf4"
   },
   "outputs": [],
   "source": [
    "y_train_pred_rf_gs = grid_search_rf.predict(X_combined['review'])\n",
    "y_final_pred_rf = rf_pipeline.predict(X_final['review'])\n",
    "classifier_scores(y_combined,y_final,y_train_pred_rf,y_final_pred_rf)"
   ]
  },
  {
   "cell_type": "markdown",
   "id": "d4NubX1MyEGa",
   "metadata": {
    "id": "d4NubX1MyEGa"
   },
   "source": [
    "### Conclusion"
   ]
  },
  {
   "cell_type": "markdown",
   "id": "QJddFbi6ycXg",
   "metadata": {
    "id": "QJddFbi6ycXg"
   },
   "source": [
    "- Performed Semi supervised Text Clustering which includes\n",
    "    - utilized partial data to consider it as semi supervised model  and had fit into kmeans cluster model\n",
    "    - Predicted the labels of unlabelled data \n",
    "- Fitted the different models on full data \n",
    "- Achieved best accuracy of 57% with production data\n",
    "-  Random Forest with hypertuning approach performed the best of the all models With Accuracy of 0.57. Logistic regression performed good when considering F1 Score with f1 score of 0.54. But Random Forest is computationally bit expensive compared to Logistic regression Hence we would consider the Logistic Regression hypertuned model as the final model for the Review Classification."
   ]
  }
 ],
 "metadata": {
  "accelerator": "TPU",
  "colab": {
   "machine_shape": "hm",
   "provenance": []
  },
  "gpuClass": "standard",
  "kernelspec": {
   "display_name": "Python 3 (ipykernel)",
   "language": "python",
   "name": "python3"
  },
  "language_info": {
   "codemirror_mode": {
    "name": "ipython",
    "version": 3
   },
   "file_extension": ".py",
   "mimetype": "text/x-python",
   "name": "python",
   "nbconvert_exporter": "python",
   "pygments_lexer": "ipython3",
   "version": "3.10.7"
  }
 },
 "nbformat": 4,
 "nbformat_minor": 5
}
