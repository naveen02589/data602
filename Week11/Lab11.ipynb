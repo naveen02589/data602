{
 "cells": [
  {
   "cell_type": "markdown",
   "id": "3b173f5f-99db-4919-8870-aa3d8d8ad422",
   "metadata": {},
   "source": [
    "# Week11 - Clustering Lab\n",
    "- Create clusters for the following dataset\n",
    "- Choose a meaningful cluster count\n",
    "- Identify potential labels for each cluster"
   ]
  },
  {
   "cell_type": "code",
   "execution_count": 14,
   "id": "b4428c58-ac05-4a73-a24b-0520c14e0f9b",
   "metadata": {},
   "outputs": [
    {
     "data": {
      "text/html": [
       "<div>\n",
       "<style scoped>\n",
       "    .dataframe tbody tr th:only-of-type {\n",
       "        vertical-align: middle;\n",
       "    }\n",
       "\n",
       "    .dataframe tbody tr th {\n",
       "        vertical-align: top;\n",
       "    }\n",
       "\n",
       "    .dataframe thead th {\n",
       "        text-align: right;\n",
       "    }\n",
       "</style>\n",
       "<table border=\"1\" class=\"dataframe\">\n",
       "  <thead>\n",
       "    <tr style=\"text-align: right;\">\n",
       "      <th></th>\n",
       "      <th>name</th>\n",
       "      <th>text</th>\n",
       "    </tr>\n",
       "  </thead>\n",
       "  <tbody>\n",
       "    <tr>\n",
       "      <th>0</th>\n",
       "      <td>Digby Morrell</td>\n",
       "      <td>digby morrell born 10 october 1979 is a former...</td>\n",
       "    </tr>\n",
       "    <tr>\n",
       "      <th>1</th>\n",
       "      <td>Alfred J. Lewy</td>\n",
       "      <td>alfred j lewy aka sandy lewy graduated from un...</td>\n",
       "    </tr>\n",
       "    <tr>\n",
       "      <th>2</th>\n",
       "      <td>Harpdog Brown</td>\n",
       "      <td>harpdog brown is a singer and harmonica player...</td>\n",
       "    </tr>\n",
       "    <tr>\n",
       "      <th>3</th>\n",
       "      <td>Franz Rottensteiner</td>\n",
       "      <td>franz rottensteiner born in waidmannsfeld lowe...</td>\n",
       "    </tr>\n",
       "    <tr>\n",
       "      <th>4</th>\n",
       "      <td>G-Enka</td>\n",
       "      <td>henry krvits born 30 december 1974 in tallinn ...</td>\n",
       "    </tr>\n",
       "  </tbody>\n",
       "</table>\n",
       "</div>"
      ],
      "text/plain": [
       "                  name                                               text\n",
       "0        Digby Morrell  digby morrell born 10 october 1979 is a former...\n",
       "1       Alfred J. Lewy  alfred j lewy aka sandy lewy graduated from un...\n",
       "2        Harpdog Brown  harpdog brown is a singer and harmonica player...\n",
       "3  Franz Rottensteiner  franz rottensteiner born in waidmannsfeld lowe...\n",
       "4               G-Enka  henry krvits born 30 december 1974 in tallinn ..."
      ]
     },
     "execution_count": 14,
     "metadata": {},
     "output_type": "execute_result"
    }
   ],
   "source": [
    "from zipfile import ZipFile\n",
    "from io import BytesIO\n",
    "import urllib.request as urllib2\n",
    "import pandas as pd\n",
    "\n",
    "def get_data():\n",
    "    r = urllib2.urlopen(\"https://github.com/msaricaumbc/DS_data/blob/master/ds602/people_wiki.zip?raw=true\").read()\n",
    "    file = ZipFile(BytesIO(r))\n",
    "    people_wiki_csv = file.open(\"people_wiki.csv\")\n",
    "    people = pd.read_csv(people_wiki_csv)\n",
    "    people.drop('URI', inplace=True, axis=1)\n",
    "    return people\n",
    "\n",
    "people = get_data()\n",
    "people.head()"
   ]
  },
  {
   "cell_type": "code",
   "execution_count": 15,
   "id": "cfbd7c87-ccc8-49e6-a1c5-b8dd82f9eb90",
   "metadata": {},
   "outputs": [
    {
     "data": {
      "text/html": [
       "<div>\n",
       "<style scoped>\n",
       "    .dataframe tbody tr th:only-of-type {\n",
       "        vertical-align: middle;\n",
       "    }\n",
       "\n",
       "    .dataframe tbody tr th {\n",
       "        vertical-align: top;\n",
       "    }\n",
       "\n",
       "    .dataframe thead th {\n",
       "        text-align: right;\n",
       "    }\n",
       "</style>\n",
       "<table border=\"1\" class=\"dataframe\">\n",
       "  <thead>\n",
       "    <tr style=\"text-align: right;\">\n",
       "      <th></th>\n",
       "      <th>name</th>\n",
       "      <th>text</th>\n",
       "    </tr>\n",
       "  </thead>\n",
       "  <tbody>\n",
       "    <tr>\n",
       "      <th>0</th>\n",
       "      <td>Digby Morrell</td>\n",
       "      <td>digby morrell born 10 october 1979 is a former...</td>\n",
       "    </tr>\n",
       "    <tr>\n",
       "      <th>1</th>\n",
       "      <td>Alfred J. Lewy</td>\n",
       "      <td>alfred j lewy aka sandy lewy graduated from un...</td>\n",
       "    </tr>\n",
       "    <tr>\n",
       "      <th>2</th>\n",
       "      <td>Harpdog Brown</td>\n",
       "      <td>harpdog brown is a singer and harmonica player...</td>\n",
       "    </tr>\n",
       "    <tr>\n",
       "      <th>3</th>\n",
       "      <td>Franz Rottensteiner</td>\n",
       "      <td>franz rottensteiner born in waidmannsfeld lowe...</td>\n",
       "    </tr>\n",
       "    <tr>\n",
       "      <th>4</th>\n",
       "      <td>G-Enka</td>\n",
       "      <td>henry krvits born 30 december 1974 in tallinn ...</td>\n",
       "    </tr>\n",
       "    <tr>\n",
       "      <th>...</th>\n",
       "      <td>...</td>\n",
       "      <td>...</td>\n",
       "    </tr>\n",
       "    <tr>\n",
       "      <th>42781</th>\n",
       "      <td>Motoaki Takenouchi</td>\n",
       "      <td>motoaki takenouchi born july 8 1967 saitama pr...</td>\n",
       "    </tr>\n",
       "    <tr>\n",
       "      <th>42782</th>\n",
       "      <td>Alan Judge (footballer, born 1960)</td>\n",
       "      <td>alan graham judge born 14 may 1960 is a retire...</td>\n",
       "    </tr>\n",
       "    <tr>\n",
       "      <th>42783</th>\n",
       "      <td>Eduardo Lara</td>\n",
       "      <td>eduardo lara lozano born 4 september 1959 in c...</td>\n",
       "    </tr>\n",
       "    <tr>\n",
       "      <th>42784</th>\n",
       "      <td>Tatiana Faberg%C3%A9</td>\n",
       "      <td>tatiana faberg is an author and faberg scholar...</td>\n",
       "    </tr>\n",
       "    <tr>\n",
       "      <th>42785</th>\n",
       "      <td>Kenneth Thomas</td>\n",
       "      <td>kenneth thomas born february 24 1938 was chief...</td>\n",
       "    </tr>\n",
       "  </tbody>\n",
       "</table>\n",
       "<p>42786 rows × 2 columns</p>\n",
       "</div>"
      ],
      "text/plain": [
       "                                     name  \\\n",
       "0                           Digby Morrell   \n",
       "1                          Alfred J. Lewy   \n",
       "2                           Harpdog Brown   \n",
       "3                     Franz Rottensteiner   \n",
       "4                                  G-Enka   \n",
       "...                                   ...   \n",
       "42781                  Motoaki Takenouchi   \n",
       "42782  Alan Judge (footballer, born 1960)   \n",
       "42783                        Eduardo Lara   \n",
       "42784                Tatiana Faberg%C3%A9   \n",
       "42785                      Kenneth Thomas   \n",
       "\n",
       "                                                    text  \n",
       "0      digby morrell born 10 october 1979 is a former...  \n",
       "1      alfred j lewy aka sandy lewy graduated from un...  \n",
       "2      harpdog brown is a singer and harmonica player...  \n",
       "3      franz rottensteiner born in waidmannsfeld lowe...  \n",
       "4      henry krvits born 30 december 1974 in tallinn ...  \n",
       "...                                                  ...  \n",
       "42781  motoaki takenouchi born july 8 1967 saitama pr...  \n",
       "42782  alan graham judge born 14 may 1960 is a retire...  \n",
       "42783  eduardo lara lozano born 4 september 1959 in c...  \n",
       "42784  tatiana faberg is an author and faberg scholar...  \n",
       "42785  kenneth thomas born february 24 1938 was chief...  \n",
       "\n",
       "[42786 rows x 2 columns]"
      ]
     },
     "execution_count": 15,
     "metadata": {},
     "output_type": "execute_result"
    }
   ],
   "source": [
    "people"
   ]
  },
  {
   "cell_type": "code",
   "execution_count": 12,
   "id": "9a44fbb1-0cef-4c33-ad5d-7207296c0d21",
   "metadata": {},
   "outputs": [
    {
     "data": {
      "image/png": "[encoded data removed]",
      "text/plain": [
       "<Figure size 640x480 with 1 Axes>"
      ]
     },
     "metadata": {},
     "output_type": "display_data"
    }
   ],
   "source": [
    "from sklearn.cluster import KMeans\n",
    "from sklearn.feature_extraction.text import TfidfVectorizer\n",
    "import matplotlib.pyplot as plt\n",
    "distortions = list()\n",
    "\n",
    "vectorizer = TfidfVectorizer(stop_words='english')\n",
    "X = vectorizer.fit_transform(people['text'])\n",
    "for i in range(1, 8):\n",
    "    km = KMeans(n_clusters=i, random_state=0)\n",
    "    km.fit(X)\n",
    "    distortions.append(km.inertia_)\n",
    "    \n",
    "plt.plot(range(1, 8), distortions, marker='o')\n",
    "plt.xlabel('Number of Clusters')\n",
    "plt.ylabel('Inertia')\n",
    "plt.show()"
   ]
  },
  {
   "cell_type": "markdown",
   "id": "6f85f3cb-cd3c-497f-bc9e-3fc86dfced15",
   "metadata": {},
   "source": [
    "### Chosen 5 clusters"
   ]
  },
  {
   "cell_type": "code",
   "execution_count": null,
   "id": "116b4312-021c-42c0-87f9-f4f2ab5657af",
   "metadata": {},
   "outputs": [],
   "source": [
    "\n",
    "import pandas as pd\n",
    "from sklearn.feature_extraction.text import TfidfVectorizer\n",
    "from sklearn.cluster import KMeans\n",
    "\n",
    "\n",
    "# vectorize text data\n",
    "vectorizer = TfidfVectorizer(stop_words='english')\n",
    "X = vectorizer.fit_transform(people['text'])\n",
    "\n",
    "# cluster data\n",
    "kmeans = KMeans(n_clusters=5, random_state=0)\n",
    "kmeans.fit(X)\n",
    "\n",
    "# get top words for each cluster\n",
    "top_words = {}\n",
    "order_centroids = kmeans.cluster_centers_.argsort()[:, ::-1]\n",
    "terms = vectorizer.get_feature_names()\n",
    "for i in range(5):\n",
    "    top_words[i] = [terms[ind] for ind in order_centroids[i, :10]]\n",
    "\n"
   ]
  },
  {
   "cell_type": "code",
   "execution_count": 6,
   "id": "c30db008-4bff-4071-9e28-df52e8d49cf8",
   "metadata": {},
   "outputs": [
    {
     "name": "stdout",
     "output_type": "stream",
     "text": [
      "Cluster 0 top words: ['music', 'album', 'band', 'released', 'orchestra', 'jazz', 'song', 'records', 'songs', 'albums']\n",
      "Cluster 1 top words: ['league', 'season', 'team', 'played', 'football', 'coach', 'games', 'club', 'player', 'cup']\n",
      "Cluster 2 top words: ['university', 'new', 'research', 'art', 'book', 'work', 'published', 'professor', 'american', 'born']\n",
      "Cluster 3 top words: ['party', 'election', 'minister', 'law', 'served', 'member', 'elected', 'state', 'president', 'district']\n",
      "Cluster 4 top words: ['film', 'theatre', 'television', 'films', 'series', 'award', 'actor', 'role', 'directed', 'festival']\n"
     ]
    }
   ],
   "source": [
    "for i in range(5):\n",
    "    print(f\"Cluster {i} top words: {top_words[i]}\")"
   ]
  },
  {
   "cell_type": "markdown",
   "id": "a6cb4a36-a7c5-49c7-8959-054c3e9c7fbe",
   "metadata": {},
   "source": [
    "### Experimenting with 7 clusters"
   ]
  },
  {
   "cell_type": "code",
   "execution_count": null,
   "id": "c0dfb0be-1b86-47fa-b1c3-4e1d4589a727",
   "metadata": {},
   "outputs": [],
   "source": [
    "import pandas as pd\n",
    "from sklearn.feature_extraction.text import TfidfVectorizer\n",
    "from sklearn.cluster import KMeans\n",
    "\n",
    "\n",
    "# vectorize text data\n",
    "vectorizer = TfidfVectorizer(stop_words='english')\n",
    "X = vectorizer.fit_transform(people['text'])\n",
    "\n",
    "# cluster data\n",
    "kmeans = KMeans(n_clusters=7, random_state=0)\n",
    "kmeans.fit(X)\n",
    "\n",
    "# get top words for each cluster\n",
    "top_words = {}\n",
    "order_centroids = kmeans.cluster_centers_.argsort()[:, ::-1]\n",
    "terms = vectorizer.get_feature_names()\n",
    "for i in range(5):\n",
    "    top_words[i] = [terms[ind] for ind in order_centroids[i, :10]]\n",
    "    \n"
   ]
  },
  {
   "cell_type": "code",
   "execution_count": 9,
   "id": "d0afbd8d-e125-4ac4-9307-95d003168c42",
   "metadata": {},
   "outputs": [
    {
     "name": "stdout",
     "output_type": "stream",
     "text": [
      "Cluster 0 top words: ['league', 'baseball', 'major', 'season', 'games', 'runs', 'pitcher', 'played', 'minor', 'sox']\n",
      "Cluster 1 top words: ['party', 'election', 'minister', 'served', 'member', 'elected', 'president', 'state', 'general', 'law']\n",
      "Cluster 2 top words: ['film', 'new', 'art', 'television', 'work', 'series', 'award', 'book', 'york', 'born']\n",
      "Cluster 3 top words: ['world', 'championships', 'won', 'tour', 'championship', 'team', 'olympics', 'race', 'racing', 'finished']\n",
      "Cluster 4 top words: ['university', 'research', 'professor', 'science', 'institute', 'studies', 'law', 'phd', 'international', 'college']\n",
      "Cluster 5 top words: ['music', 'album', 'band', 'released', 'orchestra', 'jazz', 'song', 'records', 'songs', 'albums']\n",
      "Cluster 6 top words: ['season', 'football', 'league', 'played', 'team', 'coach', 'club', 'cup', 'player', 'games']\n"
     ]
    }
   ],
   "source": [
    "for i in range(7):\n",
    "    top_words[i] = [terms[ind] for ind in order_centroids[i, :10]]\n",
    "for i in range(7):\n",
    "    print(f\"Cluster {i} top words: {top_words[i]}\")"
   ]
  },
  {
   "cell_type": "markdown",
   "id": "60a8bf7a-1844-4958-9a15-c9b00fc8d09d",
   "metadata": {},
   "source": [
    "### Experimenting with 3 clusters"
   ]
  },
  {
   "cell_type": "code",
   "execution_count": 16,
   "id": "f7d4b9c5-9388-48a7-ab25-f92c81d8d780",
   "metadata": {},
   "outputs": [
    {
     "name": "stderr",
     "output_type": "stream",
     "text": [
      "C:\\Users\\WELCOME\\AppData\\Local\\Programs\\Python\\Python310\\lib\\site-packages\\sklearn\\utils\\deprecation.py:87: FutureWarning: Function get_feature_names is deprecated; get_feature_names is deprecated in 1.0 and will be removed in 1.2. Please use get_feature_names_out instead.\n",
      "  warnings.warn(msg, category=FutureWarning)\n"
     ]
    }
   ],
   "source": [
    "\n",
    "import pandas as pd\n",
    "from sklearn.feature_extraction.text import TfidfVectorizer\n",
    "from sklearn.cluster import KMeans\n",
    "\n",
    "\n",
    "# vectorize text data\n",
    "vectorizer = TfidfVectorizer(stop_words='english')\n",
    "X = vectorizer.fit_transform(people['text'])\n",
    "\n",
    "# cluster data\n",
    "kmeans = KMeans(n_clusters=3, random_state=0)\n",
    "kmeans.fit(X)\n",
    "\n",
    "# get top words for each cluster\n",
    "top_words = {}\n",
    "order_centroids = kmeans.cluster_centers_.argsort()[:, ::-1]\n",
    "terms = vectorizer.get_feature_names()"
   ]
  },
  {
   "cell_type": "code",
   "execution_count": 17,
   "id": "50b66169-fd64-436e-aaa6-28bacac02799",
   "metadata": {},
   "outputs": [
    {
     "name": "stdout",
     "output_type": "stream",
     "text": [
      "Cluster 0 top words: ['music', 'film', 'new', 'album', 'art', 'band', 'television', 'award', 'series', 'work']\n",
      "Cluster 1 top words: ['league', 'season', 'team', 'played', 'football', 'games', 'coach', 'club', 'player', 'cup']\n",
      "Cluster 2 top words: ['university', 'served', 'member', 'president', 'law', 'party', 'research', 'professor', 'minister', 'election']\n"
     ]
    }
   ],
   "source": [
    "for i in range(3):\n",
    "    top_words[i] = [terms[ind] for ind in order_centroids[i, :10]]\n",
    "for i in range(3):\n",
    "    print(f\"Cluster {i} top words: {top_words[i]}\")"
   ]
  },
  {
   "cell_type": "markdown",
   "id": "c7333354-8208-409d-b653-7d3d0562f704",
   "metadata": {},
   "source": [
    "#### if we choose 3 clusters, cluster 3 is not making sense as it contains overlapping words of both categories politics and Education and cannot identify a clear representative of the cluster . Hence optimal clusters would be 5"
   ]
  },
  {
   "cell_type": "code",
   "execution_count": 18,
   "id": "d1e60415-fcda-48cc-8af5-529c61220422",
   "metadata": {},
   "outputs": [],
   "source": [
    "import pandas as pd\n",
    "from sklearn.feature_extraction.text import TfidfVectorizer\n",
    "from sklearn.cluster import KMeans\n",
    "\n",
    "\n",
    "# vectorize text data\n",
    "vectorizer = TfidfVectorizer(stop_words='english')\n",
    "X = vectorizer.fit_transform(people['text'])\n",
    "\n",
    "# cluster data\n",
    "kmeans = KMeans(n_clusters=5, random_state=0)\n",
    "kmeans.fit(X)\n",
    "\n",
    "# get top words for each cluster\n",
    "top_words = {}\n",
    "order_centroids = kmeans.cluster_centers_.argsort()[:, ::-1]\n",
    "terms = vectorizer.get_feature_names()\n",
    "for i in range(5):\n",
    "    top_words[i] = [terms[ind] for ind in order_centroids[i, :10]]\n"
   ]
  },
  {
   "cell_type": "code",
   "execution_count": 20,
   "id": "b3240fc6-f396-425e-928a-4e8763765100",
   "metadata": {},
   "outputs": [
    {
     "name": "stdout",
     "output_type": "stream",
     "text": [
      "Cluster 0 top words: ['music', 'album', 'band', 'released', 'orchestra', 'jazz', 'song', 'records', 'songs', 'albums']\n",
      "Cluster 1 top words: ['league', 'season', 'team', 'played', 'football', 'coach', 'games', 'club', 'player', 'cup']\n",
      "Cluster 2 top words: ['university', 'new', 'research', 'art', 'book', 'work', 'published', 'professor', 'american', 'born']\n",
      "Cluster 3 top words: ['party', 'election', 'minister', 'law', 'served', 'member', 'elected', 'state', 'president', 'district']\n",
      "Cluster 4 top words: ['film', 'theatre', 'television', 'films', 'series', 'award', 'actor', 'role', 'directed', 'festival']\n",
      "                                     name  \\\n",
      "0                           Digby Morrell   \n",
      "1                          Alfred J. Lewy   \n",
      "2                           Harpdog Brown   \n",
      "3                     Franz Rottensteiner   \n",
      "4                                  G-Enka   \n",
      "...                                   ...   \n",
      "42781                  Motoaki Takenouchi   \n",
      "42782  Alan Judge (footballer, born 1960)   \n",
      "42783                        Eduardo Lara   \n",
      "42784                Tatiana Faberg%C3%A9   \n",
      "42785                      Kenneth Thomas   \n",
      "\n",
      "                                                    text             label  \n",
      "0      digby morrell born 10 october 1979 is a former...  Baseball players  \n",
      "1      alfred j lewy aka sandy lewy graduated from un...         Education  \n",
      "2      harpdog brown is a singer and harmonica player...         Musicians  \n",
      "3      franz rottensteiner born in waidmannsfeld lowe...         Education  \n",
      "4      henry krvits born 30 december 1974 in tallinn ...         Musicians  \n",
      "...                                                  ...               ...  \n",
      "42781  motoaki takenouchi born july 8 1967 saitama pr...         Musicians  \n",
      "42782  alan graham judge born 14 may 1960 is a retire...  Baseball players  \n",
      "42783  eduardo lara lozano born 4 september 1959 in c...  Baseball players  \n",
      "42784  tatiana faberg is an author and faberg scholar...         Education  \n",
      "42785  kenneth thomas born february 24 1938 was chief...         Education  \n",
      "\n",
      "[42786 rows x 3 columns]\n"
     ]
    }
   ],
   "source": [
    "### labelling 5  clusters based on top words\n",
    "labels = {}\n",
    "labels[0] = \"Musicians\"\n",
    "labels[1] = \"Baseball players\"\n",
    "labels[2] = \"Education\"\n",
    "labels[3] = \"Politics\"\n",
    "labels[4] = \"Entertainment\"\n",
    "\n",
    "# assign labels to data\n",
    "people['cluster'] = kmeans.labels_\n",
    "people['label'] = people['cluster'].apply(lambda x: labels[x])\n",
    "\n",
    "# print top words for each cluster and cluster labels\n",
    "for i in range(5):\n",
    "    print(f\"Cluster {i} top words: {top_words[i]}\")\n",
    "    \n",
    "print(people[['name', 'text', 'label']])\n"
   ]
  }
 ],
 "metadata": {
  "kernelspec": {
   "display_name": "Python 3 (ipykernel)",
   "language": "python",
   "name": "python3"
  },
  "language_info": {
   "codemirror_mode": {
    "name": "ipython",
    "version": 3
   },
   "file_extension": ".py",
   "mimetype": "text/x-python",
   "name": "python",
   "nbconvert_exporter": "python",
   "pygments_lexer": "ipython3",
   "version": "3.10.7"
  }
 },
 "nbformat": 4,
 "nbformat_minor": 5
}
