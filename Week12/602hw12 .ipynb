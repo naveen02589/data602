{
  "cells": [
    {
      "cell_type": "markdown",
      "source": [
        "# Homework 12\n",
        "\n",
        "https://scikit-learn.org/0.15/modules/scaling_strategies.html#incremental-learning\n",
        "\n",
        "* Implement a mini batch functionality to train a regressor.\n",
        "    - (Optional) If anyone want to do this in a pipeline can do this: https://koaning.github.io/tokenwiser/api/pipeline.html\n",
        "\n",
        "* Save model, load the model again and test it on `X_test` __Do NOT commit the pickle file__"
      ],
      "metadata": {
        "id": "wgz3VSHboX0F"
      },
      "id": "wgz3VSHboX0F"
    },
    {
      "cell_type": "code",
      "source": [
        "import pandas as pd\n",
        "import numpy as np\n",
        "import matplotlib.pyplot as plt"
      ],
      "metadata": {
        "id": "qsbQhAhnoa2Y"
      },
      "id": "qsbQhAhnoa2Y",
      "execution_count": 17,
      "outputs": []
    },
    {
      "cell_type": "code",
      "execution_count": 2,
      "id": "9a17c250-27e0-48c5-9daa-d58c6e2c744a",
      "metadata": {
        "id": "9a17c250-27e0-48c5-9daa-d58c6e2c744a"
      },
      "outputs": [],
      "source": [
        "def test_df():\n",
        "    df = pd.read_csv('https://raw.githubusercontent.com/msaricaumbc/DS_data/master/ds602/car_prices/car_prices.csv', low_memory=False)\n",
        "\n",
        "    df = df.sample(5000, random_state=100).reset_index(drop=True)\n",
        "    \n",
        "    y = df['sellingprice']\n",
        "    df.drop('sellingprice', axis=1, inplace=True)\n",
        "    X = df\n",
        "    \n",
        "    return X,y\n",
        "\n",
        "def partial_df():\n",
        "    df = pd.read_csv('https://raw.githubusercontent.com/msaricaumbc/DS_data/master/ds602/car_prices/car_prices.csv', low_memory=False)\n",
        "   \n",
        "    while(True):\n",
        "        yield df.sample(100).reset_index(drop=True)\n",
        "        \n",
        "gen = partial_df()"
      ]
    },
    {
      "cell_type": "code",
      "execution_count": 3,
      "id": "3849311e-8433-4f4f-bfef-1c7c036479af",
      "metadata": {
        "id": "3849311e-8433-4f4f-bfef-1c7c036479af"
      },
      "outputs": [],
      "source": [
        "X_test, y_test = test_df()"
      ]
    },
    {
      "cell_type": "code",
      "execution_count": 4,
      "id": "4e098aae-3d5b-4d2e-b3e4-39d6c23bce47",
      "metadata": {
        "colab": {
          "base_uri": "https://localhost:8080/"
        },
        "id": "4e098aae-3d5b-4d2e-b3e4-39d6c23bce47",
        "outputId": "4b4733cf-0f7b-44c8-d9fc-e7a092d4fc9c"
      },
      "outputs": [
        {
          "output_type": "execute_result",
          "data": {
            "text/plain": [
              "<generator object partial_df at 0x7fda5a7fd5b0>"
            ]
          },
          "metadata": {},
          "execution_count": 4
        }
      ],
      "source": [
        "gen"
      ]
    },
    {
      "cell_type": "code",
      "execution_count": 5,
      "id": "857eb9cd-dcfd-4a21-a36c-a4e5e97514f5",
      "metadata": {
        "colab": {
          "base_uri": "https://localhost:8080/",
          "height": 1000
        },
        "id": "857eb9cd-dcfd-4a21-a36c-a4e5e97514f5",
        "outputId": "6efd9427-6a93-4e88-eda2-8b1f252cbd3e"
      },
      "outputs": [
        {
          "output_type": "execute_result",
          "data": {
            "text/plain": [
              "    year        make               model         trim                body  \\\n",
              "0   2014      Toyota             4Runner      Limited                 SUV   \n",
              "1   2010   Chevrolet              Malibu          LT1               Sedan   \n",
              "2   2013      Nissan            Frontier           SV            Crew Cab   \n",
              "3   2012       Mazda                CX-9      Touring                 SUV   \n",
              "4   2002   Chevrolet              Blazer           LS                 SUV   \n",
              "..   ...         ...                 ...          ...                 ...   \n",
              "95  2013  Volkswagen  Beetle Convertible   Turbo PZEV  Beetle Convertible   \n",
              "96  2014     Hyundai              Accent          GLS               sedan   \n",
              "97  2012      Toyota                RAV4         Base                 SUV   \n",
              "98  2005       Dodge     Ram Pickup 2500          SLT            Quad Cab   \n",
              "99  2011    Infiniti             G Sedan  G37 Journey             G Sedan   \n",
              "\n",
              "   transmission                vin state condition  odometer   color interior  \\\n",
              "0           NaN  jtebu5jr3e5177509    pa       1.9   11749.0     red    black   \n",
              "1     automatic  1g1zc5e04af205705    wi       2.9   75301.0   white    black   \n",
              "2     automatic  1n6ad0er1dn744907    ga         4   36626.0   black     gray   \n",
              "3     automatic  jm3tb3cv7c0334117    pa       4.6   26407.0   black    black   \n",
              "4     automatic  1gncs18wx2k125544    oh         1  133358.0  silver     gray   \n",
              "..          ...                ...   ...       ...       ...     ...      ...   \n",
              "95    automatic  3vw7t7at0dm833577    fl       4.5   10746.0       —    black   \n",
              "96    automatic  kmhct4ae0eu650738    il       1.9   26379.0    gray     gray   \n",
              "97    automatic  2t3bf4dv5cw206712    oh       4.5   25472.0  silver     gray   \n",
              "98    automatic  3d7ks28d35g819549    pa       3.5  111519.0   black    black   \n",
              "99    automatic  jn1cv6ap9bm304715    fl       4.2   33195.0  silver     gray   \n",
              "\n",
              "                                            seller    mmr  sellingprice  \\\n",
              "0           remarketing by ge/manheim pennsylvania  38900         34000   \n",
              "1       enterprise fleet management exchange, inc.   8025          8700   \n",
              "2   remarketing by ge/the credit union loan source  18000         18000   \n",
              "3                         jpmorgan chase bank,n.a.  22300         22000   \n",
              "4                                      halleen kia   1275          1400   \n",
              "..                                             ...    ...           ...   \n",
              "95                                       vw credit  20100         20000   \n",
              "96                              kfl llc;embarc llc  10400          7400   \n",
              "97                       toyota financial services  15250         16400   \n",
              "98                         mike watchers used cars  11850         13700   \n",
              "99                  american bank auto liquidators  19200         20000   \n",
              "\n",
              "                                   saledate  \n",
              "0   Fri Jun 12 2015 02:00:00 GMT-0700 (PDT)  \n",
              "1   Wed Feb 18 2015 02:00:00 GMT-0800 (PST)  \n",
              "2   Tue Jan 20 2015 05:10:00 GMT-0800 (PST)  \n",
              "3   Fri Jan 09 2015 09:00:00 GMT-0800 (PST)  \n",
              "4   Tue Jan 13 2015 09:30:00 GMT-0800 (PST)  \n",
              "..                                      ...  \n",
              "95  Tue Jan 20 2015 01:30:00 GMT-0800 (PST)  \n",
              "96  Tue Jun 16 2015 04:00:00 GMT-0700 (PDT)  \n",
              "97  Mon Jun 01 2015 09:00:00 GMT-0700 (PDT)  \n",
              "98  Fri Mar 06 2015 01:30:00 GMT-0800 (PST)  \n",
              "99  Tue Feb 03 2015 01:30:00 GMT-0800 (PST)  \n",
              "\n",
              "[100 rows x 16 columns]"
            ],
            "text/html": [
              "\n",
              "  <div id=\"df-32c210e0-1d90-44f0-8704-2f29d095de77\">\n",
              "    <div class=\"colab-df-container\">\n",
              "      <div>\n",
              "<style scoped>\n",
              "    .dataframe tbody tr th:only-of-type {\n",
              "        vertical-align: middle;\n",
              "    }\n",
              "\n",
              "    .dataframe tbody tr th {\n",
              "        vertical-align: top;\n",
              "    }\n",
              "\n",
              "    .dataframe thead th {\n",
              "        text-align: right;\n",
              "    }\n",
              "</style>\n",
              "<table border=\"1\" class=\"dataframe\">\n",
              "  <thead>\n",
              "    <tr style=\"text-align: right;\">\n",
              "      <th></th>\n",
              "      <th>year</th>\n",
              "      <th>make</th>\n",
              "      <th>model</th>\n",
              "      <th>trim</th>\n",
              "      <th>body</th>\n",
              "      <th>transmission</th>\n",
              "      <th>vin</th>\n",
              "      <th>state</th>\n",
              "      <th>condition</th>\n",
              "      <th>odometer</th>\n",
              "      <th>color</th>\n",
              "      <th>interior</th>\n",
              "      <th>seller</th>\n",
              "      <th>mmr</th>\n",
              "      <th>sellingprice</th>\n",
              "      <th>saledate</th>\n",
              "    </tr>\n",
              "  </thead>\n",
              "  <tbody>\n",
              "    <tr>\n",
              "      <th>0</th>\n",
              "      <td>2014</td>\n",
              "      <td>Toyota</td>\n",
              "      <td>4Runner</td>\n",
              "      <td>Limited</td>\n",
              "      <td>SUV</td>\n",
              "      <td>NaN</td>\n",
              "      <td>jtebu5jr3e5177509</td>\n",
              "      <td>pa</td>\n",
              "      <td>1.9</td>\n",
              "      <td>11749.0</td>\n",
              "      <td>red</td>\n",
              "      <td>black</td>\n",
              "      <td>remarketing by ge/manheim pennsylvania</td>\n",
              "      <td>38900</td>\n",
              "      <td>34000</td>\n",
              "      <td>Fri Jun 12 2015 02:00:00 GMT-0700 (PDT)</td>\n",
              "    </tr>\n",
              "    <tr>\n",
              "      <th>1</th>\n",
              "      <td>2010</td>\n",
              "      <td>Chevrolet</td>\n",
              "      <td>Malibu</td>\n",
              "      <td>LT1</td>\n",
              "      <td>Sedan</td>\n",
              "      <td>automatic</td>\n",
              "      <td>1g1zc5e04af205705</td>\n",
              "      <td>wi</td>\n",
              "      <td>2.9</td>\n",
              "      <td>75301.0</td>\n",
              "      <td>white</td>\n",
              "      <td>black</td>\n",
              "      <td>enterprise fleet management exchange, inc.</td>\n",
              "      <td>8025</td>\n",
              "      <td>8700</td>\n",
              "      <td>Wed Feb 18 2015 02:00:00 GMT-0800 (PST)</td>\n",
              "    </tr>\n",
              "    <tr>\n",
              "      <th>2</th>\n",
              "      <td>2013</td>\n",
              "      <td>Nissan</td>\n",
              "      <td>Frontier</td>\n",
              "      <td>SV</td>\n",
              "      <td>Crew Cab</td>\n",
              "      <td>automatic</td>\n",
              "      <td>1n6ad0er1dn744907</td>\n",
              "      <td>ga</td>\n",
              "      <td>4</td>\n",
              "      <td>36626.0</td>\n",
              "      <td>black</td>\n",
              "      <td>gray</td>\n",
              "      <td>remarketing by ge/the credit union loan source</td>\n",
              "      <td>18000</td>\n",
              "      <td>18000</td>\n",
              "      <td>Tue Jan 20 2015 05:10:00 GMT-0800 (PST)</td>\n",
              "    </tr>\n",
              "    <tr>\n",
              "      <th>3</th>\n",
              "      <td>2012</td>\n",
              "      <td>Mazda</td>\n",
              "      <td>CX-9</td>\n",
              "      <td>Touring</td>\n",
              "      <td>SUV</td>\n",
              "      <td>automatic</td>\n",
              "      <td>jm3tb3cv7c0334117</td>\n",
              "      <td>pa</td>\n",
              "      <td>4.6</td>\n",
              "      <td>26407.0</td>\n",
              "      <td>black</td>\n",
              "      <td>black</td>\n",
              "      <td>jpmorgan chase bank,n.a.</td>\n",
              "      <td>22300</td>\n",
              "      <td>22000</td>\n",
              "      <td>Fri Jan 09 2015 09:00:00 GMT-0800 (PST)</td>\n",
              "    </tr>\n",
              "    <tr>\n",
              "      <th>4</th>\n",
              "      <td>2002</td>\n",
              "      <td>Chevrolet</td>\n",
              "      <td>Blazer</td>\n",
              "      <td>LS</td>\n",
              "      <td>SUV</td>\n",
              "      <td>automatic</td>\n",
              "      <td>1gncs18wx2k125544</td>\n",
              "      <td>oh</td>\n",
              "      <td>1</td>\n",
              "      <td>133358.0</td>\n",
              "      <td>silver</td>\n",
              "      <td>gray</td>\n",
              "      <td>halleen kia</td>\n",
              "      <td>1275</td>\n",
              "      <td>1400</td>\n",
              "      <td>Tue Jan 13 2015 09:30:00 GMT-0800 (PST)</td>\n",
              "    </tr>\n",
              "    <tr>\n",
              "      <th>...</th>\n",
              "      <td>...</td>\n",
              "      <td>...</td>\n",
              "      <td>...</td>\n",
              "      <td>...</td>\n",
              "      <td>...</td>\n",
              "      <td>...</td>\n",
              "      <td>...</td>\n",
              "      <td>...</td>\n",
              "      <td>...</td>\n",
              "      <td>...</td>\n",
              "      <td>...</td>\n",
              "      <td>...</td>\n",
              "      <td>...</td>\n",
              "      <td>...</td>\n",
              "      <td>...</td>\n",
              "      <td>...</td>\n",
              "    </tr>\n",
              "    <tr>\n",
              "      <th>95</th>\n",
              "      <td>2013</td>\n",
              "      <td>Volkswagen</td>\n",
              "      <td>Beetle Convertible</td>\n",
              "      <td>Turbo PZEV</td>\n",
              "      <td>Beetle Convertible</td>\n",
              "      <td>automatic</td>\n",
              "      <td>3vw7t7at0dm833577</td>\n",
              "      <td>fl</td>\n",
              "      <td>4.5</td>\n",
              "      <td>10746.0</td>\n",
              "      <td>—</td>\n",
              "      <td>black</td>\n",
              "      <td>vw credit</td>\n",
              "      <td>20100</td>\n",
              "      <td>20000</td>\n",
              "      <td>Tue Jan 20 2015 01:30:00 GMT-0800 (PST)</td>\n",
              "    </tr>\n",
              "    <tr>\n",
              "      <th>96</th>\n",
              "      <td>2014</td>\n",
              "      <td>Hyundai</td>\n",
              "      <td>Accent</td>\n",
              "      <td>GLS</td>\n",
              "      <td>sedan</td>\n",
              "      <td>automatic</td>\n",
              "      <td>kmhct4ae0eu650738</td>\n",
              "      <td>il</td>\n",
              "      <td>1.9</td>\n",
              "      <td>26379.0</td>\n",
              "      <td>gray</td>\n",
              "      <td>gray</td>\n",
              "      <td>kfl llc;embarc llc</td>\n",
              "      <td>10400</td>\n",
              "      <td>7400</td>\n",
              "      <td>Tue Jun 16 2015 04:00:00 GMT-0700 (PDT)</td>\n",
              "    </tr>\n",
              "    <tr>\n",
              "      <th>97</th>\n",
              "      <td>2012</td>\n",
              "      <td>Toyota</td>\n",
              "      <td>RAV4</td>\n",
              "      <td>Base</td>\n",
              "      <td>SUV</td>\n",
              "      <td>automatic</td>\n",
              "      <td>2t3bf4dv5cw206712</td>\n",
              "      <td>oh</td>\n",
              "      <td>4.5</td>\n",
              "      <td>25472.0</td>\n",
              "      <td>silver</td>\n",
              "      <td>gray</td>\n",
              "      <td>toyota financial services</td>\n",
              "      <td>15250</td>\n",
              "      <td>16400</td>\n",
              "      <td>Mon Jun 01 2015 09:00:00 GMT-0700 (PDT)</td>\n",
              "    </tr>\n",
              "    <tr>\n",
              "      <th>98</th>\n",
              "      <td>2005</td>\n",
              "      <td>Dodge</td>\n",
              "      <td>Ram Pickup 2500</td>\n",
              "      <td>SLT</td>\n",
              "      <td>Quad Cab</td>\n",
              "      <td>automatic</td>\n",
              "      <td>3d7ks28d35g819549</td>\n",
              "      <td>pa</td>\n",
              "      <td>3.5</td>\n",
              "      <td>111519.0</td>\n",
              "      <td>black</td>\n",
              "      <td>black</td>\n",
              "      <td>mike watchers used cars</td>\n",
              "      <td>11850</td>\n",
              "      <td>13700</td>\n",
              "      <td>Fri Mar 06 2015 01:30:00 GMT-0800 (PST)</td>\n",
              "    </tr>\n",
              "    <tr>\n",
              "      <th>99</th>\n",
              "      <td>2011</td>\n",
              "      <td>Infiniti</td>\n",
              "      <td>G Sedan</td>\n",
              "      <td>G37 Journey</td>\n",
              "      <td>G Sedan</td>\n",
              "      <td>automatic</td>\n",
              "      <td>jn1cv6ap9bm304715</td>\n",
              "      <td>fl</td>\n",
              "      <td>4.2</td>\n",
              "      <td>33195.0</td>\n",
              "      <td>silver</td>\n",
              "      <td>gray</td>\n",
              "      <td>american bank auto liquidators</td>\n",
              "      <td>19200</td>\n",
              "      <td>20000</td>\n",
              "      <td>Tue Feb 03 2015 01:30:00 GMT-0800 (PST)</td>\n",
              "    </tr>\n",
              "  </tbody>\n",
              "</table>\n",
              "<p>100 rows × 16 columns</p>\n",
              "</div>\n",
              "      <button class=\"colab-df-convert\" onclick=\"convertToInteractive('df-32c210e0-1d90-44f0-8704-2f29d095de77')\"\n",
              "              title=\"Convert this dataframe to an interactive table.\"\n",
              "              style=\"display:none;\">\n",
              "        \n",
              "  <svg xmlns=\"http://www.w3.org/2000/svg\" height=\"24px\"viewBox=\"0 0 24 24\"\n",
              "       width=\"24px\">\n",
              "    <path d=\"M0 0h24v24H0V0z\" fill=\"none\"/>\n",
              "    <path d=\"M18.56 5.44l.94 2.06.94-2.06 2.06-.94-2.06-.94-.94-2.06-.94 2.06-2.06.94zm-11 1L8.5 8.5l.94-2.06 2.06-.94-2.06-.94L8.5 2.5l-.94 2.06-2.06.94zm10 10l.94 2.06.94-2.06 2.06-.94-2.06-.94-.94-2.06-.94 2.06-2.06.94z\"/><path d=\"M17.41 7.96l-1.37-1.37c-.4-.4-.92-.59-1.43-.59-.52 0-1.04.2-1.43.59L10.3 9.45l-7.72 7.72c-.78.78-.78 2.05 0 2.83L4 21.41c.39.39.9.59 1.41.59.51 0 1.02-.2 1.41-.59l7.78-7.78 2.81-2.81c.8-.78.8-2.07 0-2.86zM5.41 20L4 18.59l7.72-7.72 1.47 1.35L5.41 20z\"/>\n",
              "  </svg>\n",
              "      </button>\n",
              "      \n",
              "  <style>\n",
              "    .colab-df-container {\n",
              "      display:flex;\n",
              "      flex-wrap:wrap;\n",
              "      gap: 12px;\n",
              "    }\n",
              "\n",
              "    .colab-df-convert {\n",
              "      background-color: #E8F0FE;\n",
              "      border: none;\n",
              "      border-radius: 50%;\n",
              "      cursor: pointer;\n",
              "      display: none;\n",
              "      fill: #1967D2;\n",
              "      height: 32px;\n",
              "      padding: 0 0 0 0;\n",
              "      width: 32px;\n",
              "    }\n",
              "\n",
              "    .colab-df-convert:hover {\n",
              "      background-color: #E2EBFA;\n",
              "      box-shadow: 0px 1px 2px rgba(60, 64, 67, 0.3), 0px 1px 3px 1px rgba(60, 64, 67, 0.15);\n",
              "      fill: #174EA6;\n",
              "    }\n",
              "\n",
              "    [theme=dark] .colab-df-convert {\n",
              "      background-color: #3B4455;\n",
              "      fill: #D2E3FC;\n",
              "    }\n",
              "\n",
              "    [theme=dark] .colab-df-convert:hover {\n",
              "      background-color: #434B5C;\n",
              "      box-shadow: 0px 1px 3px 1px rgba(0, 0, 0, 0.15);\n",
              "      filter: drop-shadow(0px 1px 2px rgba(0, 0, 0, 0.3));\n",
              "      fill: #FFFFFF;\n",
              "    }\n",
              "  </style>\n",
              "\n",
              "      <script>\n",
              "        const buttonEl =\n",
              "          document.querySelector('#df-32c210e0-1d90-44f0-8704-2f29d095de77 button.colab-df-convert');\n",
              "        buttonEl.style.display =\n",
              "          google.colab.kernel.accessAllowed ? 'block' : 'none';\n",
              "\n",
              "        async function convertToInteractive(key) {\n",
              "          const element = document.querySelector('#df-32c210e0-1d90-44f0-8704-2f29d095de77');\n",
              "          const dataTable =\n",
              "            await google.colab.kernel.invokeFunction('convertToInteractive',\n",
              "                                                     [key], {});\n",
              "          if (!dataTable) return;\n",
              "\n",
              "          const docLinkHtml = 'Like what you see? Visit the ' +\n",
              "            '<a target=\"_blank\" href=https://colab.research.google.com/notebooks/data_table.ipynb>data table notebook</a>'\n",
              "            + ' to learn more about interactive tables.';\n",
              "          element.innerHTML = '';\n",
              "          dataTable['output_type'] = 'display_data';\n",
              "          await google.colab.output.renderOutput(dataTable, element);\n",
              "          const docLink = document.createElement('div');\n",
              "          docLink.innerHTML = docLinkHtml;\n",
              "          element.appendChild(docLink);\n",
              "        }\n",
              "      </script>\n",
              "    </div>\n",
              "  </div>\n",
              "  "
            ]
          },
          "metadata": {},
          "execution_count": 5
        }
      ],
      "source": [
        "# each time you call this you will get a new slice of the dataframe.\n",
        "next(gen)"
      ]
    },
    {
      "cell_type": "code",
      "execution_count": 6,
      "id": "50a421ae-eb6a-48fd-9fbe-e083e76e63cf",
      "metadata": {
        "colab": {
          "base_uri": "https://localhost:8080/"
        },
        "id": "50a421ae-eb6a-48fd-9fbe-e083e76e63cf",
        "outputId": "cc3802ba-33f1-446e-ac04-4dd97230c9df"
      },
      "outputs": [
        {
          "output_type": "execute_result",
          "data": {
            "text/plain": [
              "5000"
            ]
          },
          "metadata": {},
          "execution_count": 6
        }
      ],
      "source": [
        "len(X_test)"
      ]
    },
    {
      "cell_type": "markdown",
      "source": [
        "## Data preprocessing"
      ],
      "metadata": {
        "id": "4vL5LLzKrX4X"
      },
      "id": "4vL5LLzKrX4X"
    },
    {
      "cell_type": "code",
      "execution_count": 7,
      "id": "51488bb9-4b99-44ab-bebe-80b4d99b1b2b",
      "metadata": {
        "id": "51488bb9-4b99-44ab-bebe-80b4d99b1b2b"
      },
      "outputs": [],
      "source": [
        "from sklearn.pipeline import Pipeline\n",
        "from sklearn.impute import SimpleImputer\n",
        "from sklearn.preprocessing import StandardScaler, OneHotEncoder\n",
        "from sklearn.compose import ColumnTransformer\n",
        "from sklearn.compose import make_column_selector as selector\n",
        "from sklearn.linear_model import SGDRegressor\n",
        "import warnings\n",
        "warnings.filterwarnings(\"ignore\")"
      ]
    },
    {
      "cell_type": "code",
      "execution_count": 8,
      "id": "3c3f446b-b932-4b3f-ae61-696a530c957a",
      "metadata": {
        "id": "3c3f446b-b932-4b3f-ae61-696a530c957a"
      },
      "outputs": [],
      "source": [
        "df_numerical_features = X_test.select_dtypes(exclude='object')\n",
        "df_categorical_features = X_test.select_dtypes(include='object')"
      ]
    },
    {
      "cell_type": "code",
      "execution_count": 9,
      "id": "3d3730c4-2817-4b86-bf5c-340cbba1e20d",
      "metadata": {
        "colab": {
          "base_uri": "https://localhost:8080/"
        },
        "id": "3d3730c4-2817-4b86-bf5c-340cbba1e20d",
        "outputId": "164ba28a-2ca9-4f4d-bb31-da18f7666da8"
      },
      "outputs": [
        {
          "output_type": "stream",
          "name": "stdout",
          "text": [
            "Categorical features are  ['make', 'model', 'trim', 'body', 'transmission', 'vin', 'state', 'condition', 'color', 'interior', 'seller', 'mmr', 'saledate']\n",
            "Numerial features are ['year', 'odometer']\n"
          ]
        }
      ],
      "source": [
        "numerical_columns_selector = selector(dtype_exclude=object)\n",
        "cat_columns_selector = selector(dtype_include =object)\n",
        "cat_columns = cat_columns_selector(X_test)\n",
        "numeric_columns =numerical_columns_selector(X_test)\n",
        "print(\"Categorical features are \", cat_columns)\n",
        "print(\"Numerial features are\", numeric_columns)"
      ]
    },
    {
      "cell_type": "code",
      "execution_count": 10,
      "id": "e02d3474-8aa9-4b90-8f56-5b5ee1b70d73",
      "metadata": {
        "colab": {
          "base_uri": "https://localhost:8080/",
          "height": 152
        },
        "id": "e02d3474-8aa9-4b90-8f56-5b5ee1b70d73",
        "outputId": "06040b46-b517-4253-f6b3-307f90dc881e"
      },
      "outputs": [
        {
          "output_type": "execute_result",
          "data": {
            "text/plain": [
              "ColumnTransformer(transformers=[('num',\n",
              "                                 Pipeline(steps=[('imputation',\n",
              "                                                  SimpleImputer(strategy='median')),\n",
              "                                                 ('scaler', StandardScaler())]),\n",
              "                                 ['year', 'odometer']),\n",
              "                                ('cat',\n",
              "                                 Pipeline(steps=[('imputation',\n",
              "                                                  SimpleImputer(strategy='most_frequent')),\n",
              "                                                 ('onehotencoder',\n",
              "                                                  OneHotEncoder(drop='first',\n",
              "                                                                handle_unknown='ignore'))]),\n",
              "                                 ['make', 'model', 'trim', 'body',\n",
              "                                  'transmission', 'vin', 'state', 'condition',\n",
              "                                  'color', 'interior', 'seller', 'mmr',\n",
              "                                  'saledate'])])"
            ],
            "text/html": [
              "<style>#sk-container-id-1 {color: black;background-color: white;}#sk-container-id-1 pre{padding: 0;}#sk-container-id-1 div.sk-toggleable {background-color: white;}#sk-container-id-1 label.sk-toggleable__label {cursor: pointer;display: block;width: 100%;margin-bottom: 0;padding: 0.3em;box-sizing: border-box;text-align: center;}#sk-container-id-1 label.sk-toggleable__label-arrow:before {content: \"▸\";float: left;margin-right: 0.25em;color: #696969;}#sk-container-id-1 label.sk-toggleable__label-arrow:hover:before {color: black;}#sk-container-id-1 div.sk-estimator:hover label.sk-toggleable__label-arrow:before {color: black;}#sk-container-id-1 div.sk-toggleable__content {max-height: 0;max-width: 0;overflow: hidden;text-align: left;background-color: #f0f8ff;}#sk-container-id-1 div.sk-toggleable__content pre {margin: 0.2em;color: black;border-radius: 0.25em;background-color: #f0f8ff;}#sk-container-id-1 input.sk-toggleable__control:checked~div.sk-toggleable__content {max-height: 200px;max-width: 100%;overflow: auto;}#sk-container-id-1 input.sk-toggleable__control:checked~label.sk-toggleable__label-arrow:before {content: \"▾\";}#sk-container-id-1 div.sk-estimator input.sk-toggleable__control:checked~label.sk-toggleable__label {background-color: #d4ebff;}#sk-container-id-1 div.sk-label input.sk-toggleable__control:checked~label.sk-toggleable__label {background-color: #d4ebff;}#sk-container-id-1 input.sk-hidden--visually {border: 0;clip: rect(1px 1px 1px 1px);clip: rect(1px, 1px, 1px, 1px);height: 1px;margin: -1px;overflow: hidden;padding: 0;position: absolute;width: 1px;}#sk-container-id-1 div.sk-estimator {font-family: monospace;background-color: #f0f8ff;border: 1px dotted black;border-radius: 0.25em;box-sizing: border-box;margin-bottom: 0.5em;}#sk-container-id-1 div.sk-estimator:hover {background-color: #d4ebff;}#sk-container-id-1 div.sk-parallel-item::after {content: \"\";width: 100%;border-bottom: 1px solid gray;flex-grow: 1;}#sk-container-id-1 div.sk-label:hover label.sk-toggleable__label {background-color: #d4ebff;}#sk-container-id-1 div.sk-serial::before {content: \"\";position: absolute;border-left: 1px solid gray;box-sizing: border-box;top: 0;bottom: 0;left: 50%;z-index: 0;}#sk-container-id-1 div.sk-serial {display: flex;flex-direction: column;align-items: center;background-color: white;padding-right: 0.2em;padding-left: 0.2em;position: relative;}#sk-container-id-1 div.sk-item {position: relative;z-index: 1;}#sk-container-id-1 div.sk-parallel {display: flex;align-items: stretch;justify-content: center;background-color: white;position: relative;}#sk-container-id-1 div.sk-item::before, #sk-container-id-1 div.sk-parallel-item::before {content: \"\";position: absolute;border-left: 1px solid gray;box-sizing: border-box;top: 0;bottom: 0;left: 50%;z-index: -1;}#sk-container-id-1 div.sk-parallel-item {display: flex;flex-direction: column;z-index: 1;position: relative;background-color: white;}#sk-container-id-1 div.sk-parallel-item:first-child::after {align-self: flex-end;width: 50%;}#sk-container-id-1 div.sk-parallel-item:last-child::after {align-self: flex-start;width: 50%;}#sk-container-id-1 div.sk-parallel-item:only-child::after {width: 0;}#sk-container-id-1 div.sk-dashed-wrapped {border: 1px dashed gray;margin: 0 0.4em 0.5em 0.4em;box-sizing: border-box;padding-bottom: 0.4em;background-color: white;}#sk-container-id-1 div.sk-label label {font-family: monospace;font-weight: bold;display: inline-block;line-height: 1.2em;}#sk-container-id-1 div.sk-label-container {text-align: center;}#sk-container-id-1 div.sk-container {/* jupyter's `normalize.less` sets `[hidden] { display: none; }` but bootstrap.min.css set `[hidden] { display: none !important; }` so we also need the `!important` here to be able to override the default hidden behavior on the sphinx rendered scikit-learn.org. See: https://github.com/scikit-learn/scikit-learn/issues/21755 */display: inline-block !important;position: relative;}#sk-container-id-1 div.sk-text-repr-fallback {display: none;}</style><div id=\"sk-container-id-1\" class=\"sk-top-container\"><div class=\"sk-text-repr-fallback\"><pre>ColumnTransformer(transformers=[(&#x27;num&#x27;,\n",
              "                                 Pipeline(steps=[(&#x27;imputation&#x27;,\n",
              "                                                  SimpleImputer(strategy=&#x27;median&#x27;)),\n",
              "                                                 (&#x27;scaler&#x27;, StandardScaler())]),\n",
              "                                 [&#x27;year&#x27;, &#x27;odometer&#x27;]),\n",
              "                                (&#x27;cat&#x27;,\n",
              "                                 Pipeline(steps=[(&#x27;imputation&#x27;,\n",
              "                                                  SimpleImputer(strategy=&#x27;most_frequent&#x27;)),\n",
              "                                                 (&#x27;onehotencoder&#x27;,\n",
              "                                                  OneHotEncoder(drop=&#x27;first&#x27;,\n",
              "                                                                handle_unknown=&#x27;ignore&#x27;))]),\n",
              "                                 [&#x27;make&#x27;, &#x27;model&#x27;, &#x27;trim&#x27;, &#x27;body&#x27;,\n",
              "                                  &#x27;transmission&#x27;, &#x27;vin&#x27;, &#x27;state&#x27;, &#x27;condition&#x27;,\n",
              "                                  &#x27;color&#x27;, &#x27;interior&#x27;, &#x27;seller&#x27;, &#x27;mmr&#x27;,\n",
              "                                  &#x27;saledate&#x27;])])</pre><b>In a Jupyter environment, please rerun this cell to show the HTML representation or trust the notebook. <br />On GitHub, the HTML representation is unable to render, please try loading this page with nbviewer.org.</b></div><div class=\"sk-container\" hidden><div class=\"sk-item sk-dashed-wrapped\"><div class=\"sk-label-container\"><div class=\"sk-label sk-toggleable\"><input class=\"sk-toggleable__control sk-hidden--visually\" id=\"sk-estimator-id-1\" type=\"checkbox\" ><label for=\"sk-estimator-id-1\" class=\"sk-toggleable__label sk-toggleable__label-arrow\">ColumnTransformer</label><div class=\"sk-toggleable__content\"><pre>ColumnTransformer(transformers=[(&#x27;num&#x27;,\n",
              "                                 Pipeline(steps=[(&#x27;imputation&#x27;,\n",
              "                                                  SimpleImputer(strategy=&#x27;median&#x27;)),\n",
              "                                                 (&#x27;scaler&#x27;, StandardScaler())]),\n",
              "                                 [&#x27;year&#x27;, &#x27;odometer&#x27;]),\n",
              "                                (&#x27;cat&#x27;,\n",
              "                                 Pipeline(steps=[(&#x27;imputation&#x27;,\n",
              "                                                  SimpleImputer(strategy=&#x27;most_frequent&#x27;)),\n",
              "                                                 (&#x27;onehotencoder&#x27;,\n",
              "                                                  OneHotEncoder(drop=&#x27;first&#x27;,\n",
              "                                                                handle_unknown=&#x27;ignore&#x27;))]),\n",
              "                                 [&#x27;make&#x27;, &#x27;model&#x27;, &#x27;trim&#x27;, &#x27;body&#x27;,\n",
              "                                  &#x27;transmission&#x27;, &#x27;vin&#x27;, &#x27;state&#x27;, &#x27;condition&#x27;,\n",
              "                                  &#x27;color&#x27;, &#x27;interior&#x27;, &#x27;seller&#x27;, &#x27;mmr&#x27;,\n",
              "                                  &#x27;saledate&#x27;])])</pre></div></div></div><div class=\"sk-parallel\"><div class=\"sk-parallel-item\"><div class=\"sk-item\"><div class=\"sk-label-container\"><div class=\"sk-label sk-toggleable\"><input class=\"sk-toggleable__control sk-hidden--visually\" id=\"sk-estimator-id-2\" type=\"checkbox\" ><label for=\"sk-estimator-id-2\" class=\"sk-toggleable__label sk-toggleable__label-arrow\">num</label><div class=\"sk-toggleable__content\"><pre>[&#x27;year&#x27;, &#x27;odometer&#x27;]</pre></div></div></div><div class=\"sk-serial\"><div class=\"sk-item\"><div class=\"sk-serial\"><div class=\"sk-item\"><div class=\"sk-estimator sk-toggleable\"><input class=\"sk-toggleable__control sk-hidden--visually\" id=\"sk-estimator-id-3\" type=\"checkbox\" ><label for=\"sk-estimator-id-3\" class=\"sk-toggleable__label sk-toggleable__label-arrow\">SimpleImputer</label><div class=\"sk-toggleable__content\"><pre>SimpleImputer(strategy=&#x27;median&#x27;)</pre></div></div></div><div class=\"sk-item\"><div class=\"sk-estimator sk-toggleable\"><input class=\"sk-toggleable__control sk-hidden--visually\" id=\"sk-estimator-id-4\" type=\"checkbox\" ><label for=\"sk-estimator-id-4\" class=\"sk-toggleable__label sk-toggleable__label-arrow\">StandardScaler</label><div class=\"sk-toggleable__content\"><pre>StandardScaler()</pre></div></div></div></div></div></div></div></div><div class=\"sk-parallel-item\"><div class=\"sk-item\"><div class=\"sk-label-container\"><div class=\"sk-label sk-toggleable\"><input class=\"sk-toggleable__control sk-hidden--visually\" id=\"sk-estimator-id-5\" type=\"checkbox\" ><label for=\"sk-estimator-id-5\" class=\"sk-toggleable__label sk-toggleable__label-arrow\">cat</label><div class=\"sk-toggleable__content\"><pre>[&#x27;make&#x27;, &#x27;model&#x27;, &#x27;trim&#x27;, &#x27;body&#x27;, &#x27;transmission&#x27;, &#x27;vin&#x27;, &#x27;state&#x27;, &#x27;condition&#x27;, &#x27;color&#x27;, &#x27;interior&#x27;, &#x27;seller&#x27;, &#x27;mmr&#x27;, &#x27;saledate&#x27;]</pre></div></div></div><div class=\"sk-serial\"><div class=\"sk-item\"><div class=\"sk-serial\"><div class=\"sk-item\"><div class=\"sk-estimator sk-toggleable\"><input class=\"sk-toggleable__control sk-hidden--visually\" id=\"sk-estimator-id-6\" type=\"checkbox\" ><label for=\"sk-estimator-id-6\" class=\"sk-toggleable__label sk-toggleable__label-arrow\">SimpleImputer</label><div class=\"sk-toggleable__content\"><pre>SimpleImputer(strategy=&#x27;most_frequent&#x27;)</pre></div></div></div><div class=\"sk-item\"><div class=\"sk-estimator sk-toggleable\"><input class=\"sk-toggleable__control sk-hidden--visually\" id=\"sk-estimator-id-7\" type=\"checkbox\" ><label for=\"sk-estimator-id-7\" class=\"sk-toggleable__label sk-toggleable__label-arrow\">OneHotEncoder</label><div class=\"sk-toggleable__content\"><pre>OneHotEncoder(drop=&#x27;first&#x27;, handle_unknown=&#x27;ignore&#x27;)</pre></div></div></div></div></div></div></div></div></div></div></div></div>"
            ]
          },
          "metadata": {},
          "execution_count": 10
        }
      ],
      "source": [
        "numeric_pipeline = Pipeline(steps = [('imputation', SimpleImputer(missing_values = np.nan, strategy = 'median')),('scaler', StandardScaler())])\n",
        "categoric_pipeline = Pipeline(steps = [('imputation', SimpleImputer(missing_values = np.nan, strategy = 'most_frequent')),('onehotencoder', OneHotEncoder(handle_unknown = 'ignore', drop = 'first'))])\n",
        "preprocessor = ColumnTransformer(transformers = [('num', numeric_pipeline,numeric_columns),('cat',categoric_pipeline, cat_columns)])\n",
        "preprocessor.fit(X_test)"
      ]
    },
    {
      "cell_type": "code",
      "execution_count": 11,
      "id": "82179614-8c26-4441-9461-52eaa5352276",
      "metadata": {
        "colab": {
          "base_uri": "https://localhost:8080/"
        },
        "id": "82179614-8c26-4441-9461-52eaa5352276",
        "outputId": "d2393dbc-3757-464f-9ca2-cf1953556cd5"
      },
      "outputs": [
        {
          "output_type": "execute_result",
          "data": {
            "text/plain": [
              "558837"
            ]
          },
          "metadata": {},
          "execution_count": 11
        }
      ],
      "source": [
        "df = pd.read_csv('https://raw.githubusercontent.com/msaricaumbc/DS_data/master/ds602/car_prices/car_prices.csv', low_memory=False)\n",
        "len(df)"
      ]
    },
    {
      "cell_type": "markdown",
      "source": [
        "## Model Building "
      ],
      "metadata": {
        "id": "D01rwdrfre4k"
      },
      "id": "D01rwdrfre4k"
    },
    {
      "cell_type": "code",
      "execution_count": 12,
      "id": "15768516-b759-4cb9-a745-2f482f0f4995",
      "metadata": {
        "id": "15768516-b759-4cb9-a745-2f482f0f4995"
      },
      "outputs": [],
      "source": [
        "from sklearn.linear_model import SGDRegressor\n",
        "sgd = SGDRegressor(loss='squared_error', random_state=40)"
      ]
    },
    {
      "cell_type": "code",
      "execution_count": 13,
      "id": "56632ef2-a9ca-4320-9d1d-00471b5811b2",
      "metadata": {
        "colab": {
          "base_uri": "https://localhost:8080/"
        },
        "id": "56632ef2-a9ca-4320-9d1d-00471b5811b2",
        "outputId": "4f8af399-fe14-4cad-eb04-6d78207354d8"
      },
      "outputs": [
        {
          "output_type": "stream",
          "name": "stdout",
          "text": [
            "Looking in indexes: https://pypi.org/simple, https://us-python.pkg.dev/colab-wheels/public/simple/\n",
            "Collecting pyprind\n",
            "  Downloading PyPrind-2.11.3-py2.py3-none-any.whl (8.4 kB)\n",
            "Installing collected packages: pyprind\n",
            "Successfully installed pyprind-2.11.3\n"
          ]
        }
      ],
      "source": [
        "!pip install pyprind"
      ]
    },
    {
      "cell_type": "markdown",
      "source": [
        "- Each time we Run next(gen) ,it gives 100 records. Now since data size is 558837. so I should run next(gen) for 5588 times. Thats why I chose total_batches as 100 and ran it for 56 epochs."
      ],
      "metadata": {
        "id": "silrAfW2r6On"
      },
      "id": "silrAfW2r6On"
    },
    {
      "cell_type": "code",
      "execution_count": 24,
      "id": "254b8872-b762-484c-ae1c-2312e9871651",
      "metadata": {
        "colab": {
          "base_uri": "https://localhost:8080/"
        },
        "id": "254b8872-b762-484c-ae1c-2312e9871651",
        "outputId": "e8297c1e-2965-4e87-fe3b-4a395bf1240d"
      },
      "outputs": [
        {
          "output_type": "stream",
          "name": "stderr",
          "text": [
            "0% [##############################] 100% | ETA: 00:00:00\n",
            "Total time elapsed: 00:03:49\n"
          ]
        }
      ],
      "source": [
        "import pyprind\n",
        "pbar = pyprind.ProgBar(56)\n",
        "batches = 100\n",
        "classes = np.array([0, 1])\n",
        "datasize = 0\n",
        "for _ in range(56):\n",
        "    for batch in range(batches):\n",
        "        batch_df = next(gen)\n",
        "        X_train = batch_df.drop('sellingprice', axis=1)\n",
        "        Y_train = batch_df['sellingprice']\n",
        "        X_train = preprocessor.transform(X_train)\n",
        "        sgd.partial_fit(X_train, Y_train)\n",
        "        datasize += 100\n",
        "    pbar.update()\n"
      ]
    },
    {
      "cell_type": "markdown",
      "source": [
        "### Model Saving and Loading"
      ],
      "metadata": {
        "id": "WerxmNjHt4zV"
      },
      "id": "WerxmNjHt4zV"
    },
    {
      "cell_type": "code",
      "source": [
        "import joblib\n",
        "joblib.dump(sgd, 'sgd_model.joblib') # Dump the model\n",
        "\n",
        "sgd1 = joblib.load('sgd_model.joblib')  #Load the model"
      ],
      "metadata": {
        "id": "rOxcxlVgt3sD"
      },
      "id": "rOxcxlVgt3sD",
      "execution_count": null,
      "outputs": []
    },
    {
      "cell_type": "markdown",
      "source": [
        "### Prediction"
      ],
      "metadata": {
        "id": "gxmm-le6t9ZM"
      },
      "id": "gxmm-le6t9ZM"
    },
    {
      "cell_type": "code",
      "execution_count": 23,
      "id": "5d71d368-d0a9-40ea-b355-1453d738d40e",
      "metadata": {
        "colab": {
          "base_uri": "https://localhost:8080/"
        },
        "id": "5d71d368-d0a9-40ea-b355-1453d738d40e",
        "outputId": "f580d8ca-755b-4bf6-8d88-256663d8faa8"
      },
      "outputs": [
        {
          "output_type": "execute_result",
          "data": {
            "text/plain": [
              "0.8111888663116442"
            ]
          },
          "metadata": {},
          "execution_count": 23
        }
      ],
      "source": [
        "X_test_preprocessed = preprocessor.transform(X_test) # Preprocess the test data\n",
        "y_pred = sgd.predict(X_test_preprocessed) # Test the model on X_test\n",
        "sgd1.score(X_test_preprocessed,y_test)"
      ]
    },
    {
      "cell_type": "code",
      "source": [
        "y_pred"
      ],
      "metadata": {
        "colab": {
          "base_uri": "https://localhost:8080/"
        },
        "id": "JuuYoob8zQxA",
        "outputId": "41c3c80e-1f14-4c04-cbc4-48905def7c39"
      },
      "id": "JuuYoob8zQxA",
      "execution_count": 26,
      "outputs": [
        {
          "output_type": "execute_result",
          "data": {
            "text/plain": [
              "array([13380.42847704, 19560.33399956, 14942.72754148, ...,\n",
              "       21362.89280219, 19617.52173104, 16510.06669375])"
            ]
          },
          "metadata": {},
          "execution_count": 26
        }
      ]
    },
    {
      "cell_type": "code",
      "source": [],
      "metadata": {
        "id": "oCRNvXXUzTI1"
      },
      "id": "oCRNvXXUzTI1",
      "execution_count": null,
      "outputs": []
    },
    {
      "cell_type": "markdown",
      "source": [
        "- The SGD regressor model achieved decent accuracy of 81% . It took about 3 minutes to run using Partial_fit() feature which reduces memory usage compared to retraining the model on the entire dataset.It only needs to process new data points or small batches, resulting in faster training times."
      ],
      "metadata": {
        "id": "Dlkkpz99zX4f"
      },
      "id": "Dlkkpz99zX4f"
    }
  ],
  "metadata": {
    "kernelspec": {
      "display_name": "Python 3 (ipykernel)",
      "language": "python",
      "name": "python3"
    },
    "language_info": {
      "codemirror_mode": {
        "name": "ipython",
        "version": 3
      },
      "file_extension": ".py",
      "mimetype": "text/x-python",
      "name": "python",
      "nbconvert_exporter": "python",
      "pygments_lexer": "ipython3",
      "version": "3.10.7"
    },
    "colab": {
      "provenance": []
    }
  },
  "nbformat": 4,
  "nbformat_minor": 5
}