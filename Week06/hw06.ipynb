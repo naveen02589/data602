{
 "cells": [
  {
   "cell_type": "code",
   "execution_count": 189,
   "id": "8e7212d9-0ce1-4d10-9f01-8df70293de12",
   "metadata": {},
   "outputs": [
    {
     "data": {
      "text/html": [
       "<div>\n",
       "<style scoped>\n",
       "    .dataframe tbody tr th:only-of-type {\n",
       "        vertical-align: middle;\n",
       "    }\n",
       "\n",
       "    .dataframe tbody tr th {\n",
       "        vertical-align: top;\n",
       "    }\n",
       "\n",
       "    .dataframe thead th {\n",
       "        text-align: right;\n",
       "    }\n",
       "</style>\n",
       "<table border=\"1\" class=\"dataframe\">\n",
       "  <thead>\n",
       "    <tr style=\"text-align: right;\">\n",
       "      <th></th>\n",
       "      <th>actual</th>\n",
       "      <th>prob</th>\n",
       "    </tr>\n",
       "  </thead>\n",
       "  <tbody>\n",
       "    <tr>\n",
       "      <th>0</th>\n",
       "      <td>0.0</td>\n",
       "      <td>0.380052</td>\n",
       "    </tr>\n",
       "    <tr>\n",
       "      <th>1</th>\n",
       "      <td>1.0</td>\n",
       "      <td>0.827923</td>\n",
       "    </tr>\n",
       "    <tr>\n",
       "      <th>2</th>\n",
       "      <td>1.0</td>\n",
       "      <td>0.929093</td>\n",
       "    </tr>\n",
       "    <tr>\n",
       "      <th>3</th>\n",
       "      <td>1.0</td>\n",
       "      <td>0.472508</td>\n",
       "    </tr>\n",
       "    <tr>\n",
       "      <th>4</th>\n",
       "      <td>1.0</td>\n",
       "      <td>0.906988</td>\n",
       "    </tr>\n",
       "  </tbody>\n",
       "</table>\n",
       "</div>"
      ],
      "text/plain": [
       "   actual      prob\n",
       "0     0.0  0.380052\n",
       "1     1.0  0.827923\n",
       "2     1.0  0.929093\n",
       "3     1.0  0.472508\n",
       "4     1.0  0.906988"
      ]
     },
     "execution_count": 189,
     "metadata": {},
     "output_type": "execute_result"
    }
   ],
   "source": [
    "import pandas as pd\n",
    "import numpy as np\n",
    "import matplotlib.pyplot as plt\n",
    "%matplotlib inline\n",
    "\n",
    "results = pd.read_csv('https://raw.githubusercontent.com/msaricaumbc/DS_data/master/ds602/lab-evaluation-data.csv')\n",
    "results.head()"
   ]
  },
  {
   "cell_type": "markdown",
   "id": "fc45608f-5476-4f88-8830-28360404c9a3",
   "metadata": {},
   "source": [
    "## Q1\n",
    "### Determine the distribution of the actual event.\n",
    "### Would you be concerned about bias due to imbalance?"
   ]
  },
  {
   "cell_type": "code",
   "execution_count": 190,
   "id": "775d282b-c369-4deb-9a74-644f9e0b698e",
   "metadata": {},
   "outputs": [
    {
     "data": {
      "text/plain": [
       "1.0    3000\n",
       "0.0    2000\n",
       "Name: actual, dtype: int64"
      ]
     },
     "execution_count": 190,
     "metadata": {},
     "output_type": "execute_result"
    }
   ],
   "source": [
    "\n",
    "results['actual'].value_counts()"
   ]
  },
  {
   "cell_type": "markdown",
   "id": "86af398f-b8ad-4f39-9175-1d150b94a525",
   "metadata": {},
   "source": [
    "### Here the number of examples in the training dataset for each class label is not balanced, there is slight imbalance as the data  in the ratio 3:2. It is not a severe imbalance. model may be biased towards majority class which is true class in this dataset but chance of bias are vey less as it is not severe imbalance "
   ]
  },
  {
   "cell_type": "markdown",
   "id": "ac77f8d7-25f0-423f-ab58-bd416d87524c",
   "metadata": {},
   "source": [
    "### Q2 Create a histogram that shows the distribution of the probabilities for the True and False classes.\n",
    "### Describe what you observe."
   ]
  },
  {
   "cell_type": "code",
   "execution_count": 191,
   "id": "b42821ed-c0ed-442f-855d-26c96eba4e2c",
   "metadata": {},
   "outputs": [],
   "source": [
    "true_cls = results[results['actual'] == 1.0]\n",
    "false_cls = results[results['actual'] == 0.0]"
   ]
  },
  {
   "cell_type": "code",
   "execution_count": 192,
   "id": "c6fafd40-2422-45fe-bbff-f2b2dbe4aea7",
   "metadata": {},
   "outputs": [
    {
     "data": {
      "text/plain": [
       "(array([ 89., 194., 346., 352., 324., 242., 208., 134.,  77.,  34.]),\n",
       " array([0.00482399, 0.07348497, 0.14214595, 0.21080693, 0.27946791,\n",
       "        0.34812889, 0.41678987, 0.48545084, 0.55411182, 0.6227728 ,\n",
       "        0.69143378]),\n",
       " <BarContainer object of 10 artists>)"
      ]
     },
     "execution_count": 192,
     "metadata": {},
     "output_type": "execute_result"
    },
    {
     "data": {
      "image/png": "[encoded data removed]",
      "text/plain": [
       "<Figure size 640x480 with 1 Axes>"
      ]
     },
     "metadata": {},
     "output_type": "display_data"
    }
   ],
   "source": [
    "\n",
    "import matplotlib.pyplot as plt\n",
    "plt.hist(true_cls['prob'], alpha = 0.5)\n",
    "plt.hist(false_cls['prob'],alpha = 0.5)"
   ]
  },
  {
   "cell_type": "code",
   "execution_count": 193,
   "id": "74434257-7afb-4bc2-affc-c9b6fd57c492",
   "metadata": {},
   "outputs": [
    {
     "data": {
      "image/png": "[encoded data removed]",
      "text/plain": [
       "<Figure size 1000x600 with 1 Axes>"
      ]
     },
     "metadata": {},
     "output_type": "display_data"
    }
   ],
   "source": [
    "results[results['actual'] == 1.0]['prob'].plot.hist(bins = 15, figsize=(10,6), alpha = 0.6)\n",
    "results[results['actual'] == 0.0]['prob'].plot.hist(bins = 15, figsize=(10,6), alpha = 0.6)\n",
    "plt.show()"
   ]
  },
  {
   "cell_type": "markdown",
   "id": "067d9a45-42cc-4f66-bc58-d03207735d72",
   "metadata": {},
   "source": [
    "### Q3\n",
    "### Create a simple confusion matrix. Use 0.5 as the threshold for whether an observation should be considered True or False.\n",
    "### Comment on what you observe."
   ]
  },
  {
   "cell_type": "code",
   "execution_count": 195,
   "id": "cba9809c-c7f6-43f0-aa12-da0718a8e27b",
   "metadata": {},
   "outputs": [],
   "source": [
    "results['y_pred'] = np.where(results['prob'] >= 0.5, float(1), float(0))\n",
    "y_pred1 =  results['y_pred']"
   ]
  },
  {
   "cell_type": "code",
   "execution_count": 196,
   "id": "bd202bc7-5ce9-40b6-84c2-f80be3014f48",
   "metadata": {},
   "outputs": [
    {
     "name": "stdout",
     "output_type": "stream",
     "text": [
      "0       0.0\n",
      "1       1.0\n",
      "2       1.0\n",
      "3       0.0\n",
      "4       1.0\n",
      "       ... \n",
      "4995    0.0\n",
      "4996    1.0\n",
      "4997    1.0\n",
      "4998    0.0\n",
      "4999    1.0\n",
      "Name: y_pred, Length: 5000, dtype: float64\n"
     ]
    }
   ],
   "source": [
    "print(results['y_pred'])"
   ]
  },
  {
   "cell_type": "code",
   "execution_count": 197,
   "id": "e0f0c723-a129-40e4-8c86-03bbfa574f5f",
   "metadata": {},
   "outputs": [
    {
     "name": "stdout",
     "output_type": "stream",
     "text": [
      "[[1790.  210.]\n",
      " [ 377. 2623.]]\n"
     ]
    }
   ],
   "source": [
    "def comp_confmatrix(actual, predicted):\n",
    "\n",
    "    # extract the different classes\n",
    "    classes = np.unique(actual)\n",
    "    # classes = classes[::-1] ### this is to get true positives at the top left column\n",
    "\n",
    "    conf_mat = np.zeros((len(classes), len(classes)))\n",
    "\n",
    "    # loop across the different combinations of actual / predicted classes\n",
    "    for i in range(len(classes)):\n",
    "        for j in range(len(classes)):\n",
    "\n",
    "           # count the number of instances in each combination of actual / predicted classes\n",
    "           conf_mat[i, j] = np.sum((actual == classes[i]) & (predicted == classes[j]))\n",
    "\n",
    "    return conf_mat\n",
    "\n",
    "cmat = comp_confmatrix(results['actual'], results['y_pred'])\n",
    "print(cmat)\n",
    "\n",
    "### confusion matrix for actual on left side (y-axis) and prediction on top side(x-axis) since we have binary values(0,1) . 0 comes first and 1 comes next\n",
    "###[[TN, FP]\n",
    "### [FN, TP]]"
   ]
  },
  {
   "cell_type": "markdown",
   "id": "93547763-9a11-4391-a387-db0b065023fa",
   "metadata": {},
   "source": [
    "#### True positives and true negatives are more compared to false positives(210) and false negatives(377). Hence this model is performing significantly better"
   ]
  },
  {
   "cell_type": "markdown",
   "id": "6f93cd17-989b-468d-9a5a-e56cd1104cbb",
   "metadata": {},
   "source": [
    "### Q4\n",
    "### Calculate the accuracy, precision, and recall without using any pre-built functions.\n",
    "### Which measure would you use if this was your model and why?"
   ]
  },
  {
   "cell_type": "markdown",
   "id": "8d537e66-7e31-4ad7-ae4f-17d197e63ab6",
   "metadata": {},
   "source": [
    "##### showing precision, accuaracy, recall for positive class(1)"
   ]
  },
  {
   "cell_type": "code",
   "execution_count": 198,
   "id": "40903a79-b5c9-4551-be9f-34bd7d87fdd1",
   "metadata": {},
   "outputs": [],
   "source": [
    "\n",
    "def mymetrics(cmat): \n",
    "    tp = cmat[1][1] \n",
    "    fp = cmat[0][1] \n",
    "    fn = cmat[1][0] \n",
    "    tn = cmat[1][1] \n",
    "    return (tp+tn)/(fp+fn+tp+tn), tp/(tp+fp), tp/(tp+fn)\n",
    "acc, precision, recall = mymetrics(cmat)\n"
   ]
  },
  {
   "cell_type": "code",
   "execution_count": 199,
   "id": "7218a5d8-7e2f-4391-aea1-82e5e1968f72",
   "metadata": {},
   "outputs": [
    {
     "data": {
      "text/plain": [
       "0.9258736321920226"
      ]
     },
     "execution_count": 199,
     "metadata": {},
     "output_type": "execute_result"
    }
   ],
   "source": [
    "precision"
   ]
  },
  {
   "cell_type": "code",
   "execution_count": 200,
   "id": "d44512a8-2482-4d07-909e-1613e1ba2b1f",
   "metadata": {},
   "outputs": [
    {
     "data": {
      "text/plain": [
       "0.8993656780387451"
      ]
     },
     "execution_count": 200,
     "metadata": {},
     "output_type": "execute_result"
    }
   ],
   "source": [
    "acc"
   ]
  },
  {
   "cell_type": "code",
   "execution_count": 201,
   "id": "cc426df7-c5be-41dd-b0b3-8519c665aaa4",
   "metadata": {},
   "outputs": [
    {
     "data": {
      "text/plain": [
       "0.8743333333333333"
      ]
     },
     "execution_count": 201,
     "metadata": {},
     "output_type": "execute_result"
    }
   ],
   "source": [
    "recall"
   ]
  },
  {
   "cell_type": "code",
   "execution_count": 202,
   "id": "974c6e42-2bd1-46d2-bace-81aa1ddc11ce",
   "metadata": {},
   "outputs": [
    {
     "name": "stdout",
     "output_type": "stream",
     "text": [
      "0.8826 0.9258736321920226 0.8743333333333333\n"
     ]
    }
   ],
   "source": [
    "def get_metrics(df):\n",
    "\n",
    "    tp = ((df['actual'] == 1.0 ) & (df['y_pred'] == 1)).sum()\n",
    "    fp = ((df['actual'] == 0.0 ) & (df['y_pred'] == 1)).sum()\n",
    "    tn = ((df['actual'] == 0.0 ) & (df['y_pred'] == 0)).sum()\n",
    "    fn = ((df['actual'] == 1.0 ) & (df['y_pred'] == 0)).sum()\n",
    "    precision = tp/(tp+fp)\n",
    "    acc = (tp+tn)/(tp+fp+tn+fn)\n",
    "    recall = tp/(tp+fn)\n",
    "\n",
    "    return acc,precision, recall\n",
    "\n",
    "acc, precision, recall  = get_metrics(results)\n",
    "print(acc, precision, recall)"
   ]
  },
  {
   "cell_type": "markdown",
   "id": "263f3b13-ae1e-4aff-8492-34c40797437d",
   "metadata": {},
   "source": [
    "#### I would use accuracy as the best measure . Since we dont know which one out of FP or FN have significant bad consequences, so cannot decide between precision and recall.so we dont know which one to reduce (FP or FN). Hence accuracy is the perfect measure to consider."
   ]
  },
  {
   "cell_type": "markdown",
   "id": "98b020e6-df25-48b7-919d-603434c6aec6",
   "metadata": {},
   "source": [
    "### Q5\n",
    "### Construct a ROC curve plot.\n",
    "### Comment on the fit of the model based on this chart."
   ]
  },
  {
   "cell_type": "code",
   "execution_count": 203,
   "id": "27b246ae-f96f-4d31-926e-d79ae4776b94",
   "metadata": {},
   "outputs": [
    {
     "name": "stdout",
     "output_type": "stream",
     "text": [
      "0.8743333333333333 0.105\n"
     ]
    }
   ],
   "source": [
    "def get_tpr_fpr(df):\n",
    "\n",
    "    tp = ((df['actual'] == 1.0 ) & (df['y_pred'] == 1)).sum()\n",
    "    fp = ((df['actual'] == 0.0 ) & (df['y_pred'] == 1)).sum()\n",
    "    tn = ((df['actual'] == 0.0 ) & (df['y_pred'] == 0)).sum()\n",
    "    fn = ((df['actual'] == 1.0 ) & (df['y_pred'] == 0)).sum()\n",
    "    tpr = tp / (tp + fn )\n",
    "    fpr = fp / (fp + tn)\n",
    "\n",
    "    return [tpr, fpr]\n",
    "\n",
    "tpr, fpr  = get_tpr_fpr(results)\n",
    "print(tpr,fpr)"
   ]
  },
  {
   "cell_type": "code",
   "execution_count": 204,
   "id": "b29ade11-ee8e-424d-805e-c22db4b1d55c",
   "metadata": {},
   "outputs": [],
   "source": [
    "def calculate_thresholds_tpr_fpr_arr(df_original):\n",
    "    tpr_arr_for_all_thresholds = []\n",
    "    fpr_arr_for_all_thresholds = []\n",
    "\n",
    "    sorted_df = df_original.sort_values(by=['prob'], ascending=False)\n",
    "    unique_thresholds = sorted_df['prob'].unique()\n",
    "\n",
    "    for threshold in unique_thresholds:\n",
    "        sorted_df['y_pred'] = np.where(sorted_df['prob'] >= threshold, 1, 0)\n",
    "        tpr_fpr_arr = get_tpr_fpr(sorted_df)\n",
    "        tpr_arr_for_all_thresholds.append(tpr_fpr_arr[0])\n",
    "        fpr_arr_for_all_thresholds.append(tpr_fpr_arr[1])\n",
    "\n",
    "    return tpr_arr_for_all_thresholds, fpr_arr_for_all_thresholds\n",
    "\n",
    "tpr_arr_for_all_thresholds, fpr_arr_for_all_thresholds = calculate_thresholds_tpr_fpr_arr(results)"
   ]
  },
  {
   "cell_type": "code",
   "execution_count": 205,
   "id": "dd744579-3bb5-4cc0-a52d-94b539495d7e",
   "metadata": {},
   "outputs": [
    {
     "data": {
      "text/plain": [
       "Text(0, 0.5, 'TPR')"
      ]
     },
     "execution_count": 205,
     "metadata": {},
     "output_type": "execute_result"
    },
    {
     "data": {
      "image/png": "[encoded data removed]",
      "text/plain": [
       "<Figure size 640x480 with 1 Axes>"
      ]
     },
     "metadata": {},
     "output_type": "display_data"
    }
   ],
   "source": [
    "plt.plot(fpr_arr_for_all_thresholds,tpr_arr_for_all_thresholds, 'r', lw=2)\n",
    "plt.plot([0, 1], [0, 1], 'k-', lw=2)\n",
    "plt.xlabel('FPR')\n",
    "plt.ylabel('TPR')"
   ]
  },
  {
   "cell_type": "markdown",
   "id": "a8d7b9c5-6ea4-45a8-9aac-bce11ca39006",
   "metadata": {},
   "source": [
    "####  It clearly indicate that this fit of the model has got the best performance as we know that Classifiers that give curves closer to the top-left corner indicate a better performance.  The closer the  curve to the top left, more acccurate the model is. we can chose the optimal threshold from this plot based on whether we want to increase tpr and decrease fpr or increase both. tradeoff between tpr and fpr is very important to choose the optimal threshold."
   ]
  },
  {
   "cell_type": "code",
   "execution_count": null,
   "id": "d7968eb9-fd99-4676-8beb-72047a6de0ad",
   "metadata": {},
   "outputs": [],
   "source": []
  }
 ],
 "metadata": {
  "kernelspec": {
   "display_name": "Python 3 (ipykernel)",
   "language": "python",
   "name": "python3"
  },
  "language_info": {
   "codemirror_mode": {
    "name": "ipython",
    "version": 3
   },
   "file_extension": ".py",
   "mimetype": "text/x-python",
   "name": "python",
   "nbconvert_exporter": "python",
   "pygments_lexer": "ipython3",
   "version": "3.10.7"
  }
 },
 "nbformat": 4,
 "nbformat_minor": 5
}
