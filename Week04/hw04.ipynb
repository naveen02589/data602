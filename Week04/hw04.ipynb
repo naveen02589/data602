{
 "cells": [
  {
   "cell_type": "code",
   "execution_count": 29,
   "id": "58f638ff-74f2-4a53-b5a7-53dfe1cf1a3f",
   "metadata": {},
   "outputs": [
    {
     "name": "stdout",
     "output_type": "stream",
     "text": [
      "<class 'pandas.core.frame.DataFrame'>\n",
      "RangeIndex: 9055 entries, 0 to 9054\n",
      "Data columns (total 7 columns):\n",
      " #   Column         Non-Null Count  Dtype  \n",
      "---  ------         --------------  -----  \n",
      " 0   make           8164 non-null   object \n",
      " 1   transmission   8106 non-null   object \n",
      " 2   state          8152 non-null   object \n",
      " 3   condition      8173 non-null   float64\n",
      " 4   odometer       8178 non-null   float64\n",
      " 5   auction_value  8107 non-null   float64\n",
      " 6   selling_price  9055 non-null   float64\n",
      "dtypes: float64(4), object(3)\n",
      "memory usage: 495.3+ KB\n"
     ]
    }
   ],
   "source": [
    "import pandas as pd\n",
    "\n",
    "df = pd.read_csv('https://raw.githubusercontent.com/msaricaumbc/DS_data/master/ds602/regression/car-reg-data.csv')\n",
    "df.info()"
   ]
  },
  {
   "cell_type": "code",
   "execution_count": 30,
   "id": "7ac0d94c-b045-41fe-85fa-97cd0ac45056",
   "metadata": {},
   "outputs": [
    {
     "name": "stdout",
     "output_type": "stream",
     "text": [
      "Records in training data: 7,244\n",
      "Records in test data: 1,811\n",
      "\n",
      "Features:\n",
      "make\n",
      "transmission\n",
      "state\n",
      "condition\n",
      "odometer\n",
      "auction_value\n"
     ]
    }
   ],
   "source": [
    "from sklearn.model_selection import train_test_split\n",
    "features = [x for x in df.columns if x != 'selling_price']\n",
    "\n",
    "X = df[features]\n",
    "y = df['selling_price']\n",
    "\n",
    "X_train, X_test, y_train, y_test = train_test_split(X, y, test_size=0.2, random_state=100)\n",
    "\n",
    "print(f'Records in training data: {X_train.shape[0]:,}')\n",
    "print(f'Records in test data: {X_test.shape[0]:,}')\n",
    "print('\\nFeatures:')\n",
    "print(*X_train.columns, sep='\\n')"
   ]
  },
  {
   "cell_type": "markdown",
   "id": "f0170062-c902-49e8-baf0-3c643f807b12",
   "metadata": {},
   "source": [
    "## Question 1: Split the features into two lists, one for the numerical features and another for the categorical features."
   ]
  },
  {
   "cell_type": "code",
   "execution_count": 31,
   "id": "85a76b02-1fb5-4166-bb96-dc8094c6722b",
   "metadata": {},
   "outputs": [],
   "source": [
    "df_numerical_features = X_train.select_dtypes(exclude='object')\n",
    "df_categorical_features = X_train.select_dtypes(include='object')"
   ]
  },
  {
   "cell_type": "code",
   "execution_count": 32,
   "id": "1cd0ed76-1419-402d-b125-a39e6f58b0f6",
   "metadata": {},
   "outputs": [
    {
     "data": {
      "text/html": [
       "<div>\n",
       "<style scoped>\n",
       "    .dataframe tbody tr th:only-of-type {\n",
       "        vertical-align: middle;\n",
       "    }\n",
       "\n",
       "    .dataframe tbody tr th {\n",
       "        vertical-align: top;\n",
       "    }\n",
       "\n",
       "    .dataframe thead th {\n",
       "        text-align: right;\n",
       "    }\n",
       "</style>\n",
       "<table border=\"1\" class=\"dataframe\">\n",
       "  <thead>\n",
       "    <tr style=\"text-align: right;\">\n",
       "      <th></th>\n",
       "      <th>condition</th>\n",
       "      <th>odometer</th>\n",
       "      <th>auction_value</th>\n",
       "    </tr>\n",
       "  </thead>\n",
       "  <tbody>\n",
       "    <tr>\n",
       "      <th>7821</th>\n",
       "      <td>4.4</td>\n",
       "      <td>NaN</td>\n",
       "      <td>13800.0</td>\n",
       "    </tr>\n",
       "    <tr>\n",
       "      <th>4127</th>\n",
       "      <td>4.3</td>\n",
       "      <td>27368.0</td>\n",
       "      <td>21300.0</td>\n",
       "    </tr>\n",
       "    <tr>\n",
       "      <th>12</th>\n",
       "      <td>2.8</td>\n",
       "      <td>66470.0</td>\n",
       "      <td>10300.0</td>\n",
       "    </tr>\n",
       "    <tr>\n",
       "      <th>1689</th>\n",
       "      <td>3.6</td>\n",
       "      <td>25208.0</td>\n",
       "      <td>12900.0</td>\n",
       "    </tr>\n",
       "    <tr>\n",
       "      <th>726</th>\n",
       "      <td>3.3</td>\n",
       "      <td>41234.0</td>\n",
       "      <td>11750.0</td>\n",
       "    </tr>\n",
       "    <tr>\n",
       "      <th>...</th>\n",
       "      <td>...</td>\n",
       "      <td>...</td>\n",
       "      <td>...</td>\n",
       "    </tr>\n",
       "    <tr>\n",
       "      <th>350</th>\n",
       "      <td>NaN</td>\n",
       "      <td>49411.0</td>\n",
       "      <td>11650.0</td>\n",
       "    </tr>\n",
       "    <tr>\n",
       "      <th>79</th>\n",
       "      <td>4.3</td>\n",
       "      <td>36731.0</td>\n",
       "      <td>17600.0</td>\n",
       "    </tr>\n",
       "    <tr>\n",
       "      <th>8039</th>\n",
       "      <td>4.2</td>\n",
       "      <td>41269.0</td>\n",
       "      <td>11750.0</td>\n",
       "    </tr>\n",
       "    <tr>\n",
       "      <th>6936</th>\n",
       "      <td>3.5</td>\n",
       "      <td>53997.0</td>\n",
       "      <td>9550.0</td>\n",
       "    </tr>\n",
       "    <tr>\n",
       "      <th>5640</th>\n",
       "      <td>4.4</td>\n",
       "      <td>81086.0</td>\n",
       "      <td>11950.0</td>\n",
       "    </tr>\n",
       "  </tbody>\n",
       "</table>\n",
       "<p>7244 rows × 3 columns</p>\n",
       "</div>"
      ],
      "text/plain": [
       "      condition  odometer  auction_value\n",
       "7821        4.4       NaN        13800.0\n",
       "4127        4.3   27368.0        21300.0\n",
       "12          2.8   66470.0        10300.0\n",
       "1689        3.6   25208.0        12900.0\n",
       "726         3.3   41234.0        11750.0\n",
       "...         ...       ...            ...\n",
       "350         NaN   49411.0        11650.0\n",
       "79          4.3   36731.0        17600.0\n",
       "8039        4.2   41269.0        11750.0\n",
       "6936        3.5   53997.0         9550.0\n",
       "5640        4.4   81086.0        11950.0\n",
       "\n",
       "[7244 rows x 3 columns]"
      ]
     },
     "execution_count": 32,
     "metadata": {},
     "output_type": "execute_result"
    }
   ],
   "source": [
    "df_numerical_features"
   ]
  },
  {
   "cell_type": "code",
   "execution_count": 33,
   "id": "997a9a35-37c1-4203-b52b-3bc9274c61d7",
   "metadata": {},
   "outputs": [
    {
     "data": {
      "text/html": [
       "<div>\n",
       "<style scoped>\n",
       "    .dataframe tbody tr th:only-of-type {\n",
       "        vertical-align: middle;\n",
       "    }\n",
       "\n",
       "    .dataframe tbody tr th {\n",
       "        vertical-align: top;\n",
       "    }\n",
       "\n",
       "    .dataframe thead th {\n",
       "        text-align: right;\n",
       "    }\n",
       "</style>\n",
       "<table border=\"1\" class=\"dataframe\">\n",
       "  <thead>\n",
       "    <tr style=\"text-align: right;\">\n",
       "      <th></th>\n",
       "      <th>make</th>\n",
       "      <th>transmission</th>\n",
       "      <th>state</th>\n",
       "    </tr>\n",
       "  </thead>\n",
       "  <tbody>\n",
       "    <tr>\n",
       "      <th>7821</th>\n",
       "      <td>kia</td>\n",
       "      <td>automatic</td>\n",
       "      <td>wi</td>\n",
       "    </tr>\n",
       "    <tr>\n",
       "      <th>4127</th>\n",
       "      <td>chrysler</td>\n",
       "      <td>automatic</td>\n",
       "      <td>ca</td>\n",
       "    </tr>\n",
       "    <tr>\n",
       "      <th>12</th>\n",
       "      <td>ford</td>\n",
       "      <td>automatic</td>\n",
       "      <td>fl</td>\n",
       "    </tr>\n",
       "    <tr>\n",
       "      <th>1689</th>\n",
       "      <td>honda</td>\n",
       "      <td>automatic</td>\n",
       "      <td>NaN</td>\n",
       "    </tr>\n",
       "    <tr>\n",
       "      <th>726</th>\n",
       "      <td>hyundai</td>\n",
       "      <td>automatic</td>\n",
       "      <td>NaN</td>\n",
       "    </tr>\n",
       "    <tr>\n",
       "      <th>...</th>\n",
       "      <td>...</td>\n",
       "      <td>...</td>\n",
       "      <td>...</td>\n",
       "    </tr>\n",
       "    <tr>\n",
       "      <th>350</th>\n",
       "      <td>hyundai</td>\n",
       "      <td>automatic</td>\n",
       "      <td>wi</td>\n",
       "    </tr>\n",
       "    <tr>\n",
       "      <th>79</th>\n",
       "      <td>NaN</td>\n",
       "      <td>NaN</td>\n",
       "      <td>NaN</td>\n",
       "    </tr>\n",
       "    <tr>\n",
       "      <th>8039</th>\n",
       "      <td>nissan</td>\n",
       "      <td>automatic</td>\n",
       "      <td>oh</td>\n",
       "    </tr>\n",
       "    <tr>\n",
       "      <th>6936</th>\n",
       "      <td>dodge</td>\n",
       "      <td>automatic</td>\n",
       "      <td>fl</td>\n",
       "    </tr>\n",
       "    <tr>\n",
       "      <th>5640</th>\n",
       "      <td>nissan</td>\n",
       "      <td>automatic</td>\n",
       "      <td>fl</td>\n",
       "    </tr>\n",
       "  </tbody>\n",
       "</table>\n",
       "<p>7244 rows × 3 columns</p>\n",
       "</div>"
      ],
      "text/plain": [
       "          make transmission state\n",
       "7821       kia    automatic    wi\n",
       "4127  chrysler    automatic    ca\n",
       "12        ford    automatic    fl\n",
       "1689     honda    automatic   NaN\n",
       "726    hyundai    automatic   NaN\n",
       "...        ...          ...   ...\n",
       "350    hyundai    automatic    wi\n",
       "79         NaN          NaN   NaN\n",
       "8039    nissan    automatic    oh\n",
       "6936     dodge    automatic    fl\n",
       "5640    nissan    automatic    fl\n",
       "\n",
       "[7244 rows x 3 columns]"
      ]
     },
     "execution_count": 33,
     "metadata": {},
     "output_type": "execute_result"
    }
   ],
   "source": [
    "df_categorical_features"
   ]
  },
  {
   "cell_type": "code",
   "execution_count": 34,
   "id": "91e75dce-b76c-4e5c-bffe-49e7e7cd1ff0",
   "metadata": {},
   "outputs": [
    {
     "name": "stdout",
     "output_type": "stream",
     "text": [
      "Categorical features are  ['make', 'transmission', 'state']\n",
      "Numerial features are ['condition', 'odometer', 'auction_value']\n"
     ]
    }
   ],
   "source": [
    "from sklearn.compose import make_column_selector as selector\n",
    "\n",
    "numerical_columns_selector = selector(dtype_exclude=object)\n",
    "cat_columns_selector = selector(dtype_include =object)\n",
    "cat_columns = cat_columns_selector(X_train)\n",
    "numeric_columns =numerical_columns_selector(X_train)\n",
    "print(\"Categorical features are \", cat_columns)\n",
    "print(\"Numerial features are\", numeric_columns)"
   ]
  },
  {
   "cell_type": "markdown",
   "id": "7eb17b77-99c7-4904-9106-cadc010f813e",
   "metadata": {},
   "source": [
    "## Question 2: Using the numerical variables, create a pipeline that replaces the missing values with the median and then standardizes the values using a standard scaler."
   ]
  },
  {
   "cell_type": "code",
   "execution_count": 35,
   "id": "e3113bf6-8b3f-4e7f-ba32-98989b6bfec5",
   "metadata": {},
   "outputs": [],
   "source": [
    "import numpy as np\n",
    "from sklearn.pipeline import Pipeline\n",
    "from sklearn.compose import ColumnTransformer\n",
    "from sklearn.preprocessing import StandardScaler, OneHotEncoder\n",
    "# from sklearn.preprocessing import Imputer\n",
    "from sklearn.linear_model import LinearRegression, Ridge\n",
    "from sklearn.impute import SimpleImputer\n"
   ]
  },
  {
   "cell_type": "code",
   "execution_count": 36,
   "id": "8c1bffae-fa9d-4f68-8a53-e7d79e277889",
   "metadata": {},
   "outputs": [],
   "source": [
    "numeric_pipeline = Pipeline(steps = [('imputation', SimpleImputer(missing_values = np.nan, strategy = 'median')),('scaler', StandardScaler())])\n",
    "X_train_numeric_converted = numeric_pipeline.fit_transform(X_train[numeric_columns])"
   ]
  },
  {
   "cell_type": "code",
   "execution_count": 37,
   "id": "68e2cb93-46bf-4650-ba95-f03ab798bf3f",
   "metadata": {},
   "outputs": [
    {
     "data": {
      "text/plain": [
       "(7244, 3)"
      ]
     },
     "execution_count": 37,
     "metadata": {},
     "output_type": "execute_result"
    }
   ],
   "source": [
    "X_train_numeric_converted.shape\n"
   ]
  },
  {
   "cell_type": "markdown",
   "id": "c49fb075-5fb3-410d-b2bf-d0a4950143c9",
   "metadata": {},
   "source": [
    "## Question 3: Using the categorical variables, create a pipeline that replaces the missing values with the most frequent and then use one-hot encoding to convert the data to numerical arrays"
   ]
  },
  {
   "cell_type": "code",
   "execution_count": 38,
   "id": "c43bc9b9-2bfa-48ed-811c-ba5261ca91dc",
   "metadata": {},
   "outputs": [],
   "source": [
    "categoric_pipeline = Pipeline(steps = [('imputation', SimpleImputer(missing_values = np.nan, strategy = 'most_frequent')),('onehotencoder', OneHotEncoder(handle_unknown = 'ignore', drop = 'first'))])\n",
    "\n",
    "X_train_cat_converted = categoric_pipeline.fit_transform(X_train[cat_columns])"
   ]
  },
  {
   "cell_type": "markdown",
   "id": "f73d8b69-f01f-462a-987d-4d95e9f004d0",
   "metadata": {},
   "source": [
    "To ensure the pipeline doesn't break when it receives new/unexpected categories, I used handle_unknown = 'ignore' configuration for one hot encoder\n",
    "\n"
   ]
  },
  {
   "cell_type": "code",
   "execution_count": 39,
   "id": "47ec484f-6965-42e7-b338-0af5ec7624e6",
   "metadata": {},
   "outputs": [
    {
     "data": {
      "text/plain": [
       "matrix([[0., 0., 0., ..., 0., 0., 1.],\n",
       "        [0., 1., 0., ..., 0., 0., 0.],\n",
       "        [0., 0., 0., ..., 0., 0., 0.],\n",
       "        ...,\n",
       "        [0., 0., 0., ..., 0., 0., 0.],\n",
       "        [0., 0., 1., ..., 0., 0., 0.],\n",
       "        [0., 0., 0., ..., 0., 0., 0.]])"
      ]
     },
     "execution_count": 39,
     "metadata": {},
     "output_type": "execute_result"
    }
   ],
   "source": [
    "X_train_cat_converted.todense()"
   ]
  },
  {
   "cell_type": "code",
   "execution_count": 40,
   "id": "ab4cc5d8-53f2-4a73-9dd9-3c51a5ff0abe",
   "metadata": {},
   "outputs": [
    {
     "data": {
      "text/plain": [
       "(7244, 41)"
      ]
     },
     "execution_count": 40,
     "metadata": {},
     "output_type": "execute_result"
    }
   ],
   "source": [
    "X_train_cat_converted.shape\n"
   ]
  },
  {
   "cell_type": "markdown",
   "id": "8e6cb422-4a87-4fba-9fc5-36e11e4e4652",
   "metadata": {},
   "source": [
    "New transformed data for categorical columns has 41 columnns, Verifying if it is right or not in  below code"
   ]
  },
  {
   "cell_type": "code",
   "execution_count": 41,
   "id": "7df283e5-40bc-49b0-ba6f-5120b98aa4ca",
   "metadata": {},
   "outputs": [
    {
     "name": "stdout",
     "output_type": "stream",
     "text": [
      "10\n",
      "2\n",
      "32\n"
     ]
    }
   ],
   "source": [
    "for i in cat_columns:\n",
    "    print(X_train[i].nunique())"
   ]
  },
  {
   "cell_type": "markdown",
   "id": "4489a656-772c-42f6-8381-025640eb4073",
   "metadata": {},
   "source": [
    "Total = 44 and from each column it dropped one category using drop = 'first' parameter in one hot encoder function. so 44-3 = 41 hence it is right"
   ]
  },
  {
   "cell_type": "markdown",
   "id": "3c8d5afe-cbc2-4ea1-90b6-2839ff4ec922",
   "metadata": {},
   "source": [
    "## Question 4: Combine the numerical and categorical pipelines into one data processing pipeline."
   ]
  },
  {
   "cell_type": "code",
   "execution_count": 42,
   "id": "b90f060a-96a1-4f46-a029-1282d837154d",
   "metadata": {},
   "outputs": [
    {
     "data": {
      "text/plain": [
       "<7244x44 sparse matrix of type '<class 'numpy.float64'>'\n",
       "\twith 35945 stored elements in Compressed Sparse Row format>"
      ]
     },
     "execution_count": 42,
     "metadata": {},
     "output_type": "execute_result"
    }
   ],
   "source": [
    "preprocessor = ColumnTransformer(transformers = [('num', numeric_pipeline,numeric_columns),('cat',categoric_pipeline, cat_columns)])\n",
    "X_t= preprocessor.fit_transform(X_train)\n",
    "X_t"
   ]
  },
  {
   "cell_type": "code",
   "execution_count": 43,
   "id": "91a9c76a-c66c-4de1-8e69-1d2fd5bc322e",
   "metadata": {},
   "outputs": [
    {
     "data": {
      "text/plain": [
       "(7244, 44)"
      ]
     },
     "execution_count": 43,
     "metadata": {},
     "output_type": "execute_result"
    }
   ],
   "source": [
    "X_t.shape"
   ]
  },
  {
   "cell_type": "markdown",
   "id": "2d697ff9-e32c-4c13-abda-e06ef28048f5",
   "metadata": {},
   "source": [
    "transformed columns are 44 which is correct. As for categorical columns ,we saw earlier it transformed to 41 columns using one hot encoder and we have 3 numeric columns. Hence it is verifed that it is correct"
   ]
  },
  {
   "cell_type": "code",
   "execution_count": 44,
   "id": "57cbaf9e-404b-49b4-aa61-77b9f3837b1e",
   "metadata": {},
   "outputs": [
    {
     "data": {
      "text/plain": [
       "0"
      ]
     },
     "execution_count": 44,
     "metadata": {},
     "output_type": "execute_result"
    }
   ],
   "source": [
    "np.isnan(X_t.todense()).sum()"
   ]
  },
  {
   "cell_type": "markdown",
   "id": "b04d0d16-b77b-4d36-92c1-ce66025076d0",
   "metadata": {},
   "source": [
    "No missing values in the transformed data"
   ]
  },
  {
   "cell_type": "markdown",
   "id": "6e262db9-2aaa-45fa-af21-6323bfe21d5a",
   "metadata": {},
   "source": [
    "## Question 5: Add a linear regression model to the pipeline."
   ]
  },
  {
   "cell_type": "code",
   "execution_count": 45,
   "id": "7cfafdcc-8a4c-4936-b7ca-00a3e0d4f141",
   "metadata": {},
   "outputs": [
    {
     "name": "stdout",
     "output_type": "stream",
     "text": [
      "0.883827413318118\n",
      "0.883827413318118\n"
     ]
    }
   ],
   "source": [
    "pipeline = Pipeline(steps = [('preprocessor', preprocessor), ('regressor', LinearRegression())])\n",
    "\n",
    "pipeline.fit(X_train, y_train)\n",
    "\n",
    "y_pred = pipeline.predict(X_test)\n",
    "\n",
    "score = pipeline.score(X_test,y_test)\n",
    "print(score)\n",
    "\n",
    "from sklearn.metrics import r2_score\n",
    "r2 = r2_score(y_test, y_pred)\n",
    "print(r2)\n",
    "\n"
   ]
  },
  {
   "cell_type": "code",
   "execution_count": 46,
   "id": "24612105-4dd3-4ad0-85dd-463c5e9afc00",
   "metadata": {},
   "outputs": [
    {
     "data": {
      "text/plain": [
       "0.8688622550878699"
      ]
     },
     "execution_count": 46,
     "metadata": {},
     "output_type": "execute_result"
    }
   ],
   "source": [
    "training_score = pipeline.score(X_train,y_train)\n",
    "training_score"
   ]
  },
  {
   "cell_type": "markdown",
   "id": "b80ff18a-8db3-4513-a656-eab6fd39728c",
   "metadata": {},
   "source": [
    "training score is not much higher than testing score. hence there is no overfitting much"
   ]
  },
  {
   "cell_type": "markdown",
   "id": "aa0287d8-32a7-4173-9a1f-27e06789a1a3",
   "metadata": {},
   "source": [
    "## Question 6: Create a plot(s) of the residuals. Do you have any concerns about patterns in the residuals that the model is neglecting to pick-up?"
   ]
  },
  {
   "cell_type": "code",
   "execution_count": 47,
   "id": "a473be38-a954-4822-8455-d23cd01b9bed",
   "metadata": {},
   "outputs": [
    {
     "data": {
      "image/png": "[encoded data removed]",
      "text/plain": [
       "<Figure size 640x480 with 1 Axes>"
      ]
     },
     "metadata": {},
     "output_type": "display_data"
    }
   ],
   "source": [
    "import matplotlib.pyplot as plt\n",
    "\n",
    "residuals = y_test- y_pred\n",
    "plt.xlabel('Predicted')\n",
    "plt.ylabel('Residuals')\n",
    "plt.scatter(y_pred, residuals)\n",
    "plt.show()\n"
   ]
  },
  {
   "cell_type": "markdown",
   "id": "ea45699e-d371-4251-9d10-8799bb5370c2",
   "metadata": {},
   "source": [
    "In the plot, the residuals appear to be randomly scattered around zero and we see no patterns so which indicates that model is capturing all the information to predict selling price.If errors are not randomly spread, we can say that linear model is not appropriate for this data but which is not the case here it seems."
   ]
  },
  {
   "cell_type": "markdown",
   "id": "e569fd8c-b05b-4296-ad92-2987d0e0acba",
   "metadata": {},
   "source": [
    "## Question 7: Modify the pipeline to use a ridge regression model with an alpha value of 100. How does this change the \n",
    "R squared?"
   ]
  },
  {
   "cell_type": "code",
   "execution_count": 48,
   "id": "9987c5f9-8739-4920-9b42-b7ed82c895cd",
   "metadata": {},
   "outputs": [],
   "source": [
    "pipeline = Pipeline(steps = [('preprocessor', preprocessor), ('regressor', Ridge(alpha = 100))])"
   ]
  },
  {
   "cell_type": "code",
   "execution_count": 49,
   "id": "2075067d-5d9a-4d70-aa50-8ddd079b8fa6",
   "metadata": {},
   "outputs": [
    {
     "name": "stdout",
     "output_type": "stream",
     "text": [
      "0.88242952622921\n",
      "0.88242952622921\n"
     ]
    }
   ],
   "source": [
    "\n",
    "pipeline.fit(X_train, y_train)\n",
    "\n",
    "y_pred = pipeline.predict(X_test)\n",
    "\n",
    "score = pipeline.score(X_test,y_test)\n",
    "print(score)\n",
    "r2 = r2_score(y_test, y_pred)\n",
    "print(r2)\n"
   ]
  },
  {
   "cell_type": "markdown",
   "id": "e43a770b-46db-43ed-ab8b-86d5d53a308e",
   "metadata": {},
   "source": [
    "There is no much change in Rsquared value and difference is relatively small. It performed similar to basic what normal regression did."
   ]
  }
 ],
 "metadata": {
  "kernelspec": {
   "display_name": "Python 3 (ipykernel)",
   "language": "python",
   "name": "python3"
  },
  "language_info": {
   "codemirror_mode": {
    "name": "ipython",
    "version": 3
   },
   "file_extension": ".py",
   "mimetype": "text/x-python",
   "name": "python",
   "nbconvert_exporter": "python",
   "pygments_lexer": "ipython3",
   "version": "3.10.7"
  }
 },
 "nbformat": 4,
 "nbformat_minor": 5
}
