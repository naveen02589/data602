{
 "cells": [
  {
   "cell_type": "code",
   "execution_count": 36,
   "id": "0a56ed6f-a63a-47e8-87cc-41edf3b7a1a2",
   "metadata": {},
   "outputs": [],
   "source": [
    "import pandas as pd\n",
    "import numpy as np\n",
    "import matplotlib.pyplot as plt\n",
    "import random\n",
    "\n",
    "data1 = pd.read_csv('https://raw.githubusercontent.com/msaricaumbc/DS_data/master/ds602/regression/lab4_1.csv')\n",
    "data2 = pd.read_csv('https://raw.githubusercontent.com/msaricaumbc/DS_data/master/ds602/regression/lab4_2.csv')"
   ]
  },
  {
   "cell_type": "code",
   "execution_count": 37,
   "id": "08f64c7c-65e7-4574-b5c8-64da553d601d",
   "metadata": {},
   "outputs": [
    {
     "data": {
      "text/html": [
       "<div>\n",
       "<style scoped>\n",
       "    .dataframe tbody tr th:only-of-type {\n",
       "        vertical-align: middle;\n",
       "    }\n",
       "\n",
       "    .dataframe tbody tr th {\n",
       "        vertical-align: top;\n",
       "    }\n",
       "\n",
       "    .dataframe thead th {\n",
       "        text-align: right;\n",
       "    }\n",
       "</style>\n",
       "<table border=\"1\" class=\"dataframe\">\n",
       "  <thead>\n",
       "    <tr style=\"text-align: right;\">\n",
       "      <th></th>\n",
       "      <th>Unnamed: 0</th>\n",
       "      <th>X</th>\n",
       "      <th>y</th>\n",
       "    </tr>\n",
       "  </thead>\n",
       "  <tbody>\n",
       "    <tr>\n",
       "      <th>0</th>\n",
       "      <td>0</td>\n",
       "      <td>50</td>\n",
       "      <td>147</td>\n",
       "    </tr>\n",
       "    <tr>\n",
       "      <th>1</th>\n",
       "      <td>1</td>\n",
       "      <td>82</td>\n",
       "      <td>246</td>\n",
       "    </tr>\n",
       "    <tr>\n",
       "      <th>2</th>\n",
       "      <td>2</td>\n",
       "      <td>66</td>\n",
       "      <td>207</td>\n",
       "    </tr>\n",
       "    <tr>\n",
       "      <th>3</th>\n",
       "      <td>3</td>\n",
       "      <td>35</td>\n",
       "      <td>105</td>\n",
       "    </tr>\n",
       "    <tr>\n",
       "      <th>4</th>\n",
       "      <td>4</td>\n",
       "      <td>81</td>\n",
       "      <td>240</td>\n",
       "    </tr>\n",
       "  </tbody>\n",
       "</table>\n",
       "</div>"
      ],
      "text/plain": [
       "   Unnamed: 0   X    y\n",
       "0           0  50  147\n",
       "1           1  82  246\n",
       "2           2  66  207\n",
       "3           3  35  105\n",
       "4           4  81  240"
      ]
     },
     "execution_count": 37,
     "metadata": {},
     "output_type": "execute_result"
    }
   ],
   "source": [
    "data1.head()\n",
    "# data1.shape\n"
   ]
  },
  {
   "cell_type": "code",
   "execution_count": 38,
   "id": "fc4933c6-f479-4dd4-88ad-265fa1634edc",
   "metadata": {},
   "outputs": [
    {
     "data": {
      "text/html": [
       "<div>\n",
       "<style scoped>\n",
       "    .dataframe tbody tr th:only-of-type {\n",
       "        vertical-align: middle;\n",
       "    }\n",
       "\n",
       "    .dataframe tbody tr th {\n",
       "        vertical-align: top;\n",
       "    }\n",
       "\n",
       "    .dataframe thead th {\n",
       "        text-align: right;\n",
       "    }\n",
       "</style>\n",
       "<table border=\"1\" class=\"dataframe\">\n",
       "  <thead>\n",
       "    <tr style=\"text-align: right;\">\n",
       "      <th></th>\n",
       "      <th>Unnamed: 0</th>\n",
       "      <th>X1</th>\n",
       "      <th>X2</th>\n",
       "      <th>y</th>\n",
       "    </tr>\n",
       "  </thead>\n",
       "  <tbody>\n",
       "    <tr>\n",
       "      <th>0</th>\n",
       "      <td>0</td>\n",
       "      <td>50</td>\n",
       "      <td>B</td>\n",
       "      <td>2510</td>\n",
       "    </tr>\n",
       "    <tr>\n",
       "      <th>1</th>\n",
       "      <td>1</td>\n",
       "      <td>82</td>\n",
       "      <td>B</td>\n",
       "      <td>6738</td>\n",
       "    </tr>\n",
       "    <tr>\n",
       "      <th>2</th>\n",
       "      <td>2</td>\n",
       "      <td>66</td>\n",
       "      <td>B</td>\n",
       "      <td>4355</td>\n",
       "    </tr>\n",
       "    <tr>\n",
       "      <th>3</th>\n",
       "      <td>3</td>\n",
       "      <td>35</td>\n",
       "      <td>A</td>\n",
       "      <td>2225</td>\n",
       "    </tr>\n",
       "    <tr>\n",
       "      <th>4</th>\n",
       "      <td>4</td>\n",
       "      <td>81</td>\n",
       "      <td>A</td>\n",
       "      <td>7560</td>\n",
       "    </tr>\n",
       "  </tbody>\n",
       "</table>\n",
       "</div>"
      ],
      "text/plain": [
       "   Unnamed: 0  X1 X2     y\n",
       "0           0  50  B  2510\n",
       "1           1  82  B  6738\n",
       "2           2  66  B  4355\n",
       "3           3  35  A  2225\n",
       "4           4  81  A  7560"
      ]
     },
     "execution_count": 38,
     "metadata": {},
     "output_type": "execute_result"
    }
   ],
   "source": [
    "data2.head()\n",
    "# data2.shape"
   ]
  },
  {
   "cell_type": "code",
   "execution_count": 39,
   "id": "6eae8abc-c7fb-4881-b290-a654aff70f37",
   "metadata": {},
   "outputs": [],
   "source": [
    "data1 = data1.loc[:, ~data1.columns.str.contains('^Unnamed:')]"
   ]
  },
  {
   "cell_type": "code",
   "execution_count": 40,
   "id": "5cabcacf-18a0-4a7f-8ae7-c63724b96f64",
   "metadata": {},
   "outputs": [
    {
     "data": {
      "text/html": [
       "<div>\n",
       "<style scoped>\n",
       "    .dataframe tbody tr th:only-of-type {\n",
       "        vertical-align: middle;\n",
       "    }\n",
       "\n",
       "    .dataframe tbody tr th {\n",
       "        vertical-align: top;\n",
       "    }\n",
       "\n",
       "    .dataframe thead th {\n",
       "        text-align: right;\n",
       "    }\n",
       "</style>\n",
       "<table border=\"1\" class=\"dataframe\">\n",
       "  <thead>\n",
       "    <tr style=\"text-align: right;\">\n",
       "      <th></th>\n",
       "      <th>X</th>\n",
       "      <th>y</th>\n",
       "    </tr>\n",
       "  </thead>\n",
       "  <tbody>\n",
       "    <tr>\n",
       "      <th>0</th>\n",
       "      <td>50</td>\n",
       "      <td>147</td>\n",
       "    </tr>\n",
       "    <tr>\n",
       "      <th>1</th>\n",
       "      <td>82</td>\n",
       "      <td>246</td>\n",
       "    </tr>\n",
       "    <tr>\n",
       "      <th>2</th>\n",
       "      <td>66</td>\n",
       "      <td>207</td>\n",
       "    </tr>\n",
       "    <tr>\n",
       "      <th>3</th>\n",
       "      <td>35</td>\n",
       "      <td>105</td>\n",
       "    </tr>\n",
       "    <tr>\n",
       "      <th>4</th>\n",
       "      <td>81</td>\n",
       "      <td>240</td>\n",
       "    </tr>\n",
       "  </tbody>\n",
       "</table>\n",
       "</div>"
      ],
      "text/plain": [
       "    X    y\n",
       "0  50  147\n",
       "1  82  246\n",
       "2  66  207\n",
       "3  35  105\n",
       "4  81  240"
      ]
     },
     "execution_count": 40,
     "metadata": {},
     "output_type": "execute_result"
    }
   ],
   "source": [
    "data1.head()"
   ]
  },
  {
   "cell_type": "code",
   "execution_count": 41,
   "id": "2daf5ece-3efe-410d-935d-ef14e2354e68",
   "metadata": {},
   "outputs": [],
   "source": [
    "data2 = data2.loc[:, ~data2.columns.str.contains('^Unnamed:')]"
   ]
  },
  {
   "cell_type": "code",
   "execution_count": 42,
   "id": "15e91f7f-1052-4dba-b0cc-f2e9148cc771",
   "metadata": {},
   "outputs": [
    {
     "data": {
      "text/html": [
       "<div>\n",
       "<style scoped>\n",
       "    .dataframe tbody tr th:only-of-type {\n",
       "        vertical-align: middle;\n",
       "    }\n",
       "\n",
       "    .dataframe tbody tr th {\n",
       "        vertical-align: top;\n",
       "    }\n",
       "\n",
       "    .dataframe thead th {\n",
       "        text-align: right;\n",
       "    }\n",
       "</style>\n",
       "<table border=\"1\" class=\"dataframe\">\n",
       "  <thead>\n",
       "    <tr style=\"text-align: right;\">\n",
       "      <th></th>\n",
       "      <th>X1</th>\n",
       "      <th>X2</th>\n",
       "      <th>y</th>\n",
       "    </tr>\n",
       "  </thead>\n",
       "  <tbody>\n",
       "    <tr>\n",
       "      <th>0</th>\n",
       "      <td>50</td>\n",
       "      <td>B</td>\n",
       "      <td>2510</td>\n",
       "    </tr>\n",
       "    <tr>\n",
       "      <th>1</th>\n",
       "      <td>82</td>\n",
       "      <td>B</td>\n",
       "      <td>6738</td>\n",
       "    </tr>\n",
       "    <tr>\n",
       "      <th>2</th>\n",
       "      <td>66</td>\n",
       "      <td>B</td>\n",
       "      <td>4355</td>\n",
       "    </tr>\n",
       "    <tr>\n",
       "      <th>3</th>\n",
       "      <td>35</td>\n",
       "      <td>A</td>\n",
       "      <td>2225</td>\n",
       "    </tr>\n",
       "    <tr>\n",
       "      <th>4</th>\n",
       "      <td>81</td>\n",
       "      <td>A</td>\n",
       "      <td>7560</td>\n",
       "    </tr>\n",
       "  </tbody>\n",
       "</table>\n",
       "</div>"
      ],
      "text/plain": [
       "   X1 X2     y\n",
       "0  50  B  2510\n",
       "1  82  B  6738\n",
       "2  66  B  4355\n",
       "3  35  A  2225\n",
       "4  81  A  7560"
      ]
     },
     "execution_count": 42,
     "metadata": {},
     "output_type": "execute_result"
    }
   ],
   "source": [
    "data2.head()"
   ]
  },
  {
   "cell_type": "markdown",
   "id": "960dbf1e-8b00-403f-b478-5df2d1214382",
   "metadata": {},
   "source": [
    "# For Data1"
   ]
  },
  {
   "cell_type": "markdown",
   "id": "fc76e707-4740-4cb5-a3d1-f94e1e6bf3fe",
   "metadata": {},
   "source": [
    "## Train-test split"
   ]
  },
  {
   "cell_type": "code",
   "execution_count": 43,
   "id": "146bccf3-5422-4289-883d-f787aac8c344",
   "metadata": {},
   "outputs": [],
   "source": [
    "from sklearn.model_selection import train_test_split\n",
    "from sklearn.preprocessing import StandardScaler, OneHotEncoder"
   ]
  },
  {
   "cell_type": "code",
   "execution_count": 83,
   "id": "5f7e00aa-bc58-4a42-84fe-d3d59d698db2",
   "metadata": {},
   "outputs": [],
   "source": [
    "X= data1['X']\n",
    "y = data1['y']\n",
    "\n",
    "X_train, X_test, y_train,y_test = train_test_split(data1[['X']], data1[['y']], test_size=0.2, random_state=100)"
   ]
  },
  {
   "cell_type": "markdown",
   "id": "dc016c38-f0c1-4a31-b59f-9573f677a1eb",
   "metadata": {},
   "source": [
    "## Train a linear regression model"
   ]
  },
  {
   "cell_type": "code",
   "execution_count": 84,
   "id": "87b3fb7c-ce1e-4927-ba91-dcce20c740e4",
   "metadata": {},
   "outputs": [
    {
     "data": {
      "text/plain": [
       "0.9872328017796749"
      ]
     },
     "execution_count": 84,
     "metadata": {},
     "output_type": "execute_result"
    }
   ],
   "source": [
    "from sklearn.linear_model import LinearRegression, Ridge\n",
    "\n",
    "model = LinearRegression()\n",
    "\n",
    "model.fit(X_train,y_train)\n",
    "\n",
    "score =  model.score(X_test,y_test)\n",
    "score"
   ]
  },
  {
   "cell_type": "code",
   "execution_count": 85,
   "id": "7ba18f4a-2031-4485-a586-2c36bb7a2626",
   "metadata": {},
   "outputs": [
    {
     "data": {
      "text/plain": [
       "0.9897456391911691"
      ]
     },
     "execution_count": 85,
     "metadata": {},
     "output_type": "execute_result"
    }
   ],
   "source": [
    "training_score =  model.score(X_train,y_train)\n",
    "training_score"
   ]
  },
  {
   "cell_type": "markdown",
   "id": "a67a64fb-33cb-40e7-936c-34f38e8a6543",
   "metadata": {},
   "source": [
    "## Evaluate/create residual plots"
   ]
  },
  {
   "cell_type": "code",
   "execution_count": 54,
   "id": "c349382f-dfea-4a0f-a67e-a9683a1d57f3",
   "metadata": {},
   "outputs": [
    {
     "data": {
      "image/png": "[encoded data removed]",
      "text/plain": [
       "<Figure size 640x480 with 1 Axes>"
      ]
     },
     "metadata": {},
     "output_type": "display_data"
    }
   ],
   "source": [
    "y_pred = model.predict(X_test)\n",
    "residuals = y_test- y_pred\n",
    "plt.xlabel('Predicted')\n",
    "plt.ylabel('Residuals')\n",
    "plt.scatter(y_pred, residuals)\n",
    "plt.show()"
   ]
  },
  {
   "cell_type": "markdown",
   "id": "1f414b4f-d33b-4513-a45c-a1b0797dfe5e",
   "metadata": {},
   "source": [
    "### Explain Findings"
   ]
  },
  {
   "cell_type": "code",
   "execution_count": null,
   "id": "503b6f7a-4210-44a8-b9c4-d3710e9d127e",
   "metadata": {},
   "outputs": [],
   "source": [
    "Points are randomly scattered around Zero. Hence linear model is appropriate for this data  and there is no overfitting as well."
   ]
  },
  {
   "cell_type": "markdown",
   "id": "111572e6-aee7-4048-af3a-5a4138488adf",
   "metadata": {},
   "source": [
    "## For Data2"
   ]
  },
  {
   "cell_type": "markdown",
   "id": "c5da2c17-1d72-4a7b-a1c2-bc2f2e38bec6",
   "metadata": {},
   "source": [
    "## Train-test split"
   ]
  },
  {
   "cell_type": "markdown",
   "id": "161d8fe1-4402-47be-bdb2-2923e9af5493",
   "metadata": {},
   "source": [
    "Performing one hot encoding on categorical variables"
   ]
  },
  {
   "cell_type": "code",
   "execution_count": 78,
   "id": "6ae62674-e4f7-43ac-a4ac-0bcf84ea925d",
   "metadata": {},
   "outputs": [],
   "source": [
    "\n",
    "features = [x for x in data2.columns if x != 'y']\n",
    "\n",
    "X = data2[features]\n",
    "\n",
    "y = data2['y']\n",
    "\n",
    "enc = OneHotEncoder()\n",
    "X= enc.fit_transform(X)"
   ]
  },
  {
   "cell_type": "code",
   "execution_count": 79,
   "id": "bb870828-6d6f-4ac9-91c1-2307f4e72b3f",
   "metadata": {},
   "outputs": [],
   "source": [
    "X_train, X_test, y_train,y_test = train_test_split(X, y, test_size=0.2, random_state=100)"
   ]
  },
  {
   "cell_type": "markdown",
   "id": "43b954a7-aecb-4dfd-854b-6d6641d49cc7",
   "metadata": {},
   "source": [
    "## Train a linear regression model"
   ]
  },
  {
   "cell_type": "code",
   "execution_count": 80,
   "id": "99763da5-5563-425c-8d87-47118565121c",
   "metadata": {},
   "outputs": [
    {
     "data": {
      "text/plain": [
       "0.4889281022315941"
      ]
     },
     "execution_count": 80,
     "metadata": {},
     "output_type": "execute_result"
    }
   ],
   "source": [
    "from sklearn.linear_model import LinearRegression, Ridge\n",
    "\n",
    "model = LinearRegression()\n",
    "\n",
    "model.fit(X_train,y_train)\n",
    "\n",
    "y_pred = model.predict(X_test)\n",
    "\n",
    "score =  model.score(X_test,y_test)\n",
    "score\n"
   ]
  },
  {
   "cell_type": "code",
   "execution_count": 81,
   "id": "ddc6c204-822e-46a7-ae5c-39716bb9d681",
   "metadata": {},
   "outputs": [
    {
     "data": {
      "text/plain": [
       "0.9999976622660705"
      ]
     },
     "execution_count": 81,
     "metadata": {},
     "output_type": "execute_result"
    }
   ],
   "source": [
    "training_score =  model.score(X_train,y_train)\n",
    "training_score"
   ]
  },
  {
   "cell_type": "markdown",
   "id": "cc4e7012-258c-40c4-b930-eb2e666a03e6",
   "metadata": {},
   "source": [
    "## Evaluate/create residual plots"
   ]
  },
  {
   "cell_type": "code",
   "execution_count": 73,
   "id": "62037e9f-65e1-4d97-bd09-1074d95da570",
   "metadata": {},
   "outputs": [
    {
     "data": {
      "image/png": "[encoded data removed]",
      "text/plain": [
       "<Figure size 640x480 with 1 Axes>"
      ]
     },
     "metadata": {},
     "output_type": "display_data"
    }
   ],
   "source": [
    "y_pred = model.predict(X_test)\n",
    "residuals = y_test- y_pred\n",
    "plt.xlabel('Predicted')\n",
    "plt.ylabel('Residuals')\n",
    "plt.scatter(y_pred, residuals)\n",
    "plt.show()"
   ]
  },
  {
   "cell_type": "markdown",
   "id": "2e277cbe-0ebe-4201-bb9b-4a08c5f7a8f1",
   "metadata": {},
   "source": [
    "### Explain Findings"
   ]
  },
  {
   "cell_type": "markdown",
   "id": "8cc5598d-276f-4c46-81f6-c55671cdcfcf",
   "metadata": {},
   "source": [
    "Training score is much higher than Testing score. Hence overfitting occured"
   ]
  }
 ],
 "metadata": {
  "kernelspec": {
   "display_name": "Python 3 (ipykernel)",
   "language": "python",
   "name": "python3"
  },
  "language_info": {
   "codemirror_mode": {
    "name": "ipython",
    "version": 3
   },
   "file_extension": ".py",
   "mimetype": "text/x-python",
   "name": "python",
   "nbconvert_exporter": "python",
   "pygments_lexer": "ipython3",
   "version": "3.10.7"
  }
 },
 "nbformat": 4,
 "nbformat_minor": 5
}
