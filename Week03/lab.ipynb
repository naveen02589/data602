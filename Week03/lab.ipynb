{
 "cells": [
  {
   "cell_type": "markdown",
   "id": "5ed9027b-5b6c-4e4d-bdfe-380598f12d67",
   "metadata": {},
   "source": [
    "## Week 3 Lab\n",
    "## Questions:\n"
   ]
  },
  {
   "cell_type": "markdown",
   "id": "75a6d801-c484-4aaa-9798-6b5bad013521",
   "metadata": {},
   "source": [
    "## Differences between supervised and unsupervised learning?"
   ]
  },
  {
   "cell_type": "code",
   "execution_count": null,
   "id": "699ca7e2-9fd6-4aaa-9524-919bb39a7d57",
   "metadata": {},
   "outputs": [],
   "source": [
    "Supervised Learning algorithms are  trained using labeled data \n",
    "e.g., Classifcation and regression\n",
    "\n",
    "Unsupervised learning algorithms are trained using unlabelled data.\n",
    "e.g., clustering, Association mining\n",
    "\n",
    "In supervised learning, we need to provide both input and output to the model , so that it takes feedback to check predicted output is correct or not.\n",
    "whereas in unsupervised learning, only input is fed to model.\n",
    "\n",
    "In supervised learning, the goal is to train a model  so that it can predict output when given new data whereas in unsupervised learning, the goal is to find hidden patterns and useful insights from the unknown dataset."
   ]
  },
  {
   "cell_type": "markdown",
   "id": "4e5ce8d3-f680-4d79-923b-3c4f4562094f",
   "metadata": {},
   "source": [
    "## Differences between classification and regression?"
   ]
  },
  {
   "cell_type": "code",
   "execution_count": null,
   "id": "2fa64347-e4fe-4ec4-84ca-33adae36e2b4",
   "metadata": {},
   "outputs": [],
   "source": [
    "Classification is the task of predicting a discrete class label. Here dependent variable is categorical variable\n",
    "E.g., Logistic regression, svm, decision tree\n",
    "Regression is the task of predicting a continuous quantity. Here dependent variable is continuous variable\n",
    "E.g., Linear Regression\n",
    "\n",
    "A classification algorithm may predict a continuous value, but the continuous value is in the form of a probability for a class label.\n",
    "A regression algorithm may predict a discrete value, but the discrete value in the form of an integer quantity.\n",
    "\n",
    "Classification predictions can be evaluated using accuracy, whereas regression predictions cannot.\n",
    "\n",
    "Regression predictions can be evaluated using root mean squared error, whereas classification predictions cannot."
   ]
  },
  {
   "cell_type": "markdown",
   "id": "4c46d347-046e-4123-9ed5-4034fb9a212b",
   "metadata": {},
   "source": [
    "## Classification and regression are the only types of supervised learning?"
   ]
  },
  {
   "cell_type": "code",
   "execution_count": null,
   "id": "efbd359e-82c1-4818-9232-3a69ebcf7a8b",
   "metadata": {},
   "outputs": [],
   "source": [
    "Apart from classifcation and regression, there are other types of supervised learning too\n",
    "1) Naive Bayes\n",
    "A Naive Bayes algorithm is used for large datasets. The approach works on the fundamental that every programme in the algorithm works independently. This means that the presence of one feature will not impact the other. Generally, it is used in text classification, recommendation systems, and others.\n",
    "A decision tree consists of control statements containing decisions and their consequences. The output in a decision tree relates to the labelling of unforeseen data. ID3 and CART are some of the popular decision tree algorithms widely used across various industries.here are different types of Naive Bayes models, and the decision tree remains the most popular among business organizations. A decision tree is a unique supervised learning algorithm structurally resembling a flowchart\n",
    "2) Neutral networks\n",
    "This type of supervised learning algorithm is used to group or categorize raw data. In addition, it is used for finding a pattern or interpreting sensory data. However, the algorithm requires numerous amounts of computation resources. As a result, its uses are constrained.\n",
    "3) Random forest\n",
    "A random forest algorithm is often called an ensemble method because it combines different supervised learning methods to conclude. Moreover, it uses many decision trees to output the classification of individual trees. As a result, it is widely used across industries."
   ]
  }
 ],
 "metadata": {
  "kernelspec": {
   "display_name": "Python 3 (ipykernel)",
   "language": "python",
   "name": "python3"
  },
  "language_info": {
   "codemirror_mode": {
    "name": "ipython",
    "version": 3
   },
   "file_extension": ".py",
   "mimetype": "text/x-python",
   "name": "python",
   "nbconvert_exporter": "python",
   "pygments_lexer": "ipython3",
   "version": "3.10.7"
  }
 },
 "nbformat": 4,
 "nbformat_minor": 5
}
