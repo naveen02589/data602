{
 "cells": [
  {
   "cell_type": "markdown",
   "id": "bd8f343a-ac29-40d6-bc24-902410a41b30",
   "metadata": {
    "id": "bd8f343a-ac29-40d6-bc24-902410a41b30"
   },
   "source": [
    "## Naveen_Garlapati_602_week1_assignment"
   ]
  },
  {
   "cell_type": "code",
   "execution_count": 2,
   "id": "d3b6a416-b816-4e3e-b9d4-59463e3a9246",
   "metadata": {
    "id": "d3b6a416-b816-4e3e-b9d4-59463e3a9246"
   },
   "outputs": [],
   "source": [
    "import pandas as pd\n",
    "import numpy as np\n",
    "import matplotlib.pyplot as plt\n",
    "%matplotlib inline\n",
    "# import seaborn as sns\n",
    "\n",
    "df = pd.read_csv(r'C:\\Users\\WELCOME\\Downloads\\who.csv')\n"
   ]
  },
  {
   "cell_type": "code",
   "execution_count": 3,
   "id": "a108982d-4969-4b58-9134-f3c30d62efeb",
   "metadata": {
    "colab": {
     "base_uri": "https://localhost:8080/",
     "height": 300
    },
    "id": "a108982d-4969-4b58-9134-f3c30d62efeb",
    "outputId": "da4b4048-5f07-4616-97ab-d67ab21c830e"
   },
   "outputs": [
    {
     "data": {
      "text/html": [
       "<div>\n",
       "<style scoped>\n",
       "    .dataframe tbody tr th:only-of-type {\n",
       "        vertical-align: middle;\n",
       "    }\n",
       "\n",
       "    .dataframe tbody tr th {\n",
       "        vertical-align: top;\n",
       "    }\n",
       "\n",
       "    .dataframe thead th {\n",
       "        text-align: right;\n",
       "    }\n",
       "</style>\n",
       "<table border=\"1\" class=\"dataframe\">\n",
       "  <thead>\n",
       "    <tr style=\"text-align: right;\">\n",
       "      <th></th>\n",
       "      <th>country</th>\n",
       "      <th>iso2</th>\n",
       "      <th>iso3</th>\n",
       "      <th>year</th>\n",
       "      <th>new_sp_m014</th>\n",
       "      <th>new_sp_m1524</th>\n",
       "      <th>new_sp_m2534</th>\n",
       "      <th>new_sp_m3544</th>\n",
       "      <th>new_sp_m4554</th>\n",
       "      <th>new_sp_m5564</th>\n",
       "      <th>...</th>\n",
       "      <th>newrel_m4554</th>\n",
       "      <th>newrel_m5564</th>\n",
       "      <th>newrel_m65</th>\n",
       "      <th>newrel_f014</th>\n",
       "      <th>newrel_f1524</th>\n",
       "      <th>newrel_f2534</th>\n",
       "      <th>newrel_f3544</th>\n",
       "      <th>newrel_f4554</th>\n",
       "      <th>newrel_f5564</th>\n",
       "      <th>newrel_f65</th>\n",
       "    </tr>\n",
       "  </thead>\n",
       "  <tbody>\n",
       "    <tr>\n",
       "      <th>0</th>\n",
       "      <td>Afghanistan</td>\n",
       "      <td>AF</td>\n",
       "      <td>AFG</td>\n",
       "      <td>1980</td>\n",
       "      <td>NaN</td>\n",
       "      <td>NaN</td>\n",
       "      <td>NaN</td>\n",
       "      <td>NaN</td>\n",
       "      <td>NaN</td>\n",
       "      <td>NaN</td>\n",
       "      <td>...</td>\n",
       "      <td>NaN</td>\n",
       "      <td>NaN</td>\n",
       "      <td>NaN</td>\n",
       "      <td>NaN</td>\n",
       "      <td>NaN</td>\n",
       "      <td>NaN</td>\n",
       "      <td>NaN</td>\n",
       "      <td>NaN</td>\n",
       "      <td>NaN</td>\n",
       "      <td>NaN</td>\n",
       "    </tr>\n",
       "    <tr>\n",
       "      <th>1</th>\n",
       "      <td>Afghanistan</td>\n",
       "      <td>AF</td>\n",
       "      <td>AFG</td>\n",
       "      <td>1981</td>\n",
       "      <td>NaN</td>\n",
       "      <td>NaN</td>\n",
       "      <td>NaN</td>\n",
       "      <td>NaN</td>\n",
       "      <td>NaN</td>\n",
       "      <td>NaN</td>\n",
       "      <td>...</td>\n",
       "      <td>NaN</td>\n",
       "      <td>NaN</td>\n",
       "      <td>NaN</td>\n",
       "      <td>NaN</td>\n",
       "      <td>NaN</td>\n",
       "      <td>NaN</td>\n",
       "      <td>NaN</td>\n",
       "      <td>NaN</td>\n",
       "      <td>NaN</td>\n",
       "      <td>NaN</td>\n",
       "    </tr>\n",
       "    <tr>\n",
       "      <th>2</th>\n",
       "      <td>Afghanistan</td>\n",
       "      <td>AF</td>\n",
       "      <td>AFG</td>\n",
       "      <td>1982</td>\n",
       "      <td>NaN</td>\n",
       "      <td>NaN</td>\n",
       "      <td>NaN</td>\n",
       "      <td>NaN</td>\n",
       "      <td>NaN</td>\n",
       "      <td>NaN</td>\n",
       "      <td>...</td>\n",
       "      <td>NaN</td>\n",
       "      <td>NaN</td>\n",
       "      <td>NaN</td>\n",
       "      <td>NaN</td>\n",
       "      <td>NaN</td>\n",
       "      <td>NaN</td>\n",
       "      <td>NaN</td>\n",
       "      <td>NaN</td>\n",
       "      <td>NaN</td>\n",
       "      <td>NaN</td>\n",
       "    </tr>\n",
       "    <tr>\n",
       "      <th>3</th>\n",
       "      <td>Afghanistan</td>\n",
       "      <td>AF</td>\n",
       "      <td>AFG</td>\n",
       "      <td>1983</td>\n",
       "      <td>NaN</td>\n",
       "      <td>NaN</td>\n",
       "      <td>NaN</td>\n",
       "      <td>NaN</td>\n",
       "      <td>NaN</td>\n",
       "      <td>NaN</td>\n",
       "      <td>...</td>\n",
       "      <td>NaN</td>\n",
       "      <td>NaN</td>\n",
       "      <td>NaN</td>\n",
       "      <td>NaN</td>\n",
       "      <td>NaN</td>\n",
       "      <td>NaN</td>\n",
       "      <td>NaN</td>\n",
       "      <td>NaN</td>\n",
       "      <td>NaN</td>\n",
       "      <td>NaN</td>\n",
       "    </tr>\n",
       "    <tr>\n",
       "      <th>4</th>\n",
       "      <td>Afghanistan</td>\n",
       "      <td>AF</td>\n",
       "      <td>AFG</td>\n",
       "      <td>1984</td>\n",
       "      <td>NaN</td>\n",
       "      <td>NaN</td>\n",
       "      <td>NaN</td>\n",
       "      <td>NaN</td>\n",
       "      <td>NaN</td>\n",
       "      <td>NaN</td>\n",
       "      <td>...</td>\n",
       "      <td>NaN</td>\n",
       "      <td>NaN</td>\n",
       "      <td>NaN</td>\n",
       "      <td>NaN</td>\n",
       "      <td>NaN</td>\n",
       "      <td>NaN</td>\n",
       "      <td>NaN</td>\n",
       "      <td>NaN</td>\n",
       "      <td>NaN</td>\n",
       "      <td>NaN</td>\n",
       "    </tr>\n",
       "  </tbody>\n",
       "</table>\n",
       "<p>5 rows × 60 columns</p>\n",
       "</div>"
      ],
      "text/plain": [
       "       country iso2 iso3  year  new_sp_m014  new_sp_m1524  new_sp_m2534  \\\n",
       "0  Afghanistan   AF  AFG  1980          NaN           NaN           NaN   \n",
       "1  Afghanistan   AF  AFG  1981          NaN           NaN           NaN   \n",
       "2  Afghanistan   AF  AFG  1982          NaN           NaN           NaN   \n",
       "3  Afghanistan   AF  AFG  1983          NaN           NaN           NaN   \n",
       "4  Afghanistan   AF  AFG  1984          NaN           NaN           NaN   \n",
       "\n",
       "   new_sp_m3544  new_sp_m4554  new_sp_m5564  ...  newrel_m4554  newrel_m5564  \\\n",
       "0           NaN           NaN           NaN  ...           NaN           NaN   \n",
       "1           NaN           NaN           NaN  ...           NaN           NaN   \n",
       "2           NaN           NaN           NaN  ...           NaN           NaN   \n",
       "3           NaN           NaN           NaN  ...           NaN           NaN   \n",
       "4           NaN           NaN           NaN  ...           NaN           NaN   \n",
       "\n",
       "   newrel_m65  newrel_f014  newrel_f1524  newrel_f2534  newrel_f3544  \\\n",
       "0         NaN          NaN           NaN           NaN           NaN   \n",
       "1         NaN          NaN           NaN           NaN           NaN   \n",
       "2         NaN          NaN           NaN           NaN           NaN   \n",
       "3         NaN          NaN           NaN           NaN           NaN   \n",
       "4         NaN          NaN           NaN           NaN           NaN   \n",
       "\n",
       "   newrel_f4554  newrel_f5564  newrel_f65  \n",
       "0           NaN           NaN         NaN  \n",
       "1           NaN           NaN         NaN  \n",
       "2           NaN           NaN         NaN  \n",
       "3           NaN           NaN         NaN  \n",
       "4           NaN           NaN         NaN  \n",
       "\n",
       "[5 rows x 60 columns]"
      ]
     },
     "execution_count": 3,
     "metadata": {},
     "output_type": "execute_result"
    }
   ],
   "source": [
    "df.head()"
   ]
  },
  {
   "cell_type": "code",
   "execution_count": 4,
   "id": "c179fa60-9de6-40ef-af29-77abf6b1390d",
   "metadata": {
    "colab": {
     "base_uri": "https://localhost:8080/"
    },
    "id": "c179fa60-9de6-40ef-af29-77abf6b1390d",
    "outputId": "49637823-7ea0-4a0b-f13a-6a2543d32500"
   },
   "outputs": [
    {
     "name": "stdout",
     "output_type": "stream",
     "text": [
      "<class 'pandas.core.frame.DataFrame'>\n",
      "RangeIndex: 7240 entries, 0 to 7239\n",
      "Data columns (total 58 columns):\n",
      " #   Column        Non-Null Count  Dtype  \n",
      "---  ------        --------------  -----  \n",
      " 0   country       7240 non-null   object \n",
      " 1   year          7240 non-null   int64  \n",
      " 2   new_sp_m014   3173 non-null   float64\n",
      " 3   new_sp_m1524  3209 non-null   float64\n",
      " 4   new_sp_m2534  3206 non-null   float64\n",
      " 5   new_sp_m3544  3219 non-null   float64\n",
      " 6   new_sp_m4554  3223 non-null   float64\n",
      " 7   new_sp_m5564  3218 non-null   float64\n",
      " 8   new_sp_m65    3209 non-null   float64\n",
      " 9   new_sp_f014   3174 non-null   float64\n",
      " 10  new_sp_f1524  3194 non-null   float64\n",
      " 11  new_sp_f2534  3200 non-null   float64\n",
      " 12  new_sp_f3544  3199 non-null   float64\n",
      " 13  new_sp_f4554  3204 non-null   float64\n",
      " 14  new_sp_f5564  3195 non-null   float64\n",
      " 15  new_sp_f65    3197 non-null   float64\n",
      " 16  new_sn_m014   1045 non-null   float64\n",
      " 17  new_sn_m1524  1030 non-null   float64\n",
      " 18  new_sn_m2534  1022 non-null   float64\n",
      " 19  new_sn_m3544  1025 non-null   float64\n",
      " 20  new_sn_m4554  1027 non-null   float64\n",
      " 21  new_sn_m5564  1021 non-null   float64\n",
      " 22  new_sn_m65    1020 non-null   float64\n",
      " 23  new_sn_f014   1040 non-null   float64\n",
      " 24  new_sn_f1524  1022 non-null   float64\n",
      " 25  new_sn_f2534  1016 non-null   float64\n",
      " 26  new_sn_f3544  1020 non-null   float64\n",
      " 27  new_sn_f4554  1018 non-null   float64\n",
      " 28  new_sn_f5564  1017 non-null   float64\n",
      " 29  new_sn_f65    1019 non-null   float64\n",
      " 30  new_ep_m014   1038 non-null   float64\n",
      " 31  new_ep_m1524  1026 non-null   float64\n",
      " 32  new_ep_m2534  1020 non-null   float64\n",
      " 33  new_ep_m3544  1024 non-null   float64\n",
      " 34  new_ep_m4554  1020 non-null   float64\n",
      " 35  new_ep_m5564  1015 non-null   float64\n",
      " 36  new_ep_m65    1018 non-null   float64\n",
      " 37  new_ep_f014   1032 non-null   float64\n",
      " 38  new_ep_f1524  1021 non-null   float64\n",
      " 39  new_ep_f2534  1021 non-null   float64\n",
      " 40  new_ep_f3544  1021 non-null   float64\n",
      " 41  new_ep_f4554  1017 non-null   float64\n",
      " 42  new_ep_f5564  1017 non-null   float64\n",
      " 43  new_ep_f65    1014 non-null   float64\n",
      " 44  newrel_m014   190 non-null    float64\n",
      " 45  newrel_m1524  182 non-null    float64\n",
      " 46  newrel_m2534  183 non-null    float64\n",
      " 47  newrel_m3544  184 non-null    float64\n",
      " 48  newrel_m4554  184 non-null    float64\n",
      " 49  newrel_m5564  185 non-null    float64\n",
      " 50  newrel_m65    182 non-null    float64\n",
      " 51  newrel_f014   190 non-null    float64\n",
      " 52  newrel_f1524  184 non-null    float64\n",
      " 53  newrel_f2534  182 non-null    float64\n",
      " 54  newrel_f3544  183 non-null    float64\n",
      " 55  newrel_f4554  183 non-null    float64\n",
      " 56  newrel_f5564  183 non-null    float64\n",
      " 57  newrel_f65    185 non-null    float64\n",
      "dtypes: float64(56), int64(1), object(1)\n",
      "memory usage: 3.2+ MB\n"
     ]
    }
   ],
   "source": [
    "df = df.drop(columns=['iso2', 'iso3'])\n",
    "df.info()"
   ]
  },
  {
   "cell_type": "markdown",
   "id": "7f4604ca-6ace-4460-8f44-52f7e6964461",
   "metadata": {
    "id": "7f4604ca-6ace-4460-8f44-52f7e6964461"
   },
   "source": [
    "# Question 1 - Answers"
   ]
  },
  {
   "cell_type": "code",
   "execution_count": 5,
   "id": "8bd05341-b787-4d89-9fc9-f45104f94056",
   "metadata": {
    "colab": {
     "base_uri": "https://localhost:8080/"
    },
    "id": "8bd05341-b787-4d89-9fc9-f45104f94056",
    "outputId": "7bbc5603-19c2-4291-abc8-187036e68e8e"
   },
   "outputs": [
    {
     "data": {
      "text/plain": [
       "Afghanistan                          34\n",
       "Netherlands                          34\n",
       "New Zealand                          34\n",
       "Nicaragua                            34\n",
       "Niger                                34\n",
       "                                     ..\n",
       "Serbia                                9\n",
       "Curacao                               4\n",
       "Bonaire, Saint Eustatius and Saba     4\n",
       "Sint Maarten (Dutch part)             4\n",
       "South Sudan                           3\n",
       "Name: country, Length: 219, dtype: int64"
      ]
     },
     "execution_count": 5,
     "metadata": {},
     "output_type": "execute_result"
    }
   ],
   "source": [
    "df['country'].value_counts()"
   ]
  },
  {
   "cell_type": "markdown",
   "id": "abb719c0-119e-4077-9f38-7421214e17b4",
   "metadata": {
    "id": "abb719c0-119e-4077-9f38-7421214e17b4"
   },
   "source": [
    "### a. How many countries are present?"
   ]
  },
  {
   "cell_type": "code",
   "execution_count": 6,
   "id": "e6e695a6-8e85-494d-bc18-630f80b75428",
   "metadata": {
    "colab": {
     "base_uri": "https://localhost:8080/"
    },
    "id": "e6e695a6-8e85-494d-bc18-630f80b75428",
    "outputId": "d838b821-8e8f-48d7-975c-3f9afb0bfe00"
   },
   "outputs": [
    {
     "data": {
      "text/plain": [
       "219"
      ]
     },
     "execution_count": 6,
     "metadata": {},
     "output_type": "execute_result"
    }
   ],
   "source": [
    "df['country'].nunique()"
   ]
  },
  {
   "cell_type": "markdown",
   "id": "9436bad3-89fa-4cd6-832d-048c9865eb01",
   "metadata": {
    "id": "9436bad3-89fa-4cd6-832d-048c9865eb01"
   },
   "source": [
    "### b.  What's the timespan of the data?"
   ]
  },
  {
   "cell_type": "code",
   "execution_count": 7,
   "id": "53928144-220c-4213-8a91-9e3ebfc3651f",
   "metadata": {
    "colab": {
     "base_uri": "https://localhost:8080/"
    },
    "id": "53928144-220c-4213-8a91-9e3ebfc3651f",
    "outputId": "e39d06fd-424c-4c97-83ac-33f5762e864c"
   },
   "outputs": [
    {
     "data": {
      "text/plain": [
       "34"
      ]
     },
     "execution_count": 7,
     "metadata": {},
     "output_type": "execute_result"
    }
   ],
   "source": [
    "max(df['year'])-min(df['year'])+1"
   ]
  },
  {
   "cell_type": "markdown",
   "id": "2a976314-a561-493b-b131-cfbad73064c8",
   "metadata": {
    "id": "2a976314-a561-493b-b131-cfbad73064c8"
   },
   "source": [
    "### c. Does each country have a row for every year present?"
   ]
  },
  {
   "cell_type": "code",
   "execution_count": 8,
   "id": "ea24961b-abf4-4af5-9e2f-1f9d36e86576",
   "metadata": {
    "id": "ea24961b-abf4-4af5-9e2f-1f9d36e86576"
   },
   "outputs": [],
   "source": [
    "num_of_years = df['year'].nunique()"
   ]
  },
  {
   "cell_type": "code",
   "execution_count": 9,
   "id": "f644a6bb-7dcb-4e29-9e54-3588117b0511",
   "metadata": {
    "id": "f644a6bb-7dcb-4e29-9e54-3588117b0511"
   },
   "outputs": [],
   "source": [
    "cntr_list = list(set(df['country'].tolist()))"
   ]
  },
  {
   "cell_type": "code",
   "execution_count": 10,
   "id": "ec5f9950-affb-459b-9e79-66f9b5b77549",
   "metadata": {
    "colab": {
     "base_uri": "https://localhost:8080/"
    },
    "id": "ec5f9950-affb-459b-9e79-66f9b5b77549",
    "outputId": "8a568f4f-ce64-4ea0-e57f-aded6208ccfa"
   },
   "outputs": [
    {
     "name": "stdout",
     "output_type": "stream",
     "text": [
      "NO\n"
     ]
    }
   ],
   "source": [
    "flag = 0\n",
    "for c in cntr_list:\n",
    "    if df[df['country'] == c]['year'].nunique() !=num_of_years:\n",
    "        flag = 1\n",
    "        break\n",
    "if flag ==0:\n",
    "    print(\"yes\")\n",
    "elif flag == 1:\n",
    "    print(\"NO\")"
   ]
  },
  {
   "cell_type": "markdown",
   "id": "dbaaac53-d872-4bba-9cd4-2dc1c8aeae4d",
   "metadata": {
    "id": "dbaaac53-d872-4bba-9cd4-2dc1c8aeae4d"
   },
   "source": [
    "##### Ans - No each country does not have a row for every year present, There are 9 such countries"
   ]
  },
  {
   "cell_type": "markdown",
   "id": "48c8742a-b6ac-46da-b73b-2d777a7a51ee",
   "metadata": {
    "id": "48c8742a-b6ac-46da-b73b-2d777a7a51ee"
   },
   "source": [
    "### d. Which countries are missing years?"
   ]
  },
  {
   "cell_type": "code",
   "execution_count": 11,
   "id": "ce661f31-9db1-4da0-9405-80c7435170cf",
   "metadata": {
    "id": "ce661f31-9db1-4da0-9405-80c7435170cf"
   },
   "outputs": [],
   "source": [
    "num_of_years = df['year'].nunique()\n",
    "cntr_list = list(set(df['country'].tolist()))"
   ]
  },
  {
   "cell_type": "code",
   "execution_count": 12,
   "id": "03b41ffb-008d-44cc-98b1-6413392290ed",
   "metadata": {
    "colab": {
     "base_uri": "https://localhost:8080/"
    },
    "id": "03b41ffb-008d-44cc-98b1-6413392290ed",
    "outputId": "f98a0e75-71bb-4fdd-829f-10046079ee3b"
   },
   "outputs": [
    {
     "name": "stdout",
     "output_type": "stream",
     "text": [
      "Serbia\n",
      "Sint Maarten (Dutch part)\n",
      "Montenegro\n",
      "Bonaire, Saint Eustatius and Saba\n",
      "Timor-Leste\n",
      "Netherlands Antilles\n",
      "Serbia & Montenegro\n",
      "Curacao\n",
      "South Sudan\n",
      "-----------\n",
      "9 countries have missing years\n"
     ]
    }
   ],
   "source": [
    "i = 0\n",
    "for c in cntr_list:\n",
    "    if df[df['country'] == c]['year'].nunique() !=num_of_years:\n",
    "        print(c)\n",
    "        i = i+1\n",
    "print(\"-----------\")\n",
    "print(str(i) + \" countries have missing years\")\n"
   ]
  },
  {
   "cell_type": "markdown",
   "id": "8e2ef449-2834-440b-ad85-6e2debc47423",
   "metadata": {
    "id": "8e2ef449-2834-440b-ad85-6e2debc47423"
   },
   "source": [
    "### e. How many rows have at least 1 non-null values across the columns 3-57?"
   ]
  },
  {
   "cell_type": "code",
   "execution_count": 13,
   "id": "42a4422a-63ca-4b52-8548-59eaa58db4a6",
   "metadata": {
    "colab": {
     "base_uri": "https://localhost:8080/"
    },
    "id": "42a4422a-63ca-4b52-8548-59eaa58db4a6",
    "outputId": "aee622d6-85c7-45ce-d87a-0edc26fefd91"
   },
   "outputs": [
    {
     "data": {
      "text/plain": [
       "3484"
      ]
     },
     "execution_count": 13,
     "metadata": {},
     "output_type": "execute_result"
    }
   ],
   "source": [
    "## removing all the rows which have null values for all the columns 3 - 57\n",
    "len(df.iloc[:,3:58].dropna(thresh = 1))\n"
   ]
  },
  {
   "cell_type": "markdown",
   "id": "335b524b-6878-47cc-a90c-b72480d88a1e",
   "metadata": {
    "id": "335b524b-6878-47cc-a90c-b72480d88a1e"
   },
   "source": [
    "## Question 2"
   ]
  },
  {
   "cell_type": "code",
   "execution_count": 14,
   "id": "6d6688c0-fcb8-4f46-8516-172cf3c11aca",
   "metadata": {
    "colab": {
     "base_uri": "https://localhost:8080/",
     "height": 300
    },
    "id": "6d6688c0-fcb8-4f46-8516-172cf3c11aca",
    "outputId": "340e4038-c604-47b8-f22c-7b80e3964f64"
   },
   "outputs": [
    {
     "data": {
      "text/html": [
       "<div>\n",
       "<style scoped>\n",
       "    .dataframe tbody tr th:only-of-type {\n",
       "        vertical-align: middle;\n",
       "    }\n",
       "\n",
       "    .dataframe tbody tr th {\n",
       "        vertical-align: top;\n",
       "    }\n",
       "\n",
       "    .dataframe thead th {\n",
       "        text-align: right;\n",
       "    }\n",
       "</style>\n",
       "<table border=\"1\" class=\"dataframe\">\n",
       "  <thead>\n",
       "    <tr style=\"text-align: right;\">\n",
       "      <th></th>\n",
       "      <th>country</th>\n",
       "      <th>year</th>\n",
       "      <th>new_sp_m014</th>\n",
       "      <th>new_sp_m1524</th>\n",
       "      <th>new_sp_m2534</th>\n",
       "      <th>new_sp_m3544</th>\n",
       "      <th>new_sp_m4554</th>\n",
       "      <th>new_sp_m5564</th>\n",
       "      <th>new_sp_m65</th>\n",
       "      <th>new_sp_f014</th>\n",
       "      <th>...</th>\n",
       "      <th>newrel_m4554</th>\n",
       "      <th>newrel_m5564</th>\n",
       "      <th>newrel_m65</th>\n",
       "      <th>newrel_f014</th>\n",
       "      <th>newrel_f1524</th>\n",
       "      <th>newrel_f2534</th>\n",
       "      <th>newrel_f3544</th>\n",
       "      <th>newrel_f4554</th>\n",
       "      <th>newrel_f5564</th>\n",
       "      <th>newrel_f65</th>\n",
       "    </tr>\n",
       "  </thead>\n",
       "  <tbody>\n",
       "    <tr>\n",
       "      <th>0</th>\n",
       "      <td>Afghanistan</td>\n",
       "      <td>1980</td>\n",
       "      <td>NaN</td>\n",
       "      <td>NaN</td>\n",
       "      <td>NaN</td>\n",
       "      <td>NaN</td>\n",
       "      <td>NaN</td>\n",
       "      <td>NaN</td>\n",
       "      <td>NaN</td>\n",
       "      <td>NaN</td>\n",
       "      <td>...</td>\n",
       "      <td>NaN</td>\n",
       "      <td>NaN</td>\n",
       "      <td>NaN</td>\n",
       "      <td>NaN</td>\n",
       "      <td>NaN</td>\n",
       "      <td>NaN</td>\n",
       "      <td>NaN</td>\n",
       "      <td>NaN</td>\n",
       "      <td>NaN</td>\n",
       "      <td>NaN</td>\n",
       "    </tr>\n",
       "    <tr>\n",
       "      <th>1</th>\n",
       "      <td>Afghanistan</td>\n",
       "      <td>1981</td>\n",
       "      <td>NaN</td>\n",
       "      <td>NaN</td>\n",
       "      <td>NaN</td>\n",
       "      <td>NaN</td>\n",
       "      <td>NaN</td>\n",
       "      <td>NaN</td>\n",
       "      <td>NaN</td>\n",
       "      <td>NaN</td>\n",
       "      <td>...</td>\n",
       "      <td>NaN</td>\n",
       "      <td>NaN</td>\n",
       "      <td>NaN</td>\n",
       "      <td>NaN</td>\n",
       "      <td>NaN</td>\n",
       "      <td>NaN</td>\n",
       "      <td>NaN</td>\n",
       "      <td>NaN</td>\n",
       "      <td>NaN</td>\n",
       "      <td>NaN</td>\n",
       "    </tr>\n",
       "    <tr>\n",
       "      <th>2</th>\n",
       "      <td>Afghanistan</td>\n",
       "      <td>1982</td>\n",
       "      <td>NaN</td>\n",
       "      <td>NaN</td>\n",
       "      <td>NaN</td>\n",
       "      <td>NaN</td>\n",
       "      <td>NaN</td>\n",
       "      <td>NaN</td>\n",
       "      <td>NaN</td>\n",
       "      <td>NaN</td>\n",
       "      <td>...</td>\n",
       "      <td>NaN</td>\n",
       "      <td>NaN</td>\n",
       "      <td>NaN</td>\n",
       "      <td>NaN</td>\n",
       "      <td>NaN</td>\n",
       "      <td>NaN</td>\n",
       "      <td>NaN</td>\n",
       "      <td>NaN</td>\n",
       "      <td>NaN</td>\n",
       "      <td>NaN</td>\n",
       "    </tr>\n",
       "    <tr>\n",
       "      <th>3</th>\n",
       "      <td>Afghanistan</td>\n",
       "      <td>1983</td>\n",
       "      <td>NaN</td>\n",
       "      <td>NaN</td>\n",
       "      <td>NaN</td>\n",
       "      <td>NaN</td>\n",
       "      <td>NaN</td>\n",
       "      <td>NaN</td>\n",
       "      <td>NaN</td>\n",
       "      <td>NaN</td>\n",
       "      <td>...</td>\n",
       "      <td>NaN</td>\n",
       "      <td>NaN</td>\n",
       "      <td>NaN</td>\n",
       "      <td>NaN</td>\n",
       "      <td>NaN</td>\n",
       "      <td>NaN</td>\n",
       "      <td>NaN</td>\n",
       "      <td>NaN</td>\n",
       "      <td>NaN</td>\n",
       "      <td>NaN</td>\n",
       "    </tr>\n",
       "    <tr>\n",
       "      <th>4</th>\n",
       "      <td>Afghanistan</td>\n",
       "      <td>1984</td>\n",
       "      <td>NaN</td>\n",
       "      <td>NaN</td>\n",
       "      <td>NaN</td>\n",
       "      <td>NaN</td>\n",
       "      <td>NaN</td>\n",
       "      <td>NaN</td>\n",
       "      <td>NaN</td>\n",
       "      <td>NaN</td>\n",
       "      <td>...</td>\n",
       "      <td>NaN</td>\n",
       "      <td>NaN</td>\n",
       "      <td>NaN</td>\n",
       "      <td>NaN</td>\n",
       "      <td>NaN</td>\n",
       "      <td>NaN</td>\n",
       "      <td>NaN</td>\n",
       "      <td>NaN</td>\n",
       "      <td>NaN</td>\n",
       "      <td>NaN</td>\n",
       "    </tr>\n",
       "  </tbody>\n",
       "</table>\n",
       "<p>5 rows × 58 columns</p>\n",
       "</div>"
      ],
      "text/plain": [
       "       country  year  new_sp_m014  new_sp_m1524  new_sp_m2534  new_sp_m3544  \\\n",
       "0  Afghanistan  1980          NaN           NaN           NaN           NaN   \n",
       "1  Afghanistan  1981          NaN           NaN           NaN           NaN   \n",
       "2  Afghanistan  1982          NaN           NaN           NaN           NaN   \n",
       "3  Afghanistan  1983          NaN           NaN           NaN           NaN   \n",
       "4  Afghanistan  1984          NaN           NaN           NaN           NaN   \n",
       "\n",
       "   new_sp_m4554  new_sp_m5564  new_sp_m65  new_sp_f014  ...  newrel_m4554  \\\n",
       "0           NaN           NaN         NaN          NaN  ...           NaN   \n",
       "1           NaN           NaN         NaN          NaN  ...           NaN   \n",
       "2           NaN           NaN         NaN          NaN  ...           NaN   \n",
       "3           NaN           NaN         NaN          NaN  ...           NaN   \n",
       "4           NaN           NaN         NaN          NaN  ...           NaN   \n",
       "\n",
       "   newrel_m5564  newrel_m65  newrel_f014  newrel_f1524  newrel_f2534  \\\n",
       "0           NaN         NaN          NaN           NaN           NaN   \n",
       "1           NaN         NaN          NaN           NaN           NaN   \n",
       "2           NaN         NaN          NaN           NaN           NaN   \n",
       "3           NaN         NaN          NaN           NaN           NaN   \n",
       "4           NaN         NaN          NaN           NaN           NaN   \n",
       "\n",
       "   newrel_f3544  newrel_f4554  newrel_f5564  newrel_f65  \n",
       "0           NaN           NaN           NaN         NaN  \n",
       "1           NaN           NaN           NaN         NaN  \n",
       "2           NaN           NaN           NaN         NaN  \n",
       "3           NaN           NaN           NaN         NaN  \n",
       "4           NaN           NaN           NaN         NaN  \n",
       "\n",
       "[5 rows x 58 columns]"
      ]
     },
     "execution_count": 14,
     "metadata": {},
     "output_type": "execute_result"
    }
   ],
   "source": [
    "df.head()"
   ]
  },
  {
   "cell_type": "code",
   "execution_count": 15,
   "id": "382a30de-62c4-48b4-9d32-ca94e3666885",
   "metadata": {
    "id": "382a30de-62c4-48b4-9d32-ca94e3666885"
   },
   "outputs": [],
   "source": [
    "df1 = pd.melt(df, id_vars = [\"country\",\"year\"],var_name=\"diagnosis method\",value_name = \"number of cases\")"
   ]
  },
  {
   "cell_type": "code",
   "execution_count": 16,
   "id": "fcaa6ec1-ba9a-4f2e-93d6-7475a566c221",
   "metadata": {
    "colab": {
     "base_uri": "https://localhost:8080/"
    },
    "id": "fcaa6ec1-ba9a-4f2e-93d6-7475a566c221",
    "outputId": "ce9e5306-0a5a-4566-803e-d1f6b660b621"
   },
   "outputs": [
    {
     "data": {
      "text/plain": [
       "new_sp_m014     7240\n",
       "new_sp_m1524    7240\n",
       "new_ep_m2534    7240\n",
       "new_ep_m3544    7240\n",
       "new_ep_m4554    7240\n",
       "new_ep_m5564    7240\n",
       "new_ep_m65      7240\n",
       "new_ep_f014     7240\n",
       "new_ep_f1524    7240\n",
       "new_ep_f2534    7240\n",
       "new_ep_f3544    7240\n",
       "new_ep_f4554    7240\n",
       "new_ep_f5564    7240\n",
       "new_ep_f65      7240\n",
       "newrel_m014     7240\n",
       "newrel_m1524    7240\n",
       "newrel_m2534    7240\n",
       "newrel_m3544    7240\n",
       "newrel_m4554    7240\n",
       "newrel_m5564    7240\n",
       "newrel_m65      7240\n",
       "newrel_f014     7240\n",
       "newrel_f1524    7240\n",
       "newrel_f2534    7240\n",
       "newrel_f3544    7240\n",
       "newrel_f4554    7240\n",
       "newrel_f5564    7240\n",
       "new_ep_m1524    7240\n",
       "new_ep_m014     7240\n",
       "new_sn_f65      7240\n",
       "new_sp_f65      7240\n",
       "new_sp_m2534    7240\n",
       "new_sp_m3544    7240\n",
       "new_sp_m4554    7240\n",
       "new_sp_m5564    7240\n",
       "new_sp_m65      7240\n",
       "new_sp_f014     7240\n",
       "new_sp_f1524    7240\n",
       "new_sp_f2534    7240\n",
       "new_sp_f3544    7240\n",
       "new_sp_f4554    7240\n",
       "new_sp_f5564    7240\n",
       "new_sn_m014     7240\n",
       "new_sn_f5564    7240\n",
       "new_sn_m1524    7240\n",
       "new_sn_m2534    7240\n",
       "new_sn_m3544    7240\n",
       "new_sn_m4554    7240\n",
       "new_sn_m5564    7240\n",
       "new_sn_m65      7240\n",
       "new_sn_f014     7240\n",
       "new_sn_f1524    7240\n",
       "new_sn_f2534    7240\n",
       "new_sn_f3544    7240\n",
       "new_sn_f4554    7240\n",
       "newrel_f65      7240\n",
       "Name: diagnosis method, dtype: int64"
      ]
     },
     "execution_count": 16,
     "metadata": {},
     "output_type": "execute_result"
    }
   ],
   "source": [
    "df1['diagnosis method'].value_counts()"
   ]
  },
  {
   "cell_type": "code",
   "execution_count": 17,
   "id": "ce3a1cf9-d1ee-456e-a6bc-3a1307d68fb4",
   "metadata": {
    "id": "ce3a1cf9-d1ee-456e-a6bc-3a1307d68fb4"
   },
   "outputs": [],
   "source": [
    "### By looking at the data , gender in the each column name starts at 7th position \n",
    "\n",
    "### By looking at the data, age in each column starts at 8th position\n",
    "def get_gender(x):\n",
    "    if x.startswith(\"new_sp\"):\n",
    "        return x[7]\n",
    "    elif x.startswith(\"new_ep\"):\n",
    "        return x[7]\n",
    "    elif x.startswith(\"new_sn\"):\n",
    "        return x[7]\n",
    "    elif x.startswith(\"newrel\"):\n",
    "        return x[7]\n",
    "def get_age(x):\n",
    "    if len(x[8:])==3:     ### if age has 3 values e.g,.new _sp_m014\n",
    "        return str(x[8])+\"-\"+str(x[9:])    \n",
    "    elif len(x[8:]) == 4:    ### if age has 4 values  e.g., new_sp_m1524\n",
    "        return str(x[8:10])+\"-\"+str(x[10:])\n",
    "    elif len(x[8:]) == 2:     ### if age has 2 values  2.g,. new_ep_m65\n",
    "        return str(x[8:]) + \" years or older\""
   ]
  },
  {
   "cell_type": "code",
   "execution_count": 18,
   "id": "318a2b17-0c0a-4b21-9561-e2e53d269b89",
   "metadata": {
    "id": "318a2b17-0c0a-4b21-9561-e2e53d269b89"
   },
   "outputs": [],
   "source": [
    "df1['gender'] = df1['diagnosis method'].apply(lambda x : get_gender(x))"
   ]
  },
  {
   "cell_type": "code",
   "execution_count": 19,
   "id": "ba691128-8a61-4d2d-bd4e-e7f26ab34f95",
   "metadata": {
    "id": "ba691128-8a61-4d2d-bd4e-e7f26ab34f95"
   },
   "outputs": [],
   "source": [
    "df1['age'] = df1['diagnosis method'].apply(lambda x : get_age(x))"
   ]
  },
  {
   "cell_type": "code",
   "execution_count": 20,
   "id": "92331f01-f5bf-4c14-b65e-cb67332693d0",
   "metadata": {
    "colab": {
     "base_uri": "https://localhost:8080/",
     "height": 424
    },
    "id": "92331f01-f5bf-4c14-b65e-cb67332693d0",
    "outputId": "c50dd31d-34b3-4daf-f256-bff926895442"
   },
   "outputs": [
    {
     "data": {
      "text/html": [
       "<div>\n",
       "<style scoped>\n",
       "    .dataframe tbody tr th:only-of-type {\n",
       "        vertical-align: middle;\n",
       "    }\n",
       "\n",
       "    .dataframe tbody tr th {\n",
       "        vertical-align: top;\n",
       "    }\n",
       "\n",
       "    .dataframe thead th {\n",
       "        text-align: right;\n",
       "    }\n",
       "</style>\n",
       "<table border=\"1\" class=\"dataframe\">\n",
       "  <thead>\n",
       "    <tr style=\"text-align: right;\">\n",
       "      <th></th>\n",
       "      <th>country</th>\n",
       "      <th>year</th>\n",
       "      <th>diagnosis method</th>\n",
       "      <th>number of cases</th>\n",
       "      <th>gender</th>\n",
       "      <th>age</th>\n",
       "    </tr>\n",
       "  </thead>\n",
       "  <tbody>\n",
       "    <tr>\n",
       "      <th>0</th>\n",
       "      <td>Afghanistan</td>\n",
       "      <td>1980</td>\n",
       "      <td>Pulmonary Smear (+)</td>\n",
       "      <td>NaN</td>\n",
       "      <td>m</td>\n",
       "      <td>0-14</td>\n",
       "    </tr>\n",
       "    <tr>\n",
       "      <th>1</th>\n",
       "      <td>Afghanistan</td>\n",
       "      <td>1981</td>\n",
       "      <td>Pulmonary Smear (+)</td>\n",
       "      <td>NaN</td>\n",
       "      <td>m</td>\n",
       "      <td>0-14</td>\n",
       "    </tr>\n",
       "    <tr>\n",
       "      <th>2</th>\n",
       "      <td>Afghanistan</td>\n",
       "      <td>1982</td>\n",
       "      <td>Pulmonary Smear (+)</td>\n",
       "      <td>NaN</td>\n",
       "      <td>m</td>\n",
       "      <td>0-14</td>\n",
       "    </tr>\n",
       "    <tr>\n",
       "      <th>3</th>\n",
       "      <td>Afghanistan</td>\n",
       "      <td>1983</td>\n",
       "      <td>Pulmonary Smear (+)</td>\n",
       "      <td>NaN</td>\n",
       "      <td>m</td>\n",
       "      <td>0-14</td>\n",
       "    </tr>\n",
       "    <tr>\n",
       "      <th>4</th>\n",
       "      <td>Afghanistan</td>\n",
       "      <td>1984</td>\n",
       "      <td>Pulmonary Smear (+)</td>\n",
       "      <td>NaN</td>\n",
       "      <td>m</td>\n",
       "      <td>0-14</td>\n",
       "    </tr>\n",
       "    <tr>\n",
       "      <th>...</th>\n",
       "      <td>...</td>\n",
       "      <td>...</td>\n",
       "      <td>...</td>\n",
       "      <td>...</td>\n",
       "      <td>...</td>\n",
       "      <td>...</td>\n",
       "    </tr>\n",
       "    <tr>\n",
       "      <th>405435</th>\n",
       "      <td>Zimbabwe</td>\n",
       "      <td>2009</td>\n",
       "      <td>Relapse</td>\n",
       "      <td>NaN</td>\n",
       "      <td>f</td>\n",
       "      <td>65 years or older</td>\n",
       "    </tr>\n",
       "    <tr>\n",
       "      <th>405436</th>\n",
       "      <td>Zimbabwe</td>\n",
       "      <td>2010</td>\n",
       "      <td>Relapse</td>\n",
       "      <td>NaN</td>\n",
       "      <td>f</td>\n",
       "      <td>65 years or older</td>\n",
       "    </tr>\n",
       "    <tr>\n",
       "      <th>405437</th>\n",
       "      <td>Zimbabwe</td>\n",
       "      <td>2011</td>\n",
       "      <td>Relapse</td>\n",
       "      <td>NaN</td>\n",
       "      <td>f</td>\n",
       "      <td>65 years or older</td>\n",
       "    </tr>\n",
       "    <tr>\n",
       "      <th>405438</th>\n",
       "      <td>Zimbabwe</td>\n",
       "      <td>2012</td>\n",
       "      <td>Relapse</td>\n",
       "      <td>NaN</td>\n",
       "      <td>f</td>\n",
       "      <td>65 years or older</td>\n",
       "    </tr>\n",
       "    <tr>\n",
       "      <th>405439</th>\n",
       "      <td>Zimbabwe</td>\n",
       "      <td>2013</td>\n",
       "      <td>Relapse</td>\n",
       "      <td>725.0</td>\n",
       "      <td>f</td>\n",
       "      <td>65 years or older</td>\n",
       "    </tr>\n",
       "  </tbody>\n",
       "</table>\n",
       "<p>405440 rows × 6 columns</p>\n",
       "</div>"
      ],
      "text/plain": [
       "            country  year     diagnosis method  number of cases gender  \\\n",
       "0       Afghanistan  1980  Pulmonary Smear (+)              NaN      m   \n",
       "1       Afghanistan  1981  Pulmonary Smear (+)              NaN      m   \n",
       "2       Afghanistan  1982  Pulmonary Smear (+)              NaN      m   \n",
       "3       Afghanistan  1983  Pulmonary Smear (+)              NaN      m   \n",
       "4       Afghanistan  1984  Pulmonary Smear (+)              NaN      m   \n",
       "...             ...   ...                  ...              ...    ...   \n",
       "405435     Zimbabwe  2009              Relapse              NaN      f   \n",
       "405436     Zimbabwe  2010              Relapse              NaN      f   \n",
       "405437     Zimbabwe  2011              Relapse              NaN      f   \n",
       "405438     Zimbabwe  2012              Relapse              NaN      f   \n",
       "405439     Zimbabwe  2013              Relapse            725.0      f   \n",
       "\n",
       "                      age  \n",
       "0                    0-14  \n",
       "1                    0-14  \n",
       "2                    0-14  \n",
       "3                    0-14  \n",
       "4                    0-14  \n",
       "...                   ...  \n",
       "405435  65 years or older  \n",
       "405436  65 years or older  \n",
       "405437  65 years or older  \n",
       "405438  65 years or older  \n",
       "405439  65 years or older  \n",
       "\n",
       "[405440 rows x 6 columns]"
      ]
     },
     "execution_count": 20,
     "metadata": {},
     "output_type": "execute_result"
    }
   ],
   "source": [
    "df1.replace({'diagnosis method': r'^new_sp.*$'}, {'diagnosis method': 'Pulmonary Smear (+)'}, regex=True,inplace = True)\n",
    "df1.replace({'diagnosis method': r'^new_sn.*$'}, {'diagnosis method': 'Pulmonary Smear (-)'}, regex=True,inplace = True)\n",
    "df1.replace({'diagnosis method': r'^new_ep.*$'}, {'diagnosis method': 'Extrapulmonary'}, regex=True, inplace = True)\n",
    "df1.replace({'diagnosis method': r'^newrel.*$'}, {'diagnosis method': 'Relapse'}, regex=True, inplace = True)\n",
    "df1"
   ]
  },
  {
   "cell_type": "markdown",
   "id": "98dbecae-0a5c-4e5c-a650-fbb2d7146d8f",
   "metadata": {
    "id": "98dbecae-0a5c-4e5c-a650-fbb2d7146d8f"
   },
   "source": [
    "## Question 3"
   ]
  },
  {
   "cell_type": "code",
   "execution_count": 20,
   "id": "9ce10e5e-1c1d-4276-b38b-dd2551001b79",
   "metadata": {
    "colab": {
     "base_uri": "https://localhost:8080/",
     "height": 206
    },
    "id": "9ce10e5e-1c1d-4276-b38b-dd2551001b79",
    "outputId": "da67886e-2a97-43c4-a35c-5bfa19e438a6"
   },
   "outputs": [
    {
     "data": {
      "text/html": [
       "\n",
       "  <div id=\"df-412c693d-661a-4535-9062-682183151eec\">\n",
       "    <div class=\"colab-df-container\">\n",
       "      <div>\n",
       "<style scoped>\n",
       "    .dataframe tbody tr th:only-of-type {\n",
       "        vertical-align: middle;\n",
       "    }\n",
       "\n",
       "    .dataframe tbody tr th {\n",
       "        vertical-align: top;\n",
       "    }\n",
       "\n",
       "    .dataframe thead th {\n",
       "        text-align: right;\n",
       "    }\n",
       "</style>\n",
       "<table border=\"1\" class=\"dataframe\">\n",
       "  <thead>\n",
       "    <tr style=\"text-align: right;\">\n",
       "      <th></th>\n",
       "      <th>country</th>\n",
       "      <th>year</th>\n",
       "      <th>diagnosis method</th>\n",
       "      <th>number of cases</th>\n",
       "      <th>gender</th>\n",
       "      <th>age</th>\n",
       "    </tr>\n",
       "  </thead>\n",
       "  <tbody>\n",
       "    <tr>\n",
       "      <th>0</th>\n",
       "      <td>Afghanistan</td>\n",
       "      <td>1980</td>\n",
       "      <td>Pulmonary Smear (+)</td>\n",
       "      <td>NaN</td>\n",
       "      <td>m</td>\n",
       "      <td>0-14</td>\n",
       "    </tr>\n",
       "    <tr>\n",
       "      <th>1</th>\n",
       "      <td>Afghanistan</td>\n",
       "      <td>1981</td>\n",
       "      <td>Pulmonary Smear (+)</td>\n",
       "      <td>NaN</td>\n",
       "      <td>m</td>\n",
       "      <td>0-14</td>\n",
       "    </tr>\n",
       "    <tr>\n",
       "      <th>2</th>\n",
       "      <td>Afghanistan</td>\n",
       "      <td>1982</td>\n",
       "      <td>Pulmonary Smear (+)</td>\n",
       "      <td>NaN</td>\n",
       "      <td>m</td>\n",
       "      <td>0-14</td>\n",
       "    </tr>\n",
       "    <tr>\n",
       "      <th>3</th>\n",
       "      <td>Afghanistan</td>\n",
       "      <td>1983</td>\n",
       "      <td>Pulmonary Smear (+)</td>\n",
       "      <td>NaN</td>\n",
       "      <td>m</td>\n",
       "      <td>0-14</td>\n",
       "    </tr>\n",
       "    <tr>\n",
       "      <th>4</th>\n",
       "      <td>Afghanistan</td>\n",
       "      <td>1984</td>\n",
       "      <td>Pulmonary Smear (+)</td>\n",
       "      <td>NaN</td>\n",
       "      <td>m</td>\n",
       "      <td>0-14</td>\n",
       "    </tr>\n",
       "  </tbody>\n",
       "</table>\n",
       "</div>\n",
       "      <button class=\"colab-df-convert\" onclick=\"convertToInteractive('df-412c693d-661a-4535-9062-682183151eec')\"\n",
       "              title=\"Convert this dataframe to an interactive table.\"\n",
       "              style=\"display:none;\">\n",
       "        \n",
       "  <svg xmlns=\"http://www.w3.org/2000/svg\" height=\"24px\"viewBox=\"0 0 24 24\"\n",
       "       width=\"24px\">\n",
       "    <path d=\"M0 0h24v24H0V0z\" fill=\"none\"/>\n",
       "    <path d=\"M18.56 5.44l.94 2.06.94-2.06 2.06-.94-2.06-.94-.94-2.06-.94 2.06-2.06.94zm-11 1L8.5 8.5l.94-2.06 2.06-.94-2.06-.94L8.5 2.5l-.94 2.06-2.06.94zm10 10l.94 2.06.94-2.06 2.06-.94-2.06-.94-.94-2.06-.94 2.06-2.06.94z\"/><path d=\"M17.41 7.96l-1.37-1.37c-.4-.4-.92-.59-1.43-.59-.52 0-1.04.2-1.43.59L10.3 9.45l-7.72 7.72c-.78.78-.78 2.05 0 2.83L4 21.41c.39.39.9.59 1.41.59.51 0 1.02-.2 1.41-.59l7.78-7.78 2.81-2.81c.8-.78.8-2.07 0-2.86zM5.41 20L4 18.59l7.72-7.72 1.47 1.35L5.41 20z\"/>\n",
       "  </svg>\n",
       "      </button>\n",
       "      \n",
       "  <style>\n",
       "    .colab-df-container {\n",
       "      display:flex;\n",
       "      flex-wrap:wrap;\n",
       "      gap: 12px;\n",
       "    }\n",
       "\n",
       "    .colab-df-convert {\n",
       "      background-color: #E8F0FE;\n",
       "      border: none;\n",
       "      border-radius: 50%;\n",
       "      cursor: pointer;\n",
       "      display: none;\n",
       "      fill: #1967D2;\n",
       "      height: 32px;\n",
       "      padding: 0 0 0 0;\n",
       "      width: 32px;\n",
       "    }\n",
       "\n",
       "    .colab-df-convert:hover {\n",
       "      background-color: #E2EBFA;\n",
       "      box-shadow: 0px 1px 2px rgba(60, 64, 67, 0.3), 0px 1px 3px 1px rgba(60, 64, 67, 0.15);\n",
       "      fill: #174EA6;\n",
       "    }\n",
       "\n",
       "    [theme=dark] .colab-df-convert {\n",
       "      background-color: #3B4455;\n",
       "      fill: #D2E3FC;\n",
       "    }\n",
       "\n",
       "    [theme=dark] .colab-df-convert:hover {\n",
       "      background-color: #434B5C;\n",
       "      box-shadow: 0px 1px 3px 1px rgba(0, 0, 0, 0.15);\n",
       "      filter: drop-shadow(0px 1px 2px rgba(0, 0, 0, 0.3));\n",
       "      fill: #FFFFFF;\n",
       "    }\n",
       "  </style>\n",
       "\n",
       "      <script>\n",
       "        const buttonEl =\n",
       "          document.querySelector('#df-412c693d-661a-4535-9062-682183151eec button.colab-df-convert');\n",
       "        buttonEl.style.display =\n",
       "          google.colab.kernel.accessAllowed ? 'block' : 'none';\n",
       "\n",
       "        async function convertToInteractive(key) {\n",
       "          const element = document.querySelector('#df-412c693d-661a-4535-9062-682183151eec');\n",
       "          const dataTable =\n",
       "            await google.colab.kernel.invokeFunction('convertToInteractive',\n",
       "                                                     [key], {});\n",
       "          if (!dataTable) return;\n",
       "\n",
       "          const docLinkHtml = 'Like what you see? Visit the ' +\n",
       "            '<a target=\"_blank\" href=https://colab.research.google.com/notebooks/data_table.ipynb>data table notebook</a>'\n",
       "            + ' to learn more about interactive tables.';\n",
       "          element.innerHTML = '';\n",
       "          dataTable['output_type'] = 'display_data';\n",
       "          await google.colab.output.renderOutput(dataTable, element);\n",
       "          const docLink = document.createElement('div');\n",
       "          docLink.innerHTML = docLinkHtml;\n",
       "          element.appendChild(docLink);\n",
       "        }\n",
       "      </script>\n",
       "    </div>\n",
       "  </div>\n",
       "  "
      ],
      "text/plain": [
       "       country  year     diagnosis method  number of cases gender   age\n",
       "0  Afghanistan  1980  Pulmonary Smear (+)              NaN      m  0-14\n",
       "1  Afghanistan  1981  Pulmonary Smear (+)              NaN      m  0-14\n",
       "2  Afghanistan  1982  Pulmonary Smear (+)              NaN      m  0-14\n",
       "3  Afghanistan  1983  Pulmonary Smear (+)              NaN      m  0-14\n",
       "4  Afghanistan  1984  Pulmonary Smear (+)              NaN      m  0-14"
      ]
     },
     "execution_count": 20,
     "metadata": {},
     "output_type": "execute_result"
    }
   ],
   "source": [
    "df1.head()"
   ]
  },
  {
   "cell_type": "code",
   "execution_count": 21,
   "id": "69b069c6-ca74-4361-85cf-685ef9523b05",
   "metadata": {
    "colab": {
     "base_uri": "https://localhost:8080/"
    },
    "id": "69b069c6-ca74-4361-85cf-685ef9523b05",
    "outputId": "9983c7da-afc7-402d-ff68-8e1135af7981"
   },
   "outputs": [
    {
     "data": {
      "text/plain": [
       "64966"
      ]
     },
     "execution_count": 21,
     "metadata": {},
     "output_type": "execute_result"
    }
   ],
   "source": [
    "df2 = df1[~df1['number of cases'].isna()] ## removing rows where number of cases is unknown\n",
    "df2 = df2[df2['number of cases'] > 0] ## removing because when 0 cases in any year, that year is not required\n",
    "len(df2)"
   ]
  },
  {
   "cell_type": "code",
   "execution_count": 22,
   "id": "8a9ea240-ad42-47db-b907-a26825c9127b",
   "metadata": {
    "id": "8a9ea240-ad42-47db-b907-a26825c9127b"
   },
   "outputs": [],
   "source": [
    "df_grouped = df2.groupby('country')['year'].min().reset_index()  ## for each country, getting the starting year from when cases started"
   ]
  },
  {
   "cell_type": "code",
   "execution_count": 26,
   "id": "tkQXzEJqYwQP",
   "metadata": {
    "colab": {
     "base_uri": "https://localhost:8080/",
     "height": 206
    },
    "id": "tkQXzEJqYwQP",
    "outputId": "337295af-2ed0-4328-d5ee-a8df91e7bc1f"
   },
   "outputs": [
    {
     "data": {
      "text/html": [
       "\n",
       "  <div id=\"df-32419093-b67d-43dd-a7ac-56889fc6f9a1\">\n",
       "    <div class=\"colab-df-container\">\n",
       "      <div>\n",
       "<style scoped>\n",
       "    .dataframe tbody tr th:only-of-type {\n",
       "        vertical-align: middle;\n",
       "    }\n",
       "\n",
       "    .dataframe tbody tr th {\n",
       "        vertical-align: top;\n",
       "    }\n",
       "\n",
       "    .dataframe thead th {\n",
       "        text-align: right;\n",
       "    }\n",
       "</style>\n",
       "<table border=\"1\" class=\"dataframe\">\n",
       "  <thead>\n",
       "    <tr style=\"text-align: right;\">\n",
       "      <th></th>\n",
       "      <th>country</th>\n",
       "      <th>year</th>\n",
       "    </tr>\n",
       "  </thead>\n",
       "  <tbody>\n",
       "    <tr>\n",
       "      <th>0</th>\n",
       "      <td>Afghanistan</td>\n",
       "      <td>1997</td>\n",
       "    </tr>\n",
       "    <tr>\n",
       "      <th>1</th>\n",
       "      <td>Albania</td>\n",
       "      <td>1995</td>\n",
       "    </tr>\n",
       "    <tr>\n",
       "      <th>2</th>\n",
       "      <td>Algeria</td>\n",
       "      <td>1997</td>\n",
       "    </tr>\n",
       "    <tr>\n",
       "      <th>3</th>\n",
       "      <td>American Samoa</td>\n",
       "      <td>1997</td>\n",
       "    </tr>\n",
       "    <tr>\n",
       "      <th>4</th>\n",
       "      <td>Andorra</td>\n",
       "      <td>1996</td>\n",
       "    </tr>\n",
       "  </tbody>\n",
       "</table>\n",
       "</div>\n",
       "      <button class=\"colab-df-convert\" onclick=\"convertToInteractive('df-32419093-b67d-43dd-a7ac-56889fc6f9a1')\"\n",
       "              title=\"Convert this dataframe to an interactive table.\"\n",
       "              style=\"display:none;\">\n",
       "        \n",
       "  <svg xmlns=\"http://www.w3.org/2000/svg\" height=\"24px\"viewBox=\"0 0 24 24\"\n",
       "       width=\"24px\">\n",
       "    <path d=\"M0 0h24v24H0V0z\" fill=\"none\"/>\n",
       "    <path d=\"M18.56 5.44l.94 2.06.94-2.06 2.06-.94-2.06-.94-.94-2.06-.94 2.06-2.06.94zm-11 1L8.5 8.5l.94-2.06 2.06-.94-2.06-.94L8.5 2.5l-.94 2.06-2.06.94zm10 10l.94 2.06.94-2.06 2.06-.94-2.06-.94-.94-2.06-.94 2.06-2.06.94z\"/><path d=\"M17.41 7.96l-1.37-1.37c-.4-.4-.92-.59-1.43-.59-.52 0-1.04.2-1.43.59L10.3 9.45l-7.72 7.72c-.78.78-.78 2.05 0 2.83L4 21.41c.39.39.9.59 1.41.59.51 0 1.02-.2 1.41-.59l7.78-7.78 2.81-2.81c.8-.78.8-2.07 0-2.86zM5.41 20L4 18.59l7.72-7.72 1.47 1.35L5.41 20z\"/>\n",
       "  </svg>\n",
       "      </button>\n",
       "      \n",
       "  <style>\n",
       "    .colab-df-container {\n",
       "      display:flex;\n",
       "      flex-wrap:wrap;\n",
       "      gap: 12px;\n",
       "    }\n",
       "\n",
       "    .colab-df-convert {\n",
       "      background-color: #E8F0FE;\n",
       "      border: none;\n",
       "      border-radius: 50%;\n",
       "      cursor: pointer;\n",
       "      display: none;\n",
       "      fill: #1967D2;\n",
       "      height: 32px;\n",
       "      padding: 0 0 0 0;\n",
       "      width: 32px;\n",
       "    }\n",
       "\n",
       "    .colab-df-convert:hover {\n",
       "      background-color: #E2EBFA;\n",
       "      box-shadow: 0px 1px 2px rgba(60, 64, 67, 0.3), 0px 1px 3px 1px rgba(60, 64, 67, 0.15);\n",
       "      fill: #174EA6;\n",
       "    }\n",
       "\n",
       "    [theme=dark] .colab-df-convert {\n",
       "      background-color: #3B4455;\n",
       "      fill: #D2E3FC;\n",
       "    }\n",
       "\n",
       "    [theme=dark] .colab-df-convert:hover {\n",
       "      background-color: #434B5C;\n",
       "      box-shadow: 0px 1px 3px 1px rgba(0, 0, 0, 0.15);\n",
       "      filter: drop-shadow(0px 1px 2px rgba(0, 0, 0, 0.3));\n",
       "      fill: #FFFFFF;\n",
       "    }\n",
       "  </style>\n",
       "\n",
       "      <script>\n",
       "        const buttonEl =\n",
       "          document.querySelector('#df-32419093-b67d-43dd-a7ac-56889fc6f9a1 button.colab-df-convert');\n",
       "        buttonEl.style.display =\n",
       "          google.colab.kernel.accessAllowed ? 'block' : 'none';\n",
       "\n",
       "        async function convertToInteractive(key) {\n",
       "          const element = document.querySelector('#df-32419093-b67d-43dd-a7ac-56889fc6f9a1');\n",
       "          const dataTable =\n",
       "            await google.colab.kernel.invokeFunction('convertToInteractive',\n",
       "                                                     [key], {});\n",
       "          if (!dataTable) return;\n",
       "\n",
       "          const docLinkHtml = 'Like what you see? Visit the ' +\n",
       "            '<a target=\"_blank\" href=https://colab.research.google.com/notebooks/data_table.ipynb>data table notebook</a>'\n",
       "            + ' to learn more about interactive tables.';\n",
       "          element.innerHTML = '';\n",
       "          dataTable['output_type'] = 'display_data';\n",
       "          await google.colab.output.renderOutput(dataTable, element);\n",
       "          const docLink = document.createElement('div');\n",
       "          docLink.innerHTML = docLinkHtml;\n",
       "          element.appendChild(docLink);\n",
       "        }\n",
       "      </script>\n",
       "    </div>\n",
       "  </div>\n",
       "  "
      ],
      "text/plain": [
       "          country  year\n",
       "0     Afghanistan  1997\n",
       "1         Albania  1995\n",
       "2         Algeria  1997\n",
       "3  American Samoa  1997\n",
       "4         Andorra  1996"
      ]
     },
     "execution_count": 26,
     "metadata": {},
     "output_type": "execute_result"
    }
   ],
   "source": [
    "df_grouped.head()"
   ]
  },
  {
   "cell_type": "code",
   "execution_count": 42,
   "id": "tFYKsNC7TRZK",
   "metadata": {
    "colab": {
     "base_uri": "https://localhost:8080/",
     "height": 1000
    },
    "id": "tFYKsNC7TRZK",
    "outputId": "5917fc8b-25d1-4082-de97-32325f8732ba"
   },
   "outputs": [
    {
     "data": {
      "image/png": "[encoded data removed]",
      "text/plain": [
       "<Figure size 1080x1080 with 1 Axes>"
      ]
     },
     "metadata": {
      "needs_background": "light"
     },
     "output_type": "display_data"
    }
   ],
   "source": [
    "import seaborn as sns\n",
    "plt.figure(figsize=(15,15))\n",
    "ax = sns.lineplot(y=df_grouped['year'], x=df_grouped[:40]['country'])  # showing graph for few countries\n",
    "ax.tick_params(axis='x', rotation=90)\n",
    "plt.title(\"starting year when cases started for each year\")\n",
    "plt.xlabel(\"Country\")\n",
    "plt.ylabel(\"Year\")\n",
    "plt.ylim(min(df_grouped['year']),max(df_grouped['year']))\n",
    "plt.show()"
   ]
  },
  {
   "cell_type": "code",
   "execution_count": null,
   "id": "FX3O2jayYl4T",
   "metadata": {
    "id": "FX3O2jayYl4T"
   },
   "outputs": [],
   "source": []
  }
 ],
 "metadata": {
  "colab": {
   "provenance": []
  },
  "kernelspec": {
   "display_name": "Python 3 (ipykernel)",
   "language": "python",
   "name": "python3"
  },
  "language_info": {
   "codemirror_mode": {
    "name": "ipython",
    "version": 3
   },
   "file_extension": ".py",
   "mimetype": "text/x-python",
   "name": "python",
   "nbconvert_exporter": "python",
   "pygments_lexer": "ipython3",
   "version": "3.10.7"
  }
 },
 "nbformat": 4,
 "nbformat_minor": 5
}
